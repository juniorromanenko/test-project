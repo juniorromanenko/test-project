{
 "cells": [
  {
   "cell_type": "markdown",
   "metadata": {
    "toc": true
   },
   "source": [
    "<h1>Содержание<span class=\"tocSkip\"></span></h1>\n",
    "<div class=\"toc\"><ul class=\"toc-item\"><li><span><a href=\"#Подготовка-данных\" data-toc-modified-id=\"Подготовка-данных-1\"><span class=\"toc-item-num\">1&nbsp;&nbsp;</span>Подготовка данных</a></span></li><li><span><a href=\"#Исследование-задачи\" data-toc-modified-id=\"Исследование-задачи-2\"><span class=\"toc-item-num\">2&nbsp;&nbsp;</span>Исследование задачи</a></span></li><li><span><a href=\"#Борьба-с-дисбалансом\" data-toc-modified-id=\"Борьба-с-дисбалансом-3\"><span class=\"toc-item-num\">3&nbsp;&nbsp;</span>Борьба с дисбалансом</a></span></li><li><span><a href=\"#Тестирование-модели\" data-toc-modified-id=\"Тестирование-модели-4\"><span class=\"toc-item-num\">4&nbsp;&nbsp;</span>Тестирование модели</a></span></li></ul></div>"
   ]
  },
  {
   "cell_type": "code",
   "execution_count": 4,
   "metadata": {},
   "outputs": [
    {
     "name": "stdout",
     "output_type": "stream",
     "text": [
      "Defaulting to user installation because normal site-packages is not writeable\n",
      "Collecting scikit-learn\n",
      "  Downloading scikit_learn-1.0.1-cp37-cp37m-manylinux_2_12_x86_64.manylinux2010_x86_64.whl (23.2 MB)\n",
      "\u001b[K     |████████████████████████████████| 23.2 MB 132 kB/s eta 0:00:01\n",
      "\u001b[?25hRequirement already satisfied, skipping upgrade: numpy>=1.14.6 in /opt/conda/lib/python3.7/site-packages (from scikit-learn) (1.19.5)\n",
      "Requirement already satisfied, skipping upgrade: scipy>=1.1.0 in /opt/conda/lib/python3.7/site-packages (from scikit-learn) (1.4.1)\n",
      "Requirement already satisfied, skipping upgrade: joblib>=0.11 in /opt/conda/lib/python3.7/site-packages (from scikit-learn) (1.0.1)\n",
      "Collecting threadpoolctl>=2.0.0\n",
      "  Downloading threadpoolctl-3.0.0-py3-none-any.whl (14 kB)\n",
      "Installing collected packages: threadpoolctl, scikit-learn\n",
      "Successfully installed scikit-learn-1.0.1 threadpoolctl-3.0.0\n"
     ]
    }
   ],
   "source": [
    "!pip install -U scikit-learn"
   ]
  },
  {
   "cell_type": "markdown",
   "metadata": {},
   "source": [
    "# Отток клиентов"
   ]
  },
  {
   "cell_type": "code",
   "execution_count": 5,
   "metadata": {},
   "outputs": [],
   "source": [
    "import pandas as pd\n",
    "from sklearn.preprocessing import StandardScaler\n",
    "from sklearn.model_selection import train_test_split\n",
    "from sklearn.ensemble import RandomForestClassifier\n",
    "from sklearn.tree import DecisionTreeClassifier\n",
    "from sklearn.linear_model import LogisticRegression\n",
    "from sklearn.model_selection import GridSearchCV\n",
    "from sklearn import metrics\n",
    "from sklearn.metrics import f1_score\n",
    "from sklearn.utils import shuffle\n",
    "import warnings                                                    # импортирую нужные библиотеки\n",
    "import matplotlib.pyplot as plt\n",
    "from sklearn.ensemble import AdaBoostClassifier\n",
    "import numpy as np\n",
    "import sklearn\n",
    "from sklearn.impute import KNNImputer\n",
    "from sklearn.compose import ColumnTransformer\n",
    "from sklearn.pipeline import Pipeline\n",
    "from sklearn.model_selection import RandomizedSearchCV\n",
    "from sklearn.metrics import roc_auc_score"
   ]
  },
  {
   "cell_type": "markdown",
   "metadata": {},
   "source": [
    "## Подготовка данных"
   ]
  },
  {
   "cell_type": "code",
   "execution_count": 6,
   "metadata": {
    "scrolled": true
   },
   "outputs": [
    {
     "data": {
      "text/html": [
       "<div>\n",
       "<style scoped>\n",
       "    .dataframe tbody tr th:only-of-type {\n",
       "        vertical-align: middle;\n",
       "    }\n",
       "\n",
       "    .dataframe tbody tr th {\n",
       "        vertical-align: top;\n",
       "    }\n",
       "\n",
       "    .dataframe thead th {\n",
       "        text-align: right;\n",
       "    }\n",
       "</style>\n",
       "<table border=\"1\" class=\"dataframe\">\n",
       "  <thead>\n",
       "    <tr style=\"text-align: right;\">\n",
       "      <th></th>\n",
       "      <th>RowNumber</th>\n",
       "      <th>CustomerId</th>\n",
       "      <th>Surname</th>\n",
       "      <th>CreditScore</th>\n",
       "      <th>Geography</th>\n",
       "      <th>Gender</th>\n",
       "      <th>Age</th>\n",
       "      <th>Tenure</th>\n",
       "      <th>Balance</th>\n",
       "      <th>NumOfProducts</th>\n",
       "      <th>HasCrCard</th>\n",
       "      <th>IsActiveMember</th>\n",
       "      <th>EstimatedSalary</th>\n",
       "      <th>Exited</th>\n",
       "    </tr>\n",
       "  </thead>\n",
       "  <tbody>\n",
       "    <tr>\n",
       "      <td>0</td>\n",
       "      <td>1</td>\n",
       "      <td>15634602</td>\n",
       "      <td>Hargrave</td>\n",
       "      <td>619</td>\n",
       "      <td>France</td>\n",
       "      <td>Female</td>\n",
       "      <td>42</td>\n",
       "      <td>2.0</td>\n",
       "      <td>0.00</td>\n",
       "      <td>1</td>\n",
       "      <td>1</td>\n",
       "      <td>1</td>\n",
       "      <td>101348.88</td>\n",
       "      <td>1</td>\n",
       "    </tr>\n",
       "    <tr>\n",
       "      <td>1</td>\n",
       "      <td>2</td>\n",
       "      <td>15647311</td>\n",
       "      <td>Hill</td>\n",
       "      <td>608</td>\n",
       "      <td>Spain</td>\n",
       "      <td>Female</td>\n",
       "      <td>41</td>\n",
       "      <td>1.0</td>\n",
       "      <td>83807.86</td>\n",
       "      <td>1</td>\n",
       "      <td>0</td>\n",
       "      <td>1</td>\n",
       "      <td>112542.58</td>\n",
       "      <td>0</td>\n",
       "    </tr>\n",
       "    <tr>\n",
       "      <td>2</td>\n",
       "      <td>3</td>\n",
       "      <td>15619304</td>\n",
       "      <td>Onio</td>\n",
       "      <td>502</td>\n",
       "      <td>France</td>\n",
       "      <td>Female</td>\n",
       "      <td>42</td>\n",
       "      <td>8.0</td>\n",
       "      <td>159660.80</td>\n",
       "      <td>3</td>\n",
       "      <td>1</td>\n",
       "      <td>0</td>\n",
       "      <td>113931.57</td>\n",
       "      <td>1</td>\n",
       "    </tr>\n",
       "    <tr>\n",
       "      <td>3</td>\n",
       "      <td>4</td>\n",
       "      <td>15701354</td>\n",
       "      <td>Boni</td>\n",
       "      <td>699</td>\n",
       "      <td>France</td>\n",
       "      <td>Female</td>\n",
       "      <td>39</td>\n",
       "      <td>1.0</td>\n",
       "      <td>0.00</td>\n",
       "      <td>2</td>\n",
       "      <td>0</td>\n",
       "      <td>0</td>\n",
       "      <td>93826.63</td>\n",
       "      <td>0</td>\n",
       "    </tr>\n",
       "    <tr>\n",
       "      <td>4</td>\n",
       "      <td>5</td>\n",
       "      <td>15737888</td>\n",
       "      <td>Mitchell</td>\n",
       "      <td>850</td>\n",
       "      <td>Spain</td>\n",
       "      <td>Female</td>\n",
       "      <td>43</td>\n",
       "      <td>2.0</td>\n",
       "      <td>125510.82</td>\n",
       "      <td>1</td>\n",
       "      <td>1</td>\n",
       "      <td>1</td>\n",
       "      <td>79084.10</td>\n",
       "      <td>0</td>\n",
       "    </tr>\n",
       "  </tbody>\n",
       "</table>\n",
       "</div>"
      ],
      "text/plain": [
       "   RowNumber  CustomerId   Surname  CreditScore Geography  Gender  Age  \\\n",
       "0          1    15634602  Hargrave          619    France  Female   42   \n",
       "1          2    15647311      Hill          608     Spain  Female   41   \n",
       "2          3    15619304      Onio          502    France  Female   42   \n",
       "3          4    15701354      Boni          699    France  Female   39   \n",
       "4          5    15737888  Mitchell          850     Spain  Female   43   \n",
       "\n",
       "   Tenure    Balance  NumOfProducts  HasCrCard  IsActiveMember  \\\n",
       "0     2.0       0.00              1          1               1   \n",
       "1     1.0   83807.86              1          0               1   \n",
       "2     8.0  159660.80              3          1               0   \n",
       "3     1.0       0.00              2          0               0   \n",
       "4     2.0  125510.82              1          1               1   \n",
       "\n",
       "   EstimatedSalary  Exited  \n",
       "0        101348.88       1  \n",
       "1        112542.58       0  \n",
       "2        113931.57       1  \n",
       "3         93826.63       0  \n",
       "4         79084.10       0  "
      ]
     },
     "execution_count": 6,
     "metadata": {},
     "output_type": "execute_result"
    }
   ],
   "source": [
    "df = pd.read_csv('/datasets/Churn.csv')\n",
    "df.head()                                      # загружаю и просматриваю датасет"
   ]
  },
  {
   "cell_type": "code",
   "execution_count": 7,
   "metadata": {},
   "outputs": [],
   "source": [
    "df_knn = df.copy()      # создаю копию датасета для заполнения пропусков с помозью KNNImputer"
   ]
  },
  {
   "cell_type": "code",
   "execution_count": 8,
   "metadata": {},
   "outputs": [
    {
     "name": "stdout",
     "output_type": "stream",
     "text": [
      "<class 'pandas.core.frame.DataFrame'>\n",
      "RangeIndex: 10000 entries, 0 to 9999\n",
      "Data columns (total 14 columns):\n",
      "RowNumber          10000 non-null int64\n",
      "CustomerId         10000 non-null int64\n",
      "Surname            10000 non-null object\n",
      "CreditScore        10000 non-null int64\n",
      "Geography          10000 non-null object\n",
      "Gender             10000 non-null object\n",
      "Age                10000 non-null int64\n",
      "Tenure             9091 non-null float64\n",
      "Balance            10000 non-null float64\n",
      "NumOfProducts      10000 non-null int64\n",
      "HasCrCard          10000 non-null int64\n",
      "IsActiveMember     10000 non-null int64\n",
      "EstimatedSalary    10000 non-null float64\n",
      "Exited             10000 non-null int64\n",
      "dtypes: float64(3), int64(8), object(3)\n",
      "memory usage: 1.1+ MB\n"
     ]
    }
   ],
   "source": [
    "df.info()    # просматриваю информацию"
   ]
  },
  {
   "cell_type": "code",
   "execution_count": 9,
   "metadata": {},
   "outputs": [
    {
     "data": {
      "text/plain": [
       "5.0     1836\n",
       "1.0      952\n",
       "2.0      950\n",
       "8.0      933\n",
       "3.0      928\n",
       "7.0      925\n",
       "4.0      885\n",
       "9.0      882\n",
       "6.0      881\n",
       "10.0     446\n",
       "0.0      382\n",
       "Name: Tenure, dtype: int64"
      ]
     },
     "execution_count": 9,
     "metadata": {},
     "output_type": "execute_result"
    }
   ],
   "source": [
    "imputer = KNNImputer(n_neighbors=2) \n",
    "                                       # заполняю пропуски\n",
    "df_knn['Tenure'] = pd.DataFrame(imputer.fit_transform(df_knn['Tenure'].values.reshape(-1, 1))).apply(lambda x: round(x))\n",
    "df_knn['Tenure'].value_counts()"
   ]
  },
  {
   "cell_type": "code",
   "execution_count": 10,
   "metadata": {},
   "outputs": [],
   "source": [
    "df_group = df.copy()   # создаю датасет для замены пропусков по группе "
   ]
  },
  {
   "cell_type": "code",
   "execution_count": 11,
   "metadata": {},
   "outputs": [
    {
     "data": {
      "text/plain": [
       "5.0     1607\n",
       "4.0      968\n",
       "6.0      964\n",
       "1.0      953\n",
       "2.0      950\n",
       "3.0      937\n",
       "8.0      933\n",
       "7.0      929\n",
       "9.0      882\n",
       "10.0     446\n",
       "0.0      382\n",
       "4.5       21\n",
       "6.5       16\n",
       "2.5        5\n",
       "3.5        4\n",
       "5.5        3\n",
       "Name: Tenure, dtype: int64"
      ]
     },
     "execution_count": 11,
     "metadata": {},
     "output_type": "execute_result"
    }
   ],
   "source": [
    "df_group['Tenure'] = df_group['Tenure'].fillna(df.groupby(['Gender', 'Age'])['Tenure'].transform('median'))\n",
    "df_group['Tenure'].value_counts().head(40)       # заменяю пропуски медианой по группам "
   ]
  },
  {
   "cell_type": "code",
   "execution_count": 12,
   "metadata": {
    "scrolled": false
   },
   "outputs": [
    {
     "data": {
      "text/html": [
       "<div>\n",
       "<style scoped>\n",
       "    .dataframe tbody tr th:only-of-type {\n",
       "        vertical-align: middle;\n",
       "    }\n",
       "\n",
       "    .dataframe tbody tr th {\n",
       "        vertical-align: top;\n",
       "    }\n",
       "\n",
       "    .dataframe thead th {\n",
       "        text-align: right;\n",
       "    }\n",
       "</style>\n",
       "<table border=\"1\" class=\"dataframe\">\n",
       "  <thead>\n",
       "    <tr style=\"text-align: right;\">\n",
       "      <th></th>\n",
       "      <th>knn</th>\n",
       "      <th>no_knn</th>\n",
       "      <th>group</th>\n",
       "    </tr>\n",
       "  </thead>\n",
       "  <tbody>\n",
       "    <tr>\n",
       "      <td>count</td>\n",
       "      <td>10000.00000</td>\n",
       "      <td>9091.000000</td>\n",
       "      <td>10000.000000</td>\n",
       "    </tr>\n",
       "    <tr>\n",
       "      <td>mean</td>\n",
       "      <td>4.99790</td>\n",
       "      <td>4.997690</td>\n",
       "      <td>4.996150</td>\n",
       "    </tr>\n",
       "    <tr>\n",
       "      <td>std</td>\n",
       "      <td>2.76001</td>\n",
       "      <td>2.894723</td>\n",
       "      <td>2.765732</td>\n",
       "    </tr>\n",
       "    <tr>\n",
       "      <td>min</td>\n",
       "      <td>0.00000</td>\n",
       "      <td>0.000000</td>\n",
       "      <td>0.000000</td>\n",
       "    </tr>\n",
       "    <tr>\n",
       "      <td>25%</td>\n",
       "      <td>3.00000</td>\n",
       "      <td>2.000000</td>\n",
       "      <td>3.000000</td>\n",
       "    </tr>\n",
       "    <tr>\n",
       "      <td>50%</td>\n",
       "      <td>5.00000</td>\n",
       "      <td>5.000000</td>\n",
       "      <td>5.000000</td>\n",
       "    </tr>\n",
       "    <tr>\n",
       "      <td>75%</td>\n",
       "      <td>7.00000</td>\n",
       "      <td>7.000000</td>\n",
       "      <td>7.000000</td>\n",
       "    </tr>\n",
       "    <tr>\n",
       "      <td>max</td>\n",
       "      <td>10.00000</td>\n",
       "      <td>10.000000</td>\n",
       "      <td>10.000000</td>\n",
       "    </tr>\n",
       "  </tbody>\n",
       "</table>\n",
       "</div>"
      ],
      "text/plain": [
       "               knn       no_knn         group\n",
       "count  10000.00000  9091.000000  10000.000000\n",
       "mean       4.99790     4.997690      4.996150\n",
       "std        2.76001     2.894723      2.765732\n",
       "min        0.00000     0.000000      0.000000\n",
       "25%        3.00000     2.000000      3.000000\n",
       "50%        5.00000     5.000000      5.000000\n",
       "75%        7.00000     7.000000      7.000000\n",
       "max       10.00000    10.000000     10.000000"
      ]
     },
     "execution_count": 12,
     "metadata": {},
     "output_type": "execute_result"
    }
   ],
   "source": [
    "describe = pd.DataFrame({'knn': list(df_knn['Tenure'].describe()), \n",
    "                         'no_knn': list(df['Tenure'].describe()),          # делаю сравнение по заполенению пропусков\n",
    "                         'group': list(df_group['Tenure'].describe())},    \n",
    "                        index=df.describe().index)\n",
    "describe"
   ]
  },
  {
   "cell_type": "code",
   "execution_count": 14,
   "metadata": {
    "scrolled": true
   },
   "outputs": [
    {
     "data": {
      "text/plain": [
       "0    7963\n",
       "1    2037\n",
       "Name: Exited, dtype: int64"
      ]
     },
     "execution_count": 14,
     "metadata": {},
     "output_type": "execute_result"
    }
   ],
   "source": [
    "df_knn['Exited'].value_counts() # увидел дисбаланс"
   ]
  },
  {
   "cell_type": "code",
   "execution_count": 15,
   "metadata": {},
   "outputs": [
    {
     "data": {
      "text/plain": [
       "France     25\n",
       "Spain      14\n",
       "Germany    11\n",
       "Name: Geography, dtype: int64"
      ]
     },
     "execution_count": 15,
     "metadata": {},
     "output_type": "execute_result"
    }
   ],
   "source": [
    "df_knn[(df['Tenure'] == 10) & (df['Age'] < 28)]['Geography'].value_counts()"
   ]
  },
  {
   "cell_type": "code",
   "execution_count": 16,
   "metadata": {},
   "outputs": [
    {
     "data": {
      "text/plain": [
       "RowNumber            int64\n",
       "CustomerId           int64\n",
       "Surname             object\n",
       "CreditScore          int64\n",
       "Geography           object\n",
       "Gender              object\n",
       "Age                  int64\n",
       "Tenure             float64\n",
       "Balance            float64\n",
       "NumOfProducts        int64\n",
       "HasCrCard            int64\n",
       "IsActiveMember       int64\n",
       "EstimatedSalary    float64\n",
       "Exited               int64\n",
       "dtype: object"
      ]
     },
     "execution_count": 16,
     "metadata": {},
     "output_type": "execute_result"
    }
   ],
   "source": [
    "df_knn.dtypes  # просматриваю типы данных столбцов"
   ]
  },
  {
   "cell_type": "code",
   "execution_count": 17,
   "metadata": {
    "scrolled": true
   },
   "outputs": [
    {
     "data": {
      "text/plain": [
       "0"
      ]
     },
     "execution_count": 17,
     "metadata": {},
     "output_type": "execute_result"
    }
   ],
   "source": [
    "df.duplicated().sum()  # просматриваю дубликаты"
   ]
  },
  {
   "cell_type": "code",
   "execution_count": 18,
   "metadata": {},
   "outputs": [
    {
     "data": {
      "text/plain": [
       "CreditScore          int64\n",
       "Geography           object\n",
       "Gender              object\n",
       "Age                  int64\n",
       "Tenure             float64\n",
       "Balance            float64\n",
       "NumOfProducts        int64\n",
       "HasCrCard            int64\n",
       "IsActiveMember       int64\n",
       "EstimatedSalary    float64\n",
       "Exited               int64\n",
       "dtype: object"
      ]
     },
     "execution_count": 18,
     "metadata": {},
     "output_type": "execute_result"
    }
   ],
   "source": [
    "data = df_knn.drop(['RowNumber', 'Surname', 'CustomerId'], axis=1)\n",
    "data.dtypes            # удаляю столбцы, которые будут не нужны"
   ]
  },
  {
   "cell_type": "code",
   "execution_count": 19,
   "metadata": {
    "scrolled": true
   },
   "outputs": [
    {
     "data": {
      "text/html": [
       "<div>\n",
       "<style scoped>\n",
       "    .dataframe tbody tr th:only-of-type {\n",
       "        vertical-align: middle;\n",
       "    }\n",
       "\n",
       "    .dataframe tbody tr th {\n",
       "        vertical-align: top;\n",
       "    }\n",
       "\n",
       "    .dataframe thead th {\n",
       "        text-align: right;\n",
       "    }\n",
       "</style>\n",
       "<table border=\"1\" class=\"dataframe\">\n",
       "  <thead>\n",
       "    <tr style=\"text-align: right;\">\n",
       "      <th></th>\n",
       "      <th>CreditScore</th>\n",
       "      <th>Age</th>\n",
       "      <th>Tenure</th>\n",
       "      <th>Balance</th>\n",
       "      <th>NumOfProducts</th>\n",
       "      <th>HasCrCard</th>\n",
       "      <th>IsActiveMember</th>\n",
       "      <th>EstimatedSalary</th>\n",
       "      <th>Exited</th>\n",
       "      <th>Geography_Germany</th>\n",
       "      <th>Geography_Spain</th>\n",
       "      <th>Gender_Male</th>\n",
       "    </tr>\n",
       "  </thead>\n",
       "  <tbody>\n",
       "    <tr>\n",
       "      <td>0</td>\n",
       "      <td>619</td>\n",
       "      <td>42</td>\n",
       "      <td>2.0</td>\n",
       "      <td>0.00</td>\n",
       "      <td>1</td>\n",
       "      <td>1</td>\n",
       "      <td>1</td>\n",
       "      <td>101348.88</td>\n",
       "      <td>1</td>\n",
       "      <td>0</td>\n",
       "      <td>0</td>\n",
       "      <td>0</td>\n",
       "    </tr>\n",
       "    <tr>\n",
       "      <td>1</td>\n",
       "      <td>608</td>\n",
       "      <td>41</td>\n",
       "      <td>1.0</td>\n",
       "      <td>83807.86</td>\n",
       "      <td>1</td>\n",
       "      <td>0</td>\n",
       "      <td>1</td>\n",
       "      <td>112542.58</td>\n",
       "      <td>0</td>\n",
       "      <td>0</td>\n",
       "      <td>1</td>\n",
       "      <td>0</td>\n",
       "    </tr>\n",
       "    <tr>\n",
       "      <td>2</td>\n",
       "      <td>502</td>\n",
       "      <td>42</td>\n",
       "      <td>8.0</td>\n",
       "      <td>159660.80</td>\n",
       "      <td>3</td>\n",
       "      <td>1</td>\n",
       "      <td>0</td>\n",
       "      <td>113931.57</td>\n",
       "      <td>1</td>\n",
       "      <td>0</td>\n",
       "      <td>0</td>\n",
       "      <td>0</td>\n",
       "    </tr>\n",
       "    <tr>\n",
       "      <td>3</td>\n",
       "      <td>699</td>\n",
       "      <td>39</td>\n",
       "      <td>1.0</td>\n",
       "      <td>0.00</td>\n",
       "      <td>2</td>\n",
       "      <td>0</td>\n",
       "      <td>0</td>\n",
       "      <td>93826.63</td>\n",
       "      <td>0</td>\n",
       "      <td>0</td>\n",
       "      <td>0</td>\n",
       "      <td>0</td>\n",
       "    </tr>\n",
       "    <tr>\n",
       "      <td>4</td>\n",
       "      <td>850</td>\n",
       "      <td>43</td>\n",
       "      <td>2.0</td>\n",
       "      <td>125510.82</td>\n",
       "      <td>1</td>\n",
       "      <td>1</td>\n",
       "      <td>1</td>\n",
       "      <td>79084.10</td>\n",
       "      <td>0</td>\n",
       "      <td>0</td>\n",
       "      <td>1</td>\n",
       "      <td>0</td>\n",
       "    </tr>\n",
       "    <tr>\n",
       "      <td>...</td>\n",
       "      <td>...</td>\n",
       "      <td>...</td>\n",
       "      <td>...</td>\n",
       "      <td>...</td>\n",
       "      <td>...</td>\n",
       "      <td>...</td>\n",
       "      <td>...</td>\n",
       "      <td>...</td>\n",
       "      <td>...</td>\n",
       "      <td>...</td>\n",
       "      <td>...</td>\n",
       "      <td>...</td>\n",
       "    </tr>\n",
       "    <tr>\n",
       "      <td>9995</td>\n",
       "      <td>771</td>\n",
       "      <td>39</td>\n",
       "      <td>5.0</td>\n",
       "      <td>0.00</td>\n",
       "      <td>2</td>\n",
       "      <td>1</td>\n",
       "      <td>0</td>\n",
       "      <td>96270.64</td>\n",
       "      <td>0</td>\n",
       "      <td>0</td>\n",
       "      <td>0</td>\n",
       "      <td>1</td>\n",
       "    </tr>\n",
       "    <tr>\n",
       "      <td>9996</td>\n",
       "      <td>516</td>\n",
       "      <td>35</td>\n",
       "      <td>10.0</td>\n",
       "      <td>57369.61</td>\n",
       "      <td>1</td>\n",
       "      <td>1</td>\n",
       "      <td>1</td>\n",
       "      <td>101699.77</td>\n",
       "      <td>0</td>\n",
       "      <td>0</td>\n",
       "      <td>0</td>\n",
       "      <td>1</td>\n",
       "    </tr>\n",
       "    <tr>\n",
       "      <td>9997</td>\n",
       "      <td>709</td>\n",
       "      <td>36</td>\n",
       "      <td>7.0</td>\n",
       "      <td>0.00</td>\n",
       "      <td>1</td>\n",
       "      <td>0</td>\n",
       "      <td>1</td>\n",
       "      <td>42085.58</td>\n",
       "      <td>1</td>\n",
       "      <td>0</td>\n",
       "      <td>0</td>\n",
       "      <td>0</td>\n",
       "    </tr>\n",
       "    <tr>\n",
       "      <td>9998</td>\n",
       "      <td>772</td>\n",
       "      <td>42</td>\n",
       "      <td>3.0</td>\n",
       "      <td>75075.31</td>\n",
       "      <td>2</td>\n",
       "      <td>1</td>\n",
       "      <td>0</td>\n",
       "      <td>92888.52</td>\n",
       "      <td>1</td>\n",
       "      <td>1</td>\n",
       "      <td>0</td>\n",
       "      <td>1</td>\n",
       "    </tr>\n",
       "    <tr>\n",
       "      <td>9999</td>\n",
       "      <td>792</td>\n",
       "      <td>28</td>\n",
       "      <td>5.0</td>\n",
       "      <td>130142.79</td>\n",
       "      <td>1</td>\n",
       "      <td>1</td>\n",
       "      <td>0</td>\n",
       "      <td>38190.78</td>\n",
       "      <td>0</td>\n",
       "      <td>0</td>\n",
       "      <td>0</td>\n",
       "      <td>0</td>\n",
       "    </tr>\n",
       "  </tbody>\n",
       "</table>\n",
       "<p>10000 rows × 12 columns</p>\n",
       "</div>"
      ],
      "text/plain": [
       "      CreditScore  Age  Tenure    Balance  NumOfProducts  HasCrCard  \\\n",
       "0             619   42     2.0       0.00              1          1   \n",
       "1             608   41     1.0   83807.86              1          0   \n",
       "2             502   42     8.0  159660.80              3          1   \n",
       "3             699   39     1.0       0.00              2          0   \n",
       "4             850   43     2.0  125510.82              1          1   \n",
       "...           ...  ...     ...        ...            ...        ...   \n",
       "9995          771   39     5.0       0.00              2          1   \n",
       "9996          516   35    10.0   57369.61              1          1   \n",
       "9997          709   36     7.0       0.00              1          0   \n",
       "9998          772   42     3.0   75075.31              2          1   \n",
       "9999          792   28     5.0  130142.79              1          1   \n",
       "\n",
       "      IsActiveMember  EstimatedSalary  Exited  Geography_Germany  \\\n",
       "0                  1        101348.88       1                  0   \n",
       "1                  1        112542.58       0                  0   \n",
       "2                  0        113931.57       1                  0   \n",
       "3                  0         93826.63       0                  0   \n",
       "4                  1         79084.10       0                  0   \n",
       "...              ...              ...     ...                ...   \n",
       "9995               0         96270.64       0                  0   \n",
       "9996               1        101699.77       0                  0   \n",
       "9997               1         42085.58       1                  0   \n",
       "9998               0         92888.52       1                  1   \n",
       "9999               0         38190.78       0                  0   \n",
       "\n",
       "      Geography_Spain  Gender_Male  \n",
       "0                   0            0  \n",
       "1                   1            0  \n",
       "2                   0            0  \n",
       "3                   0            0  \n",
       "4                   1            0  \n",
       "...               ...          ...  \n",
       "9995                0            1  \n",
       "9996                0            1  \n",
       "9997                0            0  \n",
       "9998                0            1  \n",
       "9999                0            0  \n",
       "\n",
       "[10000 rows x 12 columns]"
      ]
     },
     "execution_count": 19,
     "metadata": {},
     "output_type": "execute_result"
    }
   ],
   "source": [
    "df_ohe = pd.get_dummies(data, drop_first=True)     # произвожу one hot encoding\n",
    "df_ohe"
   ]
  },
  {
   "cell_type": "code",
   "execution_count": 20,
   "metadata": {},
   "outputs": [
    {
     "data": {
      "text/plain": [
       "CreditScore            int64\n",
       "Age                    int64\n",
       "Tenure               float64\n",
       "Balance              float64\n",
       "NumOfProducts          int64\n",
       "HasCrCard              int64\n",
       "IsActiveMember         int64\n",
       "EstimatedSalary      float64\n",
       "Exited                 int64\n",
       "Geography_Germany      uint8\n",
       "Geography_Spain        uint8\n",
       "Gender_Male            uint8\n",
       "dtype: object"
      ]
     },
     "execution_count": 20,
     "metadata": {},
     "output_type": "execute_result"
    }
   ],
   "source": [
    "df_ohe.dtypes # просматриваю типы данных"
   ]
  },
  {
   "cell_type": "markdown",
   "metadata": {},
   "source": [
    "## Исследование задачи"
   ]
  },
  {
   "cell_type": "code",
   "execution_count": 21,
   "metadata": {},
   "outputs": [
    {
     "data": {
      "text/html": [
       "<div>\n",
       "<style scoped>\n",
       "    .dataframe tbody tr th:only-of-type {\n",
       "        vertical-align: middle;\n",
       "    }\n",
       "\n",
       "    .dataframe tbody tr th {\n",
       "        vertical-align: top;\n",
       "    }\n",
       "\n",
       "    .dataframe thead th {\n",
       "        text-align: right;\n",
       "    }\n",
       "</style>\n",
       "<table border=\"1\" class=\"dataframe\">\n",
       "  <thead>\n",
       "    <tr style=\"text-align: right;\">\n",
       "      <th></th>\n",
       "      <th>CreditScore</th>\n",
       "      <th>Age</th>\n",
       "      <th>Tenure</th>\n",
       "      <th>Balance</th>\n",
       "      <th>NumOfProducts</th>\n",
       "      <th>HasCrCard</th>\n",
       "      <th>IsActiveMember</th>\n",
       "      <th>EstimatedSalary</th>\n",
       "      <th>Geography_Germany</th>\n",
       "      <th>Geography_Spain</th>\n",
       "      <th>Gender_Male</th>\n",
       "    </tr>\n",
       "  </thead>\n",
       "  <tbody>\n",
       "    <tr>\n",
       "      <td>9132</td>\n",
       "      <td>-0.154315</td>\n",
       "      <td>-0.564573</td>\n",
       "      <td>-0.002321</td>\n",
       "      <td>-1.224906</td>\n",
       "      <td>2</td>\n",
       "      <td>1</td>\n",
       "      <td>0</td>\n",
       "      <td>0.391985</td>\n",
       "      <td>0</td>\n",
       "      <td>0</td>\n",
       "      <td>0</td>\n",
       "    </tr>\n",
       "    <tr>\n",
       "      <td>9504</td>\n",
       "      <td>-0.928377</td>\n",
       "      <td>0.489338</td>\n",
       "      <td>-0.002321</td>\n",
       "      <td>1.065372</td>\n",
       "      <td>1</td>\n",
       "      <td>1</td>\n",
       "      <td>0</td>\n",
       "      <td>-0.030207</td>\n",
       "      <td>0</td>\n",
       "      <td>0</td>\n",
       "      <td>0</td>\n",
       "    </tr>\n",
       "    <tr>\n",
       "      <td>5059</td>\n",
       "      <td>0.588785</td>\n",
       "      <td>-0.947813</td>\n",
       "      <td>-0.366474</td>\n",
       "      <td>-1.224906</td>\n",
       "      <td>2</td>\n",
       "      <td>1</td>\n",
       "      <td>0</td>\n",
       "      <td>0.687560</td>\n",
       "      <td>0</td>\n",
       "      <td>0</td>\n",
       "      <td>1</td>\n",
       "    </tr>\n",
       "    <tr>\n",
       "      <td>9833</td>\n",
       "      <td>0.506219</td>\n",
       "      <td>0.201908</td>\n",
       "      <td>-1.458931</td>\n",
       "      <td>1.974685</td>\n",
       "      <td>2</td>\n",
       "      <td>1</td>\n",
       "      <td>0</td>\n",
       "      <td>-0.108757</td>\n",
       "      <td>1</td>\n",
       "      <td>0</td>\n",
       "      <td>0</td>\n",
       "    </tr>\n",
       "    <tr>\n",
       "      <td>9623</td>\n",
       "      <td>-0.794206</td>\n",
       "      <td>0.776768</td>\n",
       "      <td>1.090136</td>\n",
       "      <td>1.246027</td>\n",
       "      <td>1</td>\n",
       "      <td>1</td>\n",
       "      <td>0</td>\n",
       "      <td>-1.230891</td>\n",
       "      <td>0</td>\n",
       "      <td>0</td>\n",
       "      <td>0</td>\n",
       "    </tr>\n",
       "    <tr>\n",
       "      <td>...</td>\n",
       "      <td>...</td>\n",
       "      <td>...</td>\n",
       "      <td>...</td>\n",
       "      <td>...</td>\n",
       "      <td>...</td>\n",
       "      <td>...</td>\n",
       "      <td>...</td>\n",
       "      <td>...</td>\n",
       "      <td>...</td>\n",
       "      <td>...</td>\n",
       "      <td>...</td>\n",
       "    </tr>\n",
       "    <tr>\n",
       "      <td>4285</td>\n",
       "      <td>-0.278165</td>\n",
       "      <td>0.106098</td>\n",
       "      <td>-0.002321</td>\n",
       "      <td>0.674350</td>\n",
       "      <td>1</td>\n",
       "      <td>1</td>\n",
       "      <td>0</td>\n",
       "      <td>1.607325</td>\n",
       "      <td>0</td>\n",
       "      <td>0</td>\n",
       "      <td>1</td>\n",
       "    </tr>\n",
       "    <tr>\n",
       "      <td>4103</td>\n",
       "      <td>0.341085</td>\n",
       "      <td>0.201908</td>\n",
       "      <td>-1.823083</td>\n",
       "      <td>1.155199</td>\n",
       "      <td>1</td>\n",
       "      <td>1</td>\n",
       "      <td>1</td>\n",
       "      <td>1.103997</td>\n",
       "      <td>0</td>\n",
       "      <td>1</td>\n",
       "      <td>1</td>\n",
       "    </tr>\n",
       "    <tr>\n",
       "      <td>8408</td>\n",
       "      <td>1.847927</td>\n",
       "      <td>-0.277143</td>\n",
       "      <td>-0.002321</td>\n",
       "      <td>0.082889</td>\n",
       "      <td>2</td>\n",
       "      <td>1</td>\n",
       "      <td>0</td>\n",
       "      <td>-0.178902</td>\n",
       "      <td>1</td>\n",
       "      <td>0</td>\n",
       "      <td>1</td>\n",
       "    </tr>\n",
       "    <tr>\n",
       "      <td>3771</td>\n",
       "      <td>-1.785006</td>\n",
       "      <td>-0.468763</td>\n",
       "      <td>1.090136</td>\n",
       "      <td>1.012843</td>\n",
       "      <td>2</td>\n",
       "      <td>1</td>\n",
       "      <td>1</td>\n",
       "      <td>1.555324</td>\n",
       "      <td>1</td>\n",
       "      <td>0</td>\n",
       "      <td>1</td>\n",
       "    </tr>\n",
       "    <tr>\n",
       "      <td>5183</td>\n",
       "      <td>0.454615</td>\n",
       "      <td>-0.085522</td>\n",
       "      <td>-1.458931</td>\n",
       "      <td>-1.224906</td>\n",
       "      <td>2</td>\n",
       "      <td>0</td>\n",
       "      <td>1</td>\n",
       "      <td>0.981397</td>\n",
       "      <td>0</td>\n",
       "      <td>0</td>\n",
       "      <td>1</td>\n",
       "    </tr>\n",
       "  </tbody>\n",
       "</table>\n",
       "<p>1000 rows × 11 columns</p>\n",
       "</div>"
      ],
      "text/plain": [
       "      CreditScore       Age    Tenure   Balance  NumOfProducts  HasCrCard  \\\n",
       "9132    -0.154315 -0.564573 -0.002321 -1.224906              2          1   \n",
       "9504    -0.928377  0.489338 -0.002321  1.065372              1          1   \n",
       "5059     0.588785 -0.947813 -0.366474 -1.224906              2          1   \n",
       "9833     0.506219  0.201908 -1.458931  1.974685              2          1   \n",
       "9623    -0.794206  0.776768  1.090136  1.246027              1          1   \n",
       "...           ...       ...       ...       ...            ...        ...   \n",
       "4285    -0.278165  0.106098 -0.002321  0.674350              1          1   \n",
       "4103     0.341085  0.201908 -1.823083  1.155199              1          1   \n",
       "8408     1.847927 -0.277143 -0.002321  0.082889              2          1   \n",
       "3771    -1.785006 -0.468763  1.090136  1.012843              2          1   \n",
       "5183     0.454615 -0.085522 -1.458931 -1.224906              2          0   \n",
       "\n",
       "      IsActiveMember  EstimatedSalary  Geography_Germany  Geography_Spain  \\\n",
       "9132               0         0.391985                  0                0   \n",
       "9504               0        -0.030207                  0                0   \n",
       "5059               0         0.687560                  0                0   \n",
       "9833               0        -0.108757                  1                0   \n",
       "9623               0        -1.230891                  0                0   \n",
       "...              ...              ...                ...              ...   \n",
       "4285               0         1.607325                  0                0   \n",
       "4103               1         1.103997                  0                1   \n",
       "8408               0        -0.178902                  1                0   \n",
       "3771               1         1.555324                  1                0   \n",
       "5183               1         0.981397                  0                0   \n",
       "\n",
       "      Gender_Male  \n",
       "9132            0  \n",
       "9504            0  \n",
       "5059            1  \n",
       "9833            0  \n",
       "9623            0  \n",
       "...           ...  \n",
       "4285            1  \n",
       "4103            1  \n",
       "8408            1  \n",
       "3771            1  \n",
       "5183            1  \n",
       "\n",
       "[1000 rows x 11 columns]"
      ]
     },
     "execution_count": 21,
     "metadata": {},
     "output_type": "execute_result"
    }
   ],
   "source": [
    "# сделал переменную с признаками и переменную с целевым признаком, разбил данные на 80, 10, 10, произвел стандартизацию\n",
    "warnings.filterwarnings('ignore')\n",
    "features = df_ohe.drop(['Exited'], axis=1)\n",
    "target = df_ohe['Exited']\n",
    "\n",
    "features_train, features_valid, target_train, target_valid = train_test_split(\n",
    "    features, target, test_size=0.2, random_state=12345, stratify=target) \n",
    "\n",
    "features_valid, features_test, target_valid, target_test = train_test_split(\n",
    "    features_valid, target_valid, test_size=0.5, random_state=12345, stratify=target_valid)\n",
    "\n",
    "numeric = ['CreditScore', 'Age', 'Tenure', 'Balance', 'EstimatedSalary']\n",
    "\n",
    "scaler = StandardScaler()\n",
    "scaler.fit(features_train[numeric])\n",
    "features_train[numeric] = scaler.transform(features_train[numeric])\n",
    "features_valid[numeric] = scaler.transform(features_valid[numeric])\n",
    "features_test[numeric] = scaler.transform(features_test[numeric])\n",
    "features_test"
   ]
  },
  {
   "cell_type": "code",
   "execution_count": 22,
   "metadata": {},
   "outputs": [
    {
     "name": "stdout",
     "output_type": "stream",
     "text": [
      "Размер тренировочной выборки: 8000\n",
      "Размер валидационной выборки: 1000\n",
      "Размер тестовой выборки: 1000\n"
     ]
    }
   ],
   "source": [
    "print('Размер тренировочной выборки:', features_train.shape[0])\n",
    "print('Размер валидационной выборки:', features_valid.shape[0])\n",
    "print('Размер тестовой выборки:', features_test.shape[0])"
   ]
  },
  {
   "cell_type": "code",
   "execution_count": 23,
   "metadata": {},
   "outputs": [
    {
     "data": {
      "text/html": [
       "<div>\n",
       "<style scoped>\n",
       "    .dataframe tbody tr th:only-of-type {\n",
       "        vertical-align: middle;\n",
       "    }\n",
       "\n",
       "    .dataframe tbody tr th {\n",
       "        vertical-align: top;\n",
       "    }\n",
       "\n",
       "    .dataframe thead th {\n",
       "        text-align: right;\n",
       "    }\n",
       "</style>\n",
       "<table border=\"1\" class=\"dataframe\">\n",
       "  <thead>\n",
       "    <tr style=\"text-align: right;\">\n",
       "      <th></th>\n",
       "      <th>CreditScore</th>\n",
       "      <th>Age</th>\n",
       "      <th>Tenure</th>\n",
       "      <th>Balance</th>\n",
       "      <th>NumOfProducts</th>\n",
       "      <th>HasCrCard</th>\n",
       "      <th>IsActiveMember</th>\n",
       "      <th>EstimatedSalary</th>\n",
       "      <th>Geography_Germany</th>\n",
       "      <th>Geography_Spain</th>\n",
       "      <th>Gender_Male</th>\n",
       "    </tr>\n",
       "  </thead>\n",
       "  <tbody>\n",
       "    <tr>\n",
       "      <td>3376</td>\n",
       "      <td>-0.061427</td>\n",
       "      <td>0.106098</td>\n",
       "      <td>-0.366474</td>\n",
       "      <td>0.010530</td>\n",
       "      <td>2</td>\n",
       "      <td>1</td>\n",
       "      <td>1</td>\n",
       "      <td>0.267707</td>\n",
       "      <td>1</td>\n",
       "      <td>0</td>\n",
       "      <td>0</td>\n",
       "    </tr>\n",
       "    <tr>\n",
       "      <td>1315</td>\n",
       "      <td>-0.443298</td>\n",
       "      <td>-1.139433</td>\n",
       "      <td>-0.002321</td>\n",
       "      <td>0.388533</td>\n",
       "      <td>1</td>\n",
       "      <td>0</td>\n",
       "      <td>0</td>\n",
       "      <td>-1.612531</td>\n",
       "      <td>0</td>\n",
       "      <td>1</td>\n",
       "      <td>0</td>\n",
       "    </tr>\n",
       "    <tr>\n",
       "      <td>2552</td>\n",
       "      <td>-0.525865</td>\n",
       "      <td>0.680958</td>\n",
       "      <td>0.725983</td>\n",
       "      <td>0.082043</td>\n",
       "      <td>2</td>\n",
       "      <td>1</td>\n",
       "      <td>0</td>\n",
       "      <td>-0.297533</td>\n",
       "      <td>0</td>\n",
       "      <td>1</td>\n",
       "      <td>0</td>\n",
       "    </tr>\n",
       "    <tr>\n",
       "      <td>511</td>\n",
       "      <td>-0.185277</td>\n",
       "      <td>-0.085522</td>\n",
       "      <td>0.361831</td>\n",
       "      <td>0.159218</td>\n",
       "      <td>2</td>\n",
       "      <td>1</td>\n",
       "      <td>0</td>\n",
       "      <td>-0.040122</td>\n",
       "      <td>1</td>\n",
       "      <td>0</td>\n",
       "      <td>0</td>\n",
       "    </tr>\n",
       "    <tr>\n",
       "      <td>1888</td>\n",
       "      <td>-2.280406</td>\n",
       "      <td>2.022299</td>\n",
       "      <td>0.725983</td>\n",
       "      <td>-1.224906</td>\n",
       "      <td>2</td>\n",
       "      <td>1</td>\n",
       "      <td>1</td>\n",
       "      <td>1.100176</td>\n",
       "      <td>0</td>\n",
       "      <td>0</td>\n",
       "      <td>1</td>\n",
       "    </tr>\n",
       "    <tr>\n",
       "      <td>...</td>\n",
       "      <td>...</td>\n",
       "      <td>...</td>\n",
       "      <td>...</td>\n",
       "      <td>...</td>\n",
       "      <td>...</td>\n",
       "      <td>...</td>\n",
       "      <td>...</td>\n",
       "      <td>...</td>\n",
       "      <td>...</td>\n",
       "      <td>...</td>\n",
       "      <td>...</td>\n",
       "    </tr>\n",
       "    <tr>\n",
       "      <td>2360</td>\n",
       "      <td>-1.361852</td>\n",
       "      <td>0.201908</td>\n",
       "      <td>-0.002321</td>\n",
       "      <td>0.543826</td>\n",
       "      <td>1</td>\n",
       "      <td>1</td>\n",
       "      <td>0</td>\n",
       "      <td>-0.192448</td>\n",
       "      <td>1</td>\n",
       "      <td>0</td>\n",
       "      <td>0</td>\n",
       "    </tr>\n",
       "    <tr>\n",
       "      <td>4499</td>\n",
       "      <td>-1.176077</td>\n",
       "      <td>0.489338</td>\n",
       "      <td>-0.366474</td>\n",
       "      <td>0.724078</td>\n",
       "      <td>1</td>\n",
       "      <td>0</td>\n",
       "      <td>0</td>\n",
       "      <td>0.532043</td>\n",
       "      <td>1</td>\n",
       "      <td>0</td>\n",
       "      <td>0</td>\n",
       "    </tr>\n",
       "    <tr>\n",
       "      <td>1030</td>\n",
       "      <td>0.826165</td>\n",
       "      <td>0.010288</td>\n",
       "      <td>-1.458931</td>\n",
       "      <td>0.638360</td>\n",
       "      <td>1</td>\n",
       "      <td>0</td>\n",
       "      <td>0</td>\n",
       "      <td>0.787086</td>\n",
       "      <td>0</td>\n",
       "      <td>0</td>\n",
       "      <td>1</td>\n",
       "    </tr>\n",
       "    <tr>\n",
       "      <td>700</td>\n",
       "      <td>1.032581</td>\n",
       "      <td>-0.660383</td>\n",
       "      <td>-0.002321</td>\n",
       "      <td>-1.224906</td>\n",
       "      <td>2</td>\n",
       "      <td>1</td>\n",
       "      <td>0</td>\n",
       "      <td>-0.083220</td>\n",
       "      <td>0</td>\n",
       "      <td>0</td>\n",
       "      <td>0</td>\n",
       "    </tr>\n",
       "    <tr>\n",
       "      <td>7549</td>\n",
       "      <td>0.568144</td>\n",
       "      <td>0.489338</td>\n",
       "      <td>1.818440</td>\n",
       "      <td>0.481576</td>\n",
       "      <td>1</td>\n",
       "      <td>1</td>\n",
       "      <td>0</td>\n",
       "      <td>0.643512</td>\n",
       "      <td>1</td>\n",
       "      <td>0</td>\n",
       "      <td>0</td>\n",
       "    </tr>\n",
       "  </tbody>\n",
       "</table>\n",
       "<p>8000 rows × 11 columns</p>\n",
       "</div>"
      ],
      "text/plain": [
       "      CreditScore       Age    Tenure   Balance  NumOfProducts  HasCrCard  \\\n",
       "3376    -0.061427  0.106098 -0.366474  0.010530              2          1   \n",
       "1315    -0.443298 -1.139433 -0.002321  0.388533              1          0   \n",
       "2552    -0.525865  0.680958  0.725983  0.082043              2          1   \n",
       "511     -0.185277 -0.085522  0.361831  0.159218              2          1   \n",
       "1888    -2.280406  2.022299  0.725983 -1.224906              2          1   \n",
       "...           ...       ...       ...       ...            ...        ...   \n",
       "2360    -1.361852  0.201908 -0.002321  0.543826              1          1   \n",
       "4499    -1.176077  0.489338 -0.366474  0.724078              1          0   \n",
       "1030     0.826165  0.010288 -1.458931  0.638360              1          0   \n",
       "700      1.032581 -0.660383 -0.002321 -1.224906              2          1   \n",
       "7549     0.568144  0.489338  1.818440  0.481576              1          1   \n",
       "\n",
       "      IsActiveMember  EstimatedSalary  Geography_Germany  Geography_Spain  \\\n",
       "3376               1         0.267707                  1                0   \n",
       "1315               0        -1.612531                  0                1   \n",
       "2552               0        -0.297533                  0                1   \n",
       "511                0        -0.040122                  1                0   \n",
       "1888               1         1.100176                  0                0   \n",
       "...              ...              ...                ...              ...   \n",
       "2360               0        -0.192448                  1                0   \n",
       "4499               0         0.532043                  1                0   \n",
       "1030               0         0.787086                  0                0   \n",
       "700                0        -0.083220                  0                0   \n",
       "7549               0         0.643512                  1                0   \n",
       "\n",
       "      Gender_Male  \n",
       "3376            0  \n",
       "1315            0  \n",
       "2552            0  \n",
       "511             0  \n",
       "1888            1  \n",
       "...           ...  \n",
       "2360            0  \n",
       "4499            0  \n",
       "1030            1  \n",
       "700             0  \n",
       "7549            0  \n",
       "\n",
       "[8000 rows x 11 columns]"
      ]
     },
     "execution_count": 23,
     "metadata": {},
     "output_type": "execute_result"
    }
   ],
   "source": [
    "features_train_rs, features_test_rs, target_train_rs, target_test_rs = train_test_split(\n",
    "    features, target, test_size=0.2, random_state=12345, stratify=target)\n",
    "\n",
    "numeric = ['CreditScore', 'Age', 'Tenure', 'Balance', 'EstimatedSalary']\n",
    "\n",
    "scaler = StandardScaler()\n",
    "scaler.fit(features_train_rs[numeric])\n",
    "features_train_rs[numeric] = scaler.transform(features_train_rs[numeric])\n",
    "features_test_rs[numeric] = scaler.transform(features_test_rs[numeric])\n",
    "features_train_rs"
   ]
  },
  {
   "cell_type": "code",
   "execution_count": 21,
   "metadata": {},
   "outputs": [
    {
     "name": "stdout",
     "output_type": "stream",
     "text": [
      "Fitting 4 folds for each of 300 candidates, totalling 1200 fits\n"
     ]
    },
    {
     "data": {
      "text/plain": [
       "RandomizedSearchCV(cv=4,\n",
       "                   estimator=Pipeline(steps=[('classifier',\n",
       "                                              RandomForestClassifier())]),\n",
       "                   n_iter=300,\n",
       "                   param_distributions={'classifier__max_depth': [1, 3, 5, 7, 9,\n",
       "                                                                  11, 13, 15,\n",
       "                                                                  17, 19, 21,\n",
       "                                                                  23, 25, 27,\n",
       "                                                                  29, 31, 33,\n",
       "                                                                  35, 37, 39,\n",
       "                                                                  41, 43, 45,\n",
       "                                                                  47, 49],\n",
       "                                        'classifier__n_estimators': [1, 6, 11,\n",
       "                                                                     16, 21, 26,\n",
       "                                                                     31, 36, 41,\n",
       "                                                                     46, 51, 56,\n",
       "                                                                     61, 66, 71,\n",
       "                                                                     76, 81, 86,\n",
       "                                                                     91, 96,\n",
       "                                                                     101, 106,\n",
       "                                                                     111, 116,\n",
       "                                                                     121, 126,\n",
       "                                                                     131, 136,\n",
       "                                                                     141, 146, ...]},\n",
       "                   random_state=12345, refit='f1', scoring=['f1', 'roc_auc'],\n",
       "                   verbose=1)"
      ]
     },
     "execution_count": 21,
     "metadata": {},
     "output_type": "execute_result"
    }
   ],
   "source": [
    "forest = Pipeline([('classifier', RandomForestClassifier())])\n",
    "forest_params = {\n",
    "    'classifier__max_depth': list(range(1, 50, 2)),\n",
    "    'classifier__n_estimators': list(range(1, 200, 5))\n",
    "}\n",
    "\n",
    "random_model = RandomizedSearchCV(forest,                            # пробую найти лучшую модель с помощью randomizedsearchcv\n",
    "                                   forest_params,\n",
    "                                   scoring = ['f1', 'roc_auc'],\n",
    "                                   refit='f1', \n",
    "                                   n_iter = 300,\n",
    "                                   cv = 4,\n",
    "                                   verbose = 1,\n",
    "                                   random_state=12345)\n",
    "\n",
    "random_model.fit(features_train_rs, target_train_rs)"
   ]
  },
  {
   "cell_type": "code",
   "execution_count": 22,
   "metadata": {},
   "outputs": [
    {
     "name": "stdout",
     "output_type": "stream",
     "text": [
      "{'classifier__n_estimators': 71, 'classifier__max_depth': 43}\n",
      "0.5775584435115384\n"
     ]
    }
   ],
   "source": [
    "print(random_model.best_params_)      # просматриваю лучшие результаты\n",
    "print(random_model.best_score_)"
   ]
  },
  {
   "cell_type": "code",
   "execution_count": 44,
   "metadata": {},
   "outputs": [
    {
     "name": "stdout",
     "output_type": "stream",
     "text": [
      "0.5859491778774291\n"
     ]
    }
   ],
   "source": [
    "model = RandomForestClassifier(n_estimators = 71, max_depth=43, random_state=12345)\n",
    "model.fit(features_train_rs, target_train_rs)\n",
    "predictions = model.predict(features_test_rs)       \n",
    "print(f1_score(target_test_rs, predictions))"
   ]
  },
  {
   "cell_type": "code",
   "execution_count": 24,
   "metadata": {},
   "outputs": [
    {
     "data": {
      "text/plain": [
       "GridSearchCV(estimator=DecisionTreeClassifier(random_state=12345),\n",
       "             param_grid={'max_depth': [1, 2, 3, 4, 5, 6, 7, 8, 9, 10, 11, 12,\n",
       "                                       13, 14, 15, 16, 17, 18, 19, 20, 21, 22,\n",
       "                                       23, 24, 25, 26, 27, 28, 29, 30, ...]},\n",
       "             scoring='f1')"
      ]
     },
     "execution_count": 24,
     "metadata": {},
     "output_type": "execute_result"
    }
   ],
   "source": [
    "warnings.filterwarnings('ignore')\n",
    "dtc = DecisionTreeClassifier(random_state=12345)\n",
    "param_tree = {\n",
    "    'max_depth': list(range(1, 100))                    # ищу лучшие параметры с помощью gredsearchcv\n",
    "}\n",
    "\n",
    "gsc_tree = GridSearchCV(dtc, param_tree, scoring='f1')\n",
    "gsc_tree.fit(features_valid, target_valid)"
   ]
  },
  {
   "cell_type": "code",
   "execution_count": 25,
   "metadata": {},
   "outputs": [
    {
     "name": "stdout",
     "output_type": "stream",
     "text": [
      "{'max_depth': 7}\n",
      "0.5550698953389548\n"
     ]
    }
   ],
   "source": [
    "print(gsc_tree.best_params_)   #  просматриваю лучшие результаты\n",
    "print(gsc_tree.best_score_)"
   ]
  },
  {
   "cell_type": "code",
   "execution_count": 26,
   "metadata": {},
   "outputs": [
    {
     "name": "stdout",
     "output_type": "stream",
     "text": [
      "0.5263157894736843\n"
     ]
    }
   ],
   "source": [
    "model = DecisionTreeClassifier(max_depth=7, random_state=12345)\n",
    "model.fit(features_train, target_train)           # просматриваю результат предсказания на тестовой выборке\n",
    "predictions = model.predict(features_test)\n",
    "dtc_score = f1_score(target_test, predictions)    # передаю в переменную лучший результат предсказания\n",
    "print(dtc_score)"
   ]
  },
  {
   "cell_type": "code",
   "execution_count": 27,
   "metadata": {
    "scrolled": true
   },
   "outputs": [
    {
     "name": "stdout",
     "output_type": "stream",
     "text": [
      "Наилучшая модель показала результат 0.6246418338108882, количество деревьев 20, глубина 14\n"
     ]
    }
   ],
   "source": [
    "best_model = None\n",
    "best_result = 0\n",
    "for depth in range(1, 15):\n",
    "    for est in range(1,50):\n",
    "        model = RandomForestClassifier(n_estimators = est, max_depth=depth, random_state=12345)\n",
    "        model.fit(features_train, target_train)\n",
    "        predictions_valid = model.predict(features_valid)             # с помощью цикла ищу лучшие параметры \n",
    "        if f1_score(target_valid, predictions_valid) > best_result:\n",
    "            best_result = f1_score(target_valid, predictions_valid)\n",
    "            best_est = est\n",
    "            best_depth = depth\n",
    "        \n",
    "print('Наилучшая модель показала результат {}, количество деревьев {}, глубина {}'.format(best_result, best_est, best_depth))"
   ]
  },
  {
   "cell_type": "code",
   "execution_count": 28,
   "metadata": {},
   "outputs": [
    {
     "name": "stdout",
     "output_type": "stream",
     "text": [
      "0.563467492260062\n"
     ]
    }
   ],
   "source": [
    "model = RandomForestClassifier(n_estimators = 20, max_depth=14, random_state=12345)\n",
    "model.fit(features_train, target_train)\n",
    "predictions = model.predict(features_test)       # передаю в переменную лучший результат предсказания\n",
    "rfc_score = f1_score(target_test, predictions)\n",
    "print(rfc_score)"
   ]
  },
  {
   "cell_type": "code",
   "execution_count": 29,
   "metadata": {},
   "outputs": [
    {
     "name": "stdout",
     "output_type": "stream",
     "text": [
      "0.5128205128205129\n"
     ]
    }
   ],
   "source": [
    "model = LogisticRegression(solver = 'liblinear', class_weight = 'balanced', random_state=12345)\n",
    "model.fit(features_train, target_train)\n",
    "predictions = model.predict(features_test)\n",
    "lr_score = f1_score(target_test, predictions)           # передаю в переменную лучший результат предсказания\n",
    "print(lr_score)"
   ]
  },
  {
   "cell_type": "code",
   "execution_count": 30,
   "metadata": {},
   "outputs": [
    {
     "data": {
      "text/html": [
       "<div>\n",
       "<style scoped>\n",
       "    .dataframe tbody tr th:only-of-type {\n",
       "        vertical-align: middle;\n",
       "    }\n",
       "\n",
       "    .dataframe tbody tr th {\n",
       "        vertical-align: top;\n",
       "    }\n",
       "\n",
       "    .dataframe thead th {\n",
       "        text-align: right;\n",
       "    }\n",
       "</style>\n",
       "<table border=\"1\" class=\"dataframe\">\n",
       "  <thead>\n",
       "    <tr style=\"text-align: right;\">\n",
       "      <th></th>\n",
       "      <th>LogisticRegression</th>\n",
       "      <th>RandomForestClassifier</th>\n",
       "      <th>DecisionTreeClassifier</th>\n",
       "    </tr>\n",
       "  </thead>\n",
       "  <tbody>\n",
       "    <tr>\n",
       "      <td>1</td>\n",
       "      <td>0.512821</td>\n",
       "      <td>0.563467</td>\n",
       "      <td>0.526316</td>\n",
       "    </tr>\n",
       "  </tbody>\n",
       "</table>\n",
       "</div>"
      ],
      "text/plain": [
       "   LogisticRegression  RandomForestClassifier  DecisionTreeClassifier\n",
       "1            0.512821                0.563467                0.526316"
      ]
     },
     "execution_count": 30,
     "metadata": {},
     "output_type": "execute_result"
    }
   ],
   "source": [
    "score = pd.DataFrame({'LogisticRegression':lr_score, \n",
    "                      'RandomForestClassifier': rfc_score,     # создаю датафрейм лучших результатов 3 моделей\n",
    "                      'DecisionTreeClassifier': dtc_score},\n",
    "                      index = [1])\n",
    "score                     "
   ]
  },
  {
   "cell_type": "markdown",
   "metadata": {},
   "source": [
    "## Борьба с дисбалансом"
   ]
  },
  {
   "cell_type": "code",
   "execution_count": 32,
   "metadata": {},
   "outputs": [
    {
     "data": {
      "text/plain": [
       "0    6370\n",
       "1    1630\n",
       "Name: Exited, dtype: int64"
      ]
     },
     "execution_count": 32,
     "metadata": {},
     "output_type": "execute_result"
    }
   ],
   "source": [
    "target_train.value_counts() # проверяю дисбаланс "
   ]
  },
  {
   "cell_type": "code",
   "execution_count": 33,
   "metadata": {},
   "outputs": [],
   "source": [
    "def upsample(features, target, repeat):\n",
    "    features_zeros = features[target == 0]\n",
    "    features_ones = features[target == 1]\n",
    "    target_zeros = target[target == 0]\n",
    "    target_ones = target[target == 1]\n",
    "\n",
    "    features_upsampled = pd.concat([features_zeros] + [features_ones] * repeat) # пишу функцию для того, чтобы убрать дисбаланс\n",
    "    target_upsampled = pd.concat([target_zeros] + [target_ones] * repeat)\n",
    "    \n",
    "    features_upsampled, target_upsampled = shuffle(\n",
    "        features_upsampled, target_upsampled, random_state=12345)\n",
    "    \n",
    "    return features_upsampled, target_upsampled\n",
    "\n",
    "features_upsampled, target_upsampled = upsample(features_train, target_train, 4) # приминяю апсемплинг"
   ]
  },
  {
   "cell_type": "code",
   "execution_count": 34,
   "metadata": {},
   "outputs": [
    {
     "data": {
      "text/plain": [
       "1    6520\n",
       "0    6370\n",
       "Name: Exited, dtype: int64"
      ]
     },
     "execution_count": 34,
     "metadata": {},
     "output_type": "execute_result"
    }
   ],
   "source": [
    "target_upsampled.value_counts() # удостоверился, что всё сработало и дисбаланса нет"
   ]
  },
  {
   "cell_type": "code",
   "execution_count": 35,
   "metadata": {},
   "outputs": [
    {
     "name": "stdout",
     "output_type": "stream",
     "text": [
      "Наилучшая модель показала результат 0.6727272727272727, количество деревьев 11, глубина 12\n"
     ]
    }
   ],
   "source": [
    "best_model = None\n",
    "best_result = 0\n",
    "for depth in range(1, 50):\n",
    "    for est in range(1,100,5):\n",
    "        model = RandomForestClassifier(n_estimators = est, max_depth=depth, random_state=12345)\n",
    "        model.fit(features_upsampled, target_upsampled)\n",
    "        predictions_valid = model.predict(features_valid)           # пишу цикл для выявления лучших параметров\n",
    "        if f1_score(target_valid, predictions_valid) > best_result:\n",
    "            best_result = f1_score(target_valid, predictions_valid)\n",
    "            best_est = est\n",
    "            best_depth = depth\n",
    "        \n",
    "print('Наилучшая модель показала результат {}, количество деревьев {}, глубина {}'.format(best_result, best_est, best_depth))"
   ]
  },
  {
   "cell_type": "markdown",
   "metadata": {},
   "source": [
    "## Тестирование модели"
   ]
  },
  {
   "cell_type": "code",
   "execution_count": 36,
   "metadata": {},
   "outputs": [
    {
     "name": "stdout",
     "output_type": "stream",
     "text": [
      "0.5972222222222221\n"
     ]
    }
   ],
   "source": [
    "model = RandomForestClassifier(n_estimators = 11, max_depth=12, random_state=12345)\n",
    "model.fit(features_upsampled, target_upsampled)\n",
    "predictions = model.predict(features_test)        # проверяю лучшие параметры модели\n",
    "print(f1_score(target_test, predictions))"
   ]
  },
  {
   "cell_type": "code",
   "execution_count": 37,
   "metadata": {
    "scrolled": true
   },
   "outputs": [
    {
     "data": {
      "image/png": "[encoded data removed]",
      "text/plain": [
       "<Figure size 432x288 with 1 Axes>"
      ]
     },
     "metadata": {
      "needs_background": "light"
     },
     "output_type": "display_data"
    }
   ],
   "source": [
    "model = RandomForestClassifier(n_estimators = 11, max_depth=16, random_state=12345)\n",
    "model.fit(features_upsampled, target_upsampled)\n",
    "probs = model.predict_proba(features_test)\n",
    "preds = probs[:,1]\n",
    "fpr, tpr, threshold = metrics.roc_curve(target_test, preds)\n",
    "\n",
    "\n",
    "roc_auc = metrics.auc(fpr, tpr)                         # строю график ROC\n",
    "plt.title('Receiver Operating Characteristic')\n",
    "plt.plot(fpr, tpr, 'b', label = 'AUC = %0.2f' % roc_auc)\n",
    "plt.legend(loc = 'lower right')\n",
    "plt.plot([0, 1], [0, 1],'r--')\n",
    "plt.xlim([0, 1])\n",
    "plt.ylim([0, 1])\n",
    "plt.ylabel('True Positive Rate')\n",
    "plt.xlabel('False Positive Rate')\n",
    "plt.show()"
   ]
  },
  {
   "cell_type": "code",
   "execution_count": 38,
   "metadata": {},
   "outputs": [
    {
     "name": "stdout",
     "output_type": "stream",
     "text": [
      "Наилучшая модель показала результат 0.6442687747035574, количество деревьев 46, глубина 2\n"
     ]
    }
   ],
   "source": [
    "best_model = None\n",
    "best_result = 0\n",
    "for depth in range(1, 25):\n",
    "    for est in range(1,150,15):\n",
    "        model = AdaBoostClassifier(DecisionTreeClassifier(max_depth=depth), n_estimators=est, random_state=12345,\n",
    "                        algorithm='SAMME.R', learning_rate=0.5)\n",
    "        model.fit(features_upsampled, target_upsampled)\n",
    "        predictions_valid = model.predict(features_valid)\n",
    "        if f1_score(target_valid, predictions_valid) > best_result:\n",
    "            best_model = model\n",
    "            best_result = f1_score(target_valid, predictions_valid)\n",
    "            best_est = est\n",
    "            best_depth = depth\n",
    "        \n",
    "print('Наилучшая модель показала результат {}, количество деревьев {}, глубина {}'.format(best_result, best_est, best_depth))"
   ]
  },
  {
   "cell_type": "code",
   "execution_count": 39,
   "metadata": {},
   "outputs": [
    {
     "name": "stdout",
     "output_type": "stream",
     "text": [
      "0.593186372745491\n"
     ]
    }
   ],
   "source": [
    "clf = AdaBoostClassifier(DecisionTreeClassifier(max_depth=2), n_estimators=46, random_state=12345,\n",
    "                        algorithm='SAMME.R', learning_rate=0.5)\n",
    "clf.fit(features_upsampled, target_upsampled)\n",
    "predictions = clf.predict(features_test)\n",
    "print(f1_score(target_test, predictions))"
   ]
  },
  {
   "cell_type": "code",
   "execution_count": 40,
   "metadata": {},
   "outputs": [
    {
     "data": {
      "image/png": "[encoded data removed]",
      "text/plain": [
       "<Figure size 432x288 with 1 Axes>"
      ]
     },
     "metadata": {
      "needs_background": "light"
     },
     "output_type": "display_data"
    }
   ],
   "source": [
    "probs = clf.predict_proba(features_test)\n",
    "preds = probs[:,1]\n",
    "fpr, tpr, threshold = metrics.roc_curve(target_test, preds)\n",
    "\n",
    "\n",
    "roc_auc = metrics.auc(fpr, tpr)\n",
    "plt.title('Receiver Operating Characteristic')\n",
    "plt.plot(fpr, tpr, 'b', label = 'AUC = %0.2f' % roc_auc)\n",
    "plt.legend(loc = 'lower right')\n",
    "plt.plot([0, 1], [0, 1],'r--')\n",
    "plt.xlim([0, 1])\n",
    "plt.ylim([0, 1])\n",
    "plt.ylabel('True Positive Rate')\n",
    "plt.xlabel('False Positive Rate')\n",
    "plt.show()"
   ]
  },
  {
   "cell_type": "code",
   "execution_count": null,
   "metadata": {},
   "outputs": [],
   "source": []
  }
 ],
 "metadata": {
  "ExecuteTimeLog": [
   {
    "duration": 783,
    "start_time": "2021-11-28T11:11:30.260Z"
   },
   {
    "duration": 37,
    "start_time": "2021-11-28T11:11:42.187Z"
   },
   {
    "duration": 65,
    "start_time": "2021-11-28T11:11:49.744Z"
   },
   {
    "duration": 45,
    "start_time": "2021-11-28T11:11:53.408Z"
   },
   {
    "duration": 92,
    "start_time": "2021-11-28T11:13:20.967Z"
   },
   {
    "duration": 12,
    "start_time": "2021-11-28T11:13:22.632Z"
   },
   {
    "duration": 9,
    "start_time": "2021-11-28T11:15:24.592Z"
   },
   {
    "duration": 15,
    "start_time": "2021-11-28T11:15:45.732Z"
   },
   {
    "duration": 18,
    "start_time": "2021-11-28T11:16:12.356Z"
   },
   {
    "duration": 602,
    "start_time": "2021-11-28T11:16:33.352Z"
   },
   {
    "duration": 8,
    "start_time": "2021-11-28T11:16:35.024Z"
   },
   {
    "duration": 11,
    "start_time": "2021-11-28T11:16:57.476Z"
   },
   {
    "duration": 9,
    "start_time": "2021-11-28T11:17:18.932Z"
   },
   {
    "duration": 9,
    "start_time": "2021-11-28T11:17:33.172Z"
   },
   {
    "duration": 12,
    "start_time": "2021-11-28T11:17:41.760Z"
   },
   {
    "duration": 8,
    "start_time": "2021-11-28T11:17:47.748Z"
   },
   {
    "duration": 7,
    "start_time": "2021-11-28T11:18:15.864Z"
   },
   {
    "duration": 11,
    "start_time": "2021-11-28T11:18:19.912Z"
   },
   {
    "duration": 36,
    "start_time": "2021-11-28T11:19:03.220Z"
   },
   {
    "duration": 12,
    "start_time": "2021-11-28T11:19:26.296Z"
   },
   {
    "duration": 292,
    "start_time": "2021-11-28T11:20:05.524Z"
   },
   {
    "duration": 264,
    "start_time": "2021-11-28T11:20:08.892Z"
   },
   {
    "duration": 78,
    "start_time": "2021-11-28T11:20:39.856Z"
   },
   {
    "duration": 41,
    "start_time": "2021-11-28T11:20:43.628Z"
   },
   {
    "duration": 12,
    "start_time": "2021-11-28T11:20:50.736Z"
   },
   {
    "duration": 13,
    "start_time": "2021-11-28T11:20:55.068Z"
   },
   {
    "duration": 13,
    "start_time": "2021-11-28T11:20:58.424Z"
   },
   {
    "duration": 50,
    "start_time": "2021-11-28T11:21:02.368Z"
   },
   {
    "duration": 8,
    "start_time": "2021-11-28T11:22:58.204Z"
   },
   {
    "duration": 7,
    "start_time": "2021-11-28T11:23:05.905Z"
   },
   {
    "duration": 8,
    "start_time": "2021-11-28T11:23:11.072Z"
   },
   {
    "duration": 10,
    "start_time": "2021-11-28T11:23:23.648Z"
   },
   {
    "duration": 8,
    "start_time": "2021-11-28T11:23:29.944Z"
   },
   {
    "duration": 9,
    "start_time": "2021-11-28T11:23:34.336Z"
   },
   {
    "duration": 12,
    "start_time": "2021-11-28T11:24:52.536Z"
   },
   {
    "duration": 874,
    "start_time": "2021-11-29T08:49:31.633Z"
   },
   {
    "duration": 62,
    "start_time": "2021-11-29T08:49:33.469Z"
   },
   {
    "duration": 12,
    "start_time": "2021-11-29T08:49:34.093Z"
   },
   {
    "duration": 9,
    "start_time": "2021-11-29T08:49:36.053Z"
   },
   {
    "duration": 15,
    "start_time": "2021-11-29T08:49:36.180Z"
   },
   {
    "duration": 316,
    "start_time": "2021-11-29T08:50:07.077Z"
   },
   {
    "duration": 208,
    "start_time": "2021-11-29T08:50:23.049Z"
   },
   {
    "duration": 706,
    "start_time": "2021-11-29T08:51:24.361Z"
   },
   {
    "duration": 583,
    "start_time": "2021-11-29T08:51:29.249Z"
   },
   {
    "duration": 1411,
    "start_time": "2021-11-29T08:52:16.805Z"
   },
   {
    "duration": 213,
    "start_time": "2021-11-29T08:52:18.881Z"
   },
   {
    "duration": 206,
    "start_time": "2021-11-29T08:52:24.753Z"
   },
   {
    "duration": 631,
    "start_time": "2021-11-29T08:52:37.281Z"
   },
   {
    "duration": 203,
    "start_time": "2021-11-29T08:52:41.049Z"
   },
   {
    "duration": 6,
    "start_time": "2021-11-29T08:53:14.287Z"
   },
   {
    "duration": 36,
    "start_time": "2021-11-29T08:53:19.449Z"
   },
   {
    "duration": 14,
    "start_time": "2021-11-29T08:53:31.117Z"
   },
   {
    "duration": 366,
    "start_time": "2021-11-29T08:54:10.753Z"
   },
   {
    "duration": 10,
    "start_time": "2021-11-29T08:54:17.665Z"
   },
   {
    "duration": 18,
    "start_time": "2021-11-29T08:54:22.145Z"
   },
   {
    "duration": 16,
    "start_time": "2021-11-29T08:54:44.209Z"
   },
   {
    "duration": 16,
    "start_time": "2021-11-29T08:54:58.185Z"
   },
   {
    "duration": 7,
    "start_time": "2021-11-29T08:55:12.069Z"
   },
   {
    "duration": 14,
    "start_time": "2021-11-29T08:55:17.653Z"
   },
   {
    "duration": 13,
    "start_time": "2021-11-29T08:55:38.501Z"
   },
   {
    "duration": 734,
    "start_time": "2021-11-29T08:56:07.160Z"
   },
   {
    "duration": 61,
    "start_time": "2021-11-29T08:56:08.205Z"
   },
   {
    "duration": 3,
    "start_time": "2021-11-29T08:56:09.424Z"
   },
   {
    "duration": 9,
    "start_time": "2021-11-29T08:56:17.941Z"
   },
   {
    "duration": 16,
    "start_time": "2021-11-29T08:56:28.621Z"
   },
   {
    "duration": 6,
    "start_time": "2021-11-29T09:01:46.369Z"
   },
   {
    "duration": 5,
    "start_time": "2021-11-29T09:02:02.565Z"
   },
   {
    "duration": 5,
    "start_time": "2021-11-29T09:02:13.125Z"
   },
   {
    "duration": 23,
    "start_time": "2021-11-29T09:02:40.599Z"
   },
   {
    "duration": 16,
    "start_time": "2021-11-29T09:03:12.481Z"
   },
   {
    "duration": 9,
    "start_time": "2021-11-29T09:03:20.889Z"
   },
   {
    "duration": 757,
    "start_time": "2021-11-29T09:03:31.324Z"
   },
   {
    "duration": 63,
    "start_time": "2021-11-29T09:03:32.639Z"
   },
   {
    "duration": 12,
    "start_time": "2021-11-29T09:03:33.372Z"
   },
   {
    "duration": 9,
    "start_time": "2021-11-29T09:03:33.920Z"
   },
   {
    "duration": 15,
    "start_time": "2021-11-29T09:03:36.210Z"
   },
   {
    "duration": 14,
    "start_time": "2021-11-29T09:03:56.800Z"
   },
   {
    "duration": 123,
    "start_time": "2021-11-29T09:04:03.816Z"
   },
   {
    "duration": 24,
    "start_time": "2021-11-29T09:04:07.760Z"
   },
   {
    "duration": 18,
    "start_time": "2021-11-29T09:04:52.961Z"
   },
   {
    "duration": 12,
    "start_time": "2021-11-29T09:06:39.228Z"
   },
   {
    "duration": 481,
    "start_time": "2021-11-29T09:06:49.991Z"
   },
   {
    "duration": 363,
    "start_time": "2021-11-29T09:06:54.216Z"
   },
   {
    "duration": 403,
    "start_time": "2021-11-29T09:06:58.548Z"
   },
   {
    "duration": 386,
    "start_time": "2021-11-29T09:07:01.176Z"
   },
   {
    "duration": 388,
    "start_time": "2021-11-29T09:07:10.102Z"
   },
   {
    "duration": 7,
    "start_time": "2021-11-29T09:07:43.483Z"
   },
   {
    "duration": 17,
    "start_time": "2021-11-29T09:08:28.228Z"
   },
   {
    "duration": 464,
    "start_time": "2021-11-29T09:08:47.980Z"
   },
   {
    "duration": 249,
    "start_time": "2021-11-29T09:09:00.002Z"
   },
   {
    "duration": 781,
    "start_time": "2021-11-30T18:10:20.298Z"
   },
   {
    "duration": 63,
    "start_time": "2021-11-30T18:10:21.082Z"
   },
   {
    "duration": 14,
    "start_time": "2021-11-30T18:10:21.457Z"
   },
   {
    "duration": 12,
    "start_time": "2021-11-30T18:10:24.871Z"
   },
   {
    "duration": 23,
    "start_time": "2021-11-30T18:10:31.299Z"
   },
   {
    "duration": 11,
    "start_time": "2021-11-30T18:10:46.907Z"
   },
   {
    "duration": 12,
    "start_time": "2021-11-30T18:10:47.790Z"
   },
   {
    "duration": 24,
    "start_time": "2021-11-30T18:10:51.383Z"
   },
   {
    "duration": 9,
    "start_time": "2021-11-30T18:10:52.247Z"
   },
   {
    "duration": 18,
    "start_time": "2021-11-30T18:10:52.823Z"
   },
   {
    "duration": 426,
    "start_time": "2021-11-30T18:14:55.267Z"
   },
   {
    "duration": 33,
    "start_time": "2021-11-30T18:15:01.711Z"
   },
   {
    "duration": 324,
    "start_time": "2021-11-30T18:15:16.891Z"
   },
   {
    "duration": 11,
    "start_time": "2021-11-30T18:15:19.900Z"
   },
   {
    "duration": 867,
    "start_time": "2021-11-30T18:15:38.292Z"
   },
   {
    "duration": 61,
    "start_time": "2021-11-30T18:15:39.321Z"
   },
   {
    "duration": 12,
    "start_time": "2021-11-30T18:15:39.761Z"
   },
   {
    "duration": 12,
    "start_time": "2021-11-30T18:15:40.289Z"
   },
   {
    "duration": 22,
    "start_time": "2021-11-30T18:15:42.081Z"
   },
   {
    "duration": 7,
    "start_time": "2021-11-30T18:15:42.465Z"
   },
   {
    "duration": 14,
    "start_time": "2021-11-30T18:15:43.934Z"
   },
   {
    "duration": 17,
    "start_time": "2021-11-30T18:15:44.161Z"
   },
   {
    "duration": 6,
    "start_time": "2021-11-30T18:15:44.629Z"
   },
   {
    "duration": 18,
    "start_time": "2021-11-30T18:15:46.668Z"
   },
   {
    "duration": 7,
    "start_time": "2021-11-30T18:16:05.491Z"
   },
   {
    "duration": 10,
    "start_time": "2021-11-30T18:16:12.521Z"
   },
   {
    "duration": 33,
    "start_time": "2021-11-30T18:16:19.668Z"
   },
   {
    "duration": 12,
    "start_time": "2021-11-30T18:16:34.889Z"
   },
   {
    "duration": 996,
    "start_time": "2021-11-30T18:17:08.566Z"
   },
   {
    "duration": 81,
    "start_time": "2021-11-30T18:17:09.566Z"
   },
   {
    "duration": 34,
    "start_time": "2021-11-30T18:17:09.651Z"
   },
   {
    "duration": 11,
    "start_time": "2021-11-30T18:17:09.689Z"
   },
   {
    "duration": 36,
    "start_time": "2021-11-30T18:17:09.703Z"
   },
   {
    "duration": 42,
    "start_time": "2021-11-30T18:17:09.742Z"
   },
   {
    "duration": 16,
    "start_time": "2021-11-30T18:17:09.787Z"
   },
   {
    "duration": 25,
    "start_time": "2021-11-30T18:17:09.806Z"
   },
   {
    "duration": 9,
    "start_time": "2021-11-30T18:17:09.835Z"
   },
   {
    "duration": 21,
    "start_time": "2021-11-30T18:17:09.883Z"
   },
   {
    "duration": 3,
    "start_time": "2021-11-30T18:17:09.906Z"
   },
   {
    "duration": 15,
    "start_time": "2021-11-30T18:17:17.040Z"
   },
   {
    "duration": 9,
    "start_time": "2021-11-30T18:17:39.914Z"
   },
   {
    "duration": 14,
    "start_time": "2021-11-30T18:17:51.346Z"
   },
   {
    "duration": 14,
    "start_time": "2021-11-30T18:18:02.794Z"
   },
   {
    "duration": 13,
    "start_time": "2021-11-30T18:18:06.578Z"
   },
   {
    "duration": 447,
    "start_time": "2021-11-30T20:00:39.837Z"
   },
   {
    "duration": 348,
    "start_time": "2021-11-30T20:00:45.489Z"
   },
   {
    "duration": 355,
    "start_time": "2021-11-30T20:00:49.656Z"
   },
   {
    "duration": 6,
    "start_time": "2021-11-30T20:01:59.124Z"
   },
   {
    "duration": 10,
    "start_time": "2021-11-30T20:02:04.089Z"
   },
   {
    "duration": 49,
    "start_time": "2021-11-30T20:02:12.940Z"
   },
   {
    "duration": 45,
    "start_time": "2021-11-30T20:02:39.924Z"
   },
   {
    "duration": 43,
    "start_time": "2021-11-30T20:03:11.756Z"
   },
   {
    "duration": 630,
    "start_time": "2021-11-30T20:03:50.633Z"
   },
   {
    "duration": 17,
    "start_time": "2021-11-30T20:09:01.129Z"
   },
   {
    "duration": 16,
    "start_time": "2021-11-30T20:10:40.505Z"
   },
   {
    "duration": 8,
    "start_time": "2021-11-30T20:11:02.605Z"
   },
   {
    "duration": 73,
    "start_time": "2021-11-30T20:12:35.355Z"
   },
   {
    "duration": 3,
    "start_time": "2021-11-30T20:13:27.166Z"
   },
   {
    "duration": 99,
    "start_time": "2021-11-30T20:13:40.461Z"
   },
   {
    "duration": 51,
    "start_time": "2021-11-30T20:15:12.512Z"
   },
   {
    "duration": 7,
    "start_time": "2021-11-30T20:17:10.090Z"
   },
   {
    "duration": 177,
    "start_time": "2021-11-30T20:20:24.282Z"
   },
   {
    "duration": 571,
    "start_time": "2021-11-30T20:20:31.162Z"
   },
   {
    "duration": 5,
    "start_time": "2021-11-30T20:20:43.394Z"
   },
   {
    "duration": 103725,
    "start_time": "2021-11-30T20:20:46.906Z"
   },
   {
    "duration": 263,
    "start_time": "2021-11-30T20:25:20.738Z"
   },
   {
    "duration": 273,
    "start_time": "2021-11-30T20:25:28.582Z"
   },
   {
    "duration": 24989,
    "start_time": "2021-11-30T20:25:56.129Z"
   },
   {
    "duration": 228,
    "start_time": "2021-11-30T20:28:20.490Z"
   },
   {
    "duration": 488,
    "start_time": "2021-11-30T20:29:35.570Z"
   },
   {
    "duration": 526,
    "start_time": "2021-11-30T20:30:35.422Z"
   },
   {
    "duration": 466,
    "start_time": "2021-11-30T20:30:40.812Z"
   },
   {
    "duration": 28196,
    "start_time": "2021-11-30T20:30:55.562Z"
   },
   {
    "duration": 133,
    "start_time": "2021-11-30T20:33:56.463Z"
   },
   {
    "duration": 450,
    "start_time": "2021-11-30T20:34:10.705Z"
   },
   {
    "duration": 494,
    "start_time": "2021-11-30T20:34:13.094Z"
   },
   {
    "duration": 117,
    "start_time": "2021-11-30T20:34:19.290Z"
   },
   {
    "duration": 117,
    "start_time": "2021-11-30T20:34:25.670Z"
   },
   {
    "duration": 1041,
    "start_time": "2021-12-01T15:35:55.877Z"
   },
   {
    "duration": 71,
    "start_time": "2021-12-01T15:35:56.920Z"
   },
   {
    "duration": 10,
    "start_time": "2021-12-01T15:35:58.434Z"
   },
   {
    "duration": 7,
    "start_time": "2021-12-01T15:35:59.046Z"
   },
   {
    "duration": 16,
    "start_time": "2021-12-01T15:35:59.414Z"
   },
   {
    "duration": 7,
    "start_time": "2021-12-01T15:36:01.555Z"
   },
   {
    "duration": 10,
    "start_time": "2021-12-01T15:36:02.126Z"
   },
   {
    "duration": 11,
    "start_time": "2021-12-01T15:36:03.110Z"
   },
   {
    "duration": 6,
    "start_time": "2021-12-01T15:36:06.454Z"
   },
   {
    "duration": 13,
    "start_time": "2021-12-01T15:36:06.902Z"
   },
   {
    "duration": 7,
    "start_time": "2021-12-01T15:36:08.522Z"
   },
   {
    "duration": 8,
    "start_time": "2021-12-01T15:36:09.502Z"
   },
   {
    "duration": 29,
    "start_time": "2021-12-01T15:36:17.834Z"
   },
   {
    "duration": 5,
    "start_time": "2021-12-01T15:36:26.306Z"
   },
   {
    "duration": 49,
    "start_time": "2021-12-01T15:36:29.514Z"
   },
   {
    "duration": 48,
    "start_time": "2021-12-01T15:37:27.155Z"
   },
   {
    "duration": 180,
    "start_time": "2021-12-01T15:37:34.927Z"
   },
   {
    "duration": 75,
    "start_time": "2021-12-01T15:37:37.703Z"
   },
   {
    "duration": 22661,
    "start_time": "2021-12-01T15:37:57.307Z"
   },
   {
    "duration": 29,
    "start_time": "2021-12-01T15:39:09.583Z"
   },
   {
    "duration": 77,
    "start_time": "2021-12-01T15:39:12.067Z"
   },
   {
    "duration": 40,
    "start_time": "2021-12-01T15:39:33.335Z"
   },
   {
    "duration": 38,
    "start_time": "2021-12-01T15:40:15.572Z"
   },
   {
    "duration": 7,
    "start_time": "2021-12-01T15:41:05.659Z"
   },
   {
    "duration": 91,
    "start_time": "2021-12-01T15:41:24.335Z"
   },
   {
    "duration": 4,
    "start_time": "2021-12-01T15:41:33.393Z"
   },
   {
    "duration": 92,
    "start_time": "2021-12-01T15:41:42.812Z"
   },
   {
    "duration": 89,
    "start_time": "2021-12-01T15:41:44.659Z"
   },
   {
    "duration": 91,
    "start_time": "2021-12-01T15:41:58.764Z"
   },
   {
    "duration": 92,
    "start_time": "2021-12-01T15:42:01.604Z"
   },
   {
    "duration": 89,
    "start_time": "2021-12-01T15:42:17.728Z"
   },
   {
    "duration": 81,
    "start_time": "2021-12-01T15:42:21.108Z"
   },
   {
    "duration": 93,
    "start_time": "2021-12-01T15:42:23.640Z"
   },
   {
    "duration": 92,
    "start_time": "2021-12-01T15:42:26.400Z"
   },
   {
    "duration": 85,
    "start_time": "2021-12-01T15:42:28.920Z"
   },
   {
    "duration": 91,
    "start_time": "2021-12-01T15:42:32.020Z"
   },
   {
    "duration": 81,
    "start_time": "2021-12-01T15:42:36.324Z"
   },
   {
    "duration": 88,
    "start_time": "2021-12-01T15:42:40.724Z"
   },
   {
    "duration": 94688,
    "start_time": "2021-12-01T15:45:09.624Z"
   },
   {
    "duration": 4,
    "start_time": "2021-12-01T15:46:44.340Z"
   },
   {
    "duration": 5,
    "start_time": "2021-12-01T15:47:01.941Z"
   },
   {
    "duration": 390,
    "start_time": "2021-12-01T15:47:41.821Z"
   },
   {
    "duration": 4,
    "start_time": "2021-12-01T15:47:58.409Z"
   },
   {
    "duration": 24,
    "start_time": "2021-12-01T15:48:03.161Z"
   },
   {
    "duration": 206,
    "start_time": "2021-12-01T15:48:14.925Z"
   },
   {
    "duration": 4,
    "start_time": "2021-12-01T15:48:17.689Z"
   },
   {
    "duration": 15,
    "start_time": "2021-12-01T15:48:33.117Z"
   },
   {
    "duration": 4,
    "start_time": "2021-12-01T15:48:37.925Z"
   },
   {
    "duration": 4,
    "start_time": "2021-12-01T15:48:42.921Z"
   },
   {
    "duration": 7,
    "start_time": "2021-12-01T15:48:46.569Z"
   },
   {
    "duration": 24,
    "start_time": "2021-12-01T15:49:12.153Z"
   },
   {
    "duration": 44,
    "start_time": "2021-12-01T15:51:35.518Z"
   },
   {
    "duration": 57,
    "start_time": "2021-12-01T15:54:45.357Z"
   },
   {
    "duration": 193,
    "start_time": "2021-12-01T15:54:55.522Z"
   },
   {
    "duration": 201,
    "start_time": "2021-12-01T15:55:10.566Z"
   },
   {
    "duration": 26,
    "start_time": "2021-12-01T15:55:31.142Z"
   },
   {
    "duration": 308,
    "start_time": "2021-12-01T15:55:43.735Z"
   },
   {
    "duration": 126,
    "start_time": "2021-12-01T15:55:55.135Z"
   },
   {
    "duration": 116,
    "start_time": "2021-12-01T15:56:54.718Z"
   },
   {
    "duration": 157,
    "start_time": "2021-12-01T15:57:10.814Z"
   },
   {
    "duration": 115,
    "start_time": "2021-12-01T15:57:40.158Z"
   },
   {
    "duration": 169,
    "start_time": "2021-12-01T15:59:48.179Z"
   },
   {
    "duration": 109,
    "start_time": "2021-12-01T15:59:50.787Z"
   },
   {
    "duration": 4,
    "start_time": "2021-12-01T15:59:53.882Z"
   },
   {
    "duration": 272,
    "start_time": "2021-12-01T16:03:40.642Z"
   },
   {
    "duration": 114,
    "start_time": "2021-12-01T16:03:44.955Z"
   },
   {
    "duration": 74,
    "start_time": "2021-12-01T16:27:47.027Z"
   },
   {
    "duration": 328,
    "start_time": "2021-12-01T16:29:23.575Z"
   },
   {
    "duration": 296,
    "start_time": "2021-12-01T16:29:30.823Z"
   },
   {
    "duration": 293,
    "start_time": "2021-12-01T16:31:19.659Z"
   },
   {
    "duration": 278,
    "start_time": "2021-12-01T16:31:22.827Z"
   },
   {
    "duration": 310,
    "start_time": "2021-12-01T16:37:12.620Z"
   },
   {
    "duration": 362,
    "start_time": "2021-12-01T16:37:15.459Z"
   },
   {
    "duration": 304,
    "start_time": "2021-12-01T16:37:24.371Z"
   },
   {
    "duration": 281,
    "start_time": "2021-12-01T19:26:22.295Z"
   },
   {
    "duration": 296,
    "start_time": "2021-12-01T19:26:27.488Z"
   },
   {
    "duration": 1107,
    "start_time": "2021-12-01T19:37:41.284Z"
   },
   {
    "duration": 42,
    "start_time": "2021-12-01T19:37:42.393Z"
   },
   {
    "duration": 3,
    "start_time": "2021-12-01T19:37:42.437Z"
   },
   {
    "duration": 10,
    "start_time": "2021-12-01T19:37:42.442Z"
   },
   {
    "duration": 6,
    "start_time": "2021-12-01T19:37:42.454Z"
   },
   {
    "duration": 31,
    "start_time": "2021-12-01T19:37:42.461Z"
   },
   {
    "duration": 6,
    "start_time": "2021-12-01T19:37:42.494Z"
   },
   {
    "duration": 10,
    "start_time": "2021-12-01T19:37:42.501Z"
   },
   {
    "duration": 11,
    "start_time": "2021-12-01T19:37:42.515Z"
   },
   {
    "duration": 5,
    "start_time": "2021-12-01T19:37:42.528Z"
   },
   {
    "duration": 16,
    "start_time": "2021-12-01T19:37:42.535Z"
   },
   {
    "duration": 40,
    "start_time": "2021-12-01T19:37:42.553Z"
   },
   {
    "duration": 8,
    "start_time": "2021-12-01T19:37:42.595Z"
   },
   {
    "duration": 31,
    "start_time": "2021-12-01T19:37:42.606Z"
   },
   {
    "duration": 5,
    "start_time": "2021-12-01T19:37:42.639Z"
   },
   {
    "duration": 78,
    "start_time": "2021-12-01T19:37:42.646Z"
   },
   {
    "duration": 1082,
    "start_time": "2021-12-01T19:38:15.124Z"
   },
   {
    "duration": 44,
    "start_time": "2021-12-01T19:38:16.208Z"
   },
   {
    "duration": 3,
    "start_time": "2021-12-01T19:38:16.254Z"
   },
   {
    "duration": 10,
    "start_time": "2021-12-01T19:38:16.259Z"
   },
   {
    "duration": 5,
    "start_time": "2021-12-01T19:38:16.271Z"
   },
   {
    "duration": 27,
    "start_time": "2021-12-01T19:38:16.278Z"
   },
   {
    "duration": 5,
    "start_time": "2021-12-01T19:38:16.307Z"
   },
   {
    "duration": 8,
    "start_time": "2021-12-01T19:38:16.314Z"
   },
   {
    "duration": 11,
    "start_time": "2021-12-01T19:38:16.325Z"
   },
   {
    "duration": 5,
    "start_time": "2021-12-01T19:38:16.338Z"
   },
   {
    "duration": 47,
    "start_time": "2021-12-01T19:38:16.345Z"
   },
   {
    "duration": 7,
    "start_time": "2021-12-01T19:38:16.394Z"
   },
   {
    "duration": 8,
    "start_time": "2021-12-01T19:38:16.402Z"
   },
   {
    "duration": 27,
    "start_time": "2021-12-01T19:38:16.412Z"
   },
   {
    "duration": 4,
    "start_time": "2021-12-01T19:38:16.441Z"
   },
   {
    "duration": 68,
    "start_time": "2021-12-01T19:38:16.447Z"
   },
   {
    "duration": 90868,
    "start_time": "2021-12-01T19:38:16.517Z"
   },
   {
    "duration": 190,
    "start_time": "2021-12-01T19:39:47.386Z"
   },
   {
    "duration": 83,
    "start_time": "2021-12-01T19:39:47.578Z"
   },
   {
    "duration": 5,
    "start_time": "2021-12-01T19:39:47.663Z"
   },
   {
    "duration": 100,
    "start_time": "2021-12-01T19:39:47.670Z"
   },
   {
    "duration": 6,
    "start_time": "2021-12-01T19:39:47.771Z"
   },
   {
    "duration": 24,
    "start_time": "2021-12-01T19:39:47.779Z"
   },
   {
    "duration": 4,
    "start_time": "2021-12-01T19:39:47.805Z"
   },
   {
    "duration": 45,
    "start_time": "2021-12-01T19:39:47.810Z"
   },
   {
    "duration": 46,
    "start_time": "2021-12-01T19:39:47.857Z"
   },
   {
    "duration": 120,
    "start_time": "2021-12-01T19:39:47.906Z"
   },
   {
    "duration": 137,
    "start_time": "2021-12-01T19:39:48.028Z"
   },
   {
    "duration": 119,
    "start_time": "2021-12-01T19:39:48.167Z"
   },
   {
    "duration": 127,
    "start_time": "2021-12-01T19:39:48.291Z"
   },
   {
    "duration": 125,
    "start_time": "2021-12-01T19:39:48.420Z"
   },
   {
    "duration": 511,
    "start_time": "2021-12-01T19:39:48.547Z"
   },
   {
    "duration": 297,
    "start_time": "2021-12-01T19:40:01.853Z"
   },
   {
    "duration": 168,
    "start_time": "2021-12-01T19:41:06.710Z"
   },
   {
    "duration": 176,
    "start_time": "2021-12-01T19:41:20.937Z"
   },
   {
    "duration": 1883,
    "start_time": "2021-12-01T19:43:49.930Z"
   },
   {
    "duration": 1907,
    "start_time": "2021-12-02T07:08:07.653Z"
   },
   {
    "duration": 645,
    "start_time": "2021-12-02T07:08:08.921Z"
   },
   {
    "duration": 639,
    "start_time": "2021-12-02T07:08:08.929Z"
   },
   {
    "duration": 636,
    "start_time": "2021-12-02T07:08:08.933Z"
   },
   {
    "duration": 637,
    "start_time": "2021-12-02T07:08:08.935Z"
   },
   {
    "duration": 637,
    "start_time": "2021-12-02T07:08:08.937Z"
   },
   {
    "duration": 637,
    "start_time": "2021-12-02T07:08:08.939Z"
   },
   {
    "duration": 638,
    "start_time": "2021-12-02T07:08:08.941Z"
   },
   {
    "duration": 636,
    "start_time": "2021-12-02T07:08:08.944Z"
   },
   {
    "duration": 637,
    "start_time": "2021-12-02T07:08:08.946Z"
   },
   {
    "duration": 632,
    "start_time": "2021-12-02T07:08:08.953Z"
   },
   {
    "duration": 632,
    "start_time": "2021-12-02T07:08:08.955Z"
   },
   {
    "duration": 633,
    "start_time": "2021-12-02T07:08:08.957Z"
   },
   {
    "duration": 631,
    "start_time": "2021-12-02T07:08:08.960Z"
   },
   {
    "duration": 628,
    "start_time": "2021-12-02T07:08:08.965Z"
   },
   {
    "duration": 580,
    "start_time": "2021-12-02T07:08:09.014Z"
   },
   {
    "duration": 573,
    "start_time": "2021-12-02T07:08:09.022Z"
   },
   {
    "duration": 573,
    "start_time": "2021-12-02T07:08:09.024Z"
   },
   {
    "duration": 568,
    "start_time": "2021-12-02T07:08:09.030Z"
   },
   {
    "duration": 567,
    "start_time": "2021-12-02T07:08:09.032Z"
   },
   {
    "duration": 567,
    "start_time": "2021-12-02T07:08:09.034Z"
   },
   {
    "duration": 558,
    "start_time": "2021-12-02T07:08:09.044Z"
   },
   {
    "duration": 558,
    "start_time": "2021-12-02T07:08:09.046Z"
   },
   {
    "duration": 556,
    "start_time": "2021-12-02T07:08:09.049Z"
   },
   {
    "duration": 554,
    "start_time": "2021-12-02T07:08:09.053Z"
   },
   {
    "duration": 546,
    "start_time": "2021-12-02T07:08:09.062Z"
   },
   {
    "duration": 544,
    "start_time": "2021-12-02T07:08:09.065Z"
   },
   {
    "duration": 600,
    "start_time": "2021-12-02T07:08:09.067Z"
   },
   {
    "duration": 593,
    "start_time": "2021-12-02T07:08:09.076Z"
   },
   {
    "duration": 592,
    "start_time": "2021-12-02T07:08:09.078Z"
   },
   {
    "duration": 591,
    "start_time": "2021-12-02T07:08:09.080Z"
   },
   {
    "duration": 590,
    "start_time": "2021-12-02T07:08:09.083Z"
   },
   {
    "duration": 589,
    "start_time": "2021-12-02T07:08:09.085Z"
   },
   {
    "duration": 1879,
    "start_time": "2021-12-02T07:18:52.893Z"
   },
   {
    "duration": 388,
    "start_time": "2021-12-02T07:18:54.389Z"
   },
   {
    "duration": 387,
    "start_time": "2021-12-02T07:18:54.391Z"
   },
   {
    "duration": 387,
    "start_time": "2021-12-02T07:18:54.392Z"
   },
   {
    "duration": 383,
    "start_time": "2021-12-02T07:18:54.398Z"
   },
   {
    "duration": 380,
    "start_time": "2021-12-02T07:18:54.402Z"
   },
   {
    "duration": 379,
    "start_time": "2021-12-02T07:18:54.404Z"
   },
   {
    "duration": 378,
    "start_time": "2021-12-02T07:18:54.406Z"
   },
   {
    "duration": 379,
    "start_time": "2021-12-02T07:18:54.407Z"
   },
   {
    "duration": 378,
    "start_time": "2021-12-02T07:18:54.409Z"
   },
   {
    "duration": 378,
    "start_time": "2021-12-02T07:18:54.410Z"
   },
   {
    "duration": 378,
    "start_time": "2021-12-02T07:18:54.411Z"
   },
   {
    "duration": 377,
    "start_time": "2021-12-02T07:18:54.413Z"
   },
   {
    "duration": 377,
    "start_time": "2021-12-02T07:18:54.414Z"
   },
   {
    "duration": 377,
    "start_time": "2021-12-02T07:18:54.416Z"
   },
   {
    "duration": 376,
    "start_time": "2021-12-02T07:18:54.418Z"
   },
   {
    "duration": 378,
    "start_time": "2021-12-02T07:18:54.419Z"
   },
   {
    "duration": 377,
    "start_time": "2021-12-02T07:18:54.421Z"
   },
   {
    "duration": 373,
    "start_time": "2021-12-02T07:18:54.426Z"
   },
   {
    "duration": 373,
    "start_time": "2021-12-02T07:18:54.428Z"
   },
   {
    "duration": 373,
    "start_time": "2021-12-02T07:18:54.429Z"
   },
   {
    "duration": 372,
    "start_time": "2021-12-02T07:18:54.431Z"
   },
   {
    "duration": 373,
    "start_time": "2021-12-02T07:18:54.432Z"
   },
   {
    "duration": 372,
    "start_time": "2021-12-02T07:18:54.434Z"
   },
   {
    "duration": 371,
    "start_time": "2021-12-02T07:18:54.436Z"
   },
   {
    "duration": 368,
    "start_time": "2021-12-02T07:18:54.440Z"
   },
   {
    "duration": 368,
    "start_time": "2021-12-02T07:18:54.442Z"
   },
   {
    "duration": 368,
    "start_time": "2021-12-02T07:18:54.443Z"
   },
   {
    "duration": 367,
    "start_time": "2021-12-02T07:18:54.445Z"
   },
   {
    "duration": 368,
    "start_time": "2021-12-02T07:18:54.446Z"
   },
   {
    "duration": 367,
    "start_time": "2021-12-02T07:18:54.448Z"
   },
   {
    "duration": 368,
    "start_time": "2021-12-02T07:18:54.449Z"
   },
   {
    "duration": 368,
    "start_time": "2021-12-02T07:18:54.450Z"
   },
   {
    "duration": 7,
    "start_time": "2021-12-02T07:19:42.050Z"
   },
   {
    "duration": 54,
    "start_time": "2021-12-02T07:19:42.393Z"
   },
   {
    "duration": 5,
    "start_time": "2021-12-02T07:19:42.557Z"
   },
   {
    "duration": 13,
    "start_time": "2021-12-02T07:19:42.737Z"
   },
   {
    "duration": 484,
    "start_time": "2021-12-02T07:19:42.904Z"
   },
   {
    "duration": 10,
    "start_time": "2021-12-02T07:19:44.267Z"
   },
   {
    "duration": 28,
    "start_time": "2021-12-02T07:19:44.281Z"
   },
   {
    "duration": 10,
    "start_time": "2021-12-02T07:19:44.313Z"
   },
   {
    "duration": 53,
    "start_time": "2021-12-02T07:19:44.327Z"
   },
   {
    "duration": 20,
    "start_time": "2021-12-02T07:19:44.383Z"
   },
   {
    "duration": 11,
    "start_time": "2021-12-02T07:19:44.406Z"
   },
   {
    "duration": 67,
    "start_time": "2021-12-02T07:19:44.420Z"
   },
   {
    "duration": 10,
    "start_time": "2021-12-02T07:19:44.490Z"
   },
   {
    "duration": 10,
    "start_time": "2021-12-02T07:19:44.576Z"
   },
   {
    "duration": 46,
    "start_time": "2021-12-02T07:19:44.781Z"
   },
   {
    "duration": 8,
    "start_time": "2021-12-02T07:19:44.972Z"
   },
   {
    "duration": 110,
    "start_time": "2021-12-02T07:19:45.370Z"
   },
   {
    "duration": 153288,
    "start_time": "2021-12-02T07:19:45.874Z"
   },
   {
    "duration": 315,
    "start_time": "2021-12-02T07:22:19.168Z"
   },
   {
    "duration": 192,
    "start_time": "2021-12-02T07:22:19.486Z"
   },
   {
    "duration": 10,
    "start_time": "2021-12-02T07:22:19.681Z"
   },
   {
    "duration": 223,
    "start_time": "2021-12-02T07:22:19.694Z"
   },
   {
    "duration": 8,
    "start_time": "2021-12-02T07:22:19.920Z"
   },
   {
    "duration": 48,
    "start_time": "2021-12-02T07:22:19.930Z"
   },
   {
    "duration": 7,
    "start_time": "2021-12-02T07:22:19.981Z"
   },
   {
    "duration": 95,
    "start_time": "2021-12-02T07:22:19.991Z"
   },
   {
    "duration": 42,
    "start_time": "2021-12-02T07:22:20.089Z"
   },
   {
    "duration": 219,
    "start_time": "2021-12-02T07:22:20.134Z"
   },
   {
    "duration": 297,
    "start_time": "2021-12-02T07:22:20.355Z"
   },
   {
    "duration": 272,
    "start_time": "2021-12-02T07:22:20.655Z"
   },
   {
    "duration": 302,
    "start_time": "2021-12-02T07:22:20.930Z"
   },
   {
    "duration": 269,
    "start_time": "2021-12-02T07:22:21.235Z"
   },
   {
    "duration": 696,
    "start_time": "2021-12-02T07:22:21.508Z"
   },
   {
    "duration": 5,
    "start_time": "2021-12-02T07:23:00.730Z"
   },
   {
    "duration": 2158,
    "start_time": "2021-12-02T07:24:59.769Z"
   },
   {
    "duration": 3462,
    "start_time": "2021-12-02T07:25:17.005Z"
   },
   {
    "duration": 2822,
    "start_time": "2021-12-02T07:25:28.653Z"
   },
   {
    "duration": 2856,
    "start_time": "2021-12-02T07:25:35.882Z"
   },
   {
    "duration": 2992,
    "start_time": "2021-12-02T07:25:59.378Z"
   },
   {
    "duration": 2191,
    "start_time": "2021-12-02T07:26:08.150Z"
   },
   {
    "duration": 2181,
    "start_time": "2021-12-02T07:26:13.546Z"
   },
   {
    "duration": 294,
    "start_time": "2021-12-02T07:26:20.114Z"
   },
   {
    "duration": 2186,
    "start_time": "2021-12-02T07:26:24.586Z"
   },
   {
    "duration": 3628,
    "start_time": "2021-12-02T07:26:29.386Z"
   },
   {
    "duration": 4679,
    "start_time": "2021-12-02T07:26:36.146Z"
   },
   {
    "duration": 3119,
    "start_time": "2021-12-02T07:26:45.013Z"
   },
   {
    "duration": 2207,
    "start_time": "2021-12-02T07:26:51.662Z"
   },
   {
    "duration": 2235,
    "start_time": "2021-12-02T07:26:57.317Z"
   },
   {
    "duration": 2192,
    "start_time": "2021-12-02T07:27:01.781Z"
   },
   {
    "duration": 2483,
    "start_time": "2021-12-02T07:28:11.929Z"
   },
   {
    "duration": 3287,
    "start_time": "2021-12-02T15:35:09.266Z"
   },
   {
    "duration": 2097,
    "start_time": "2021-12-02T15:35:58.863Z"
   },
   {
    "duration": 1357,
    "start_time": "2021-12-02T15:38:18.200Z"
   },
   {
    "duration": 57,
    "start_time": "2021-12-02T15:38:19.560Z"
   },
   {
    "duration": 4,
    "start_time": "2021-12-02T15:38:19.620Z"
   },
   {
    "duration": 12,
    "start_time": "2021-12-02T15:38:19.626Z"
   },
   {
    "duration": 4,
    "start_time": "2021-12-02T15:38:19.640Z"
   },
   {
    "duration": 8,
    "start_time": "2021-12-02T15:38:19.646Z"
   },
   {
    "duration": 15,
    "start_time": "2021-12-02T15:38:19.655Z"
   },
   {
    "duration": 5,
    "start_time": "2021-12-02T15:38:19.672Z"
   },
   {
    "duration": 13,
    "start_time": "2021-12-02T15:38:19.708Z"
   },
   {
    "duration": 11,
    "start_time": "2021-12-02T15:38:19.724Z"
   },
   {
    "duration": 6,
    "start_time": "2021-12-02T15:38:19.737Z"
   },
   {
    "duration": 13,
    "start_time": "2021-12-02T15:38:19.744Z"
   },
   {
    "duration": 6,
    "start_time": "2021-12-02T15:38:19.758Z"
   },
   {
    "duration": 46,
    "start_time": "2021-12-02T15:38:19.766Z"
   },
   {
    "duration": 32,
    "start_time": "2021-12-02T15:38:19.813Z"
   },
   {
    "duration": 5,
    "start_time": "2021-12-02T15:38:19.846Z"
   },
   {
    "duration": 68,
    "start_time": "2021-12-02T15:38:19.853Z"
   },
   {
    "duration": 103553,
    "start_time": "2021-12-02T15:38:19.923Z"
   },
   {
    "duration": 228,
    "start_time": "2021-12-02T15:40:03.478Z"
   },
   {
    "duration": 96,
    "start_time": "2021-12-02T15:40:03.712Z"
   },
   {
    "duration": 11,
    "start_time": "2021-12-02T15:40:03.810Z"
   },
   {
    "duration": 155,
    "start_time": "2021-12-02T15:40:03.823Z"
   },
   {
    "duration": 8,
    "start_time": "2021-12-02T15:40:03.980Z"
   },
   {
    "duration": 34,
    "start_time": "2021-12-02T15:40:03.991Z"
   },
   {
    "duration": 6,
    "start_time": "2021-12-02T15:40:04.027Z"
   },
   {
    "duration": 77,
    "start_time": "2021-12-02T15:40:04.035Z"
   },
   {
    "duration": 33,
    "start_time": "2021-12-02T15:40:04.117Z"
   },
   {
    "duration": 146,
    "start_time": "2021-12-02T15:40:04.152Z"
   },
   {
    "duration": 166,
    "start_time": "2021-12-02T15:40:04.300Z"
   },
   {
    "duration": 139,
    "start_time": "2021-12-02T15:40:04.468Z"
   },
   {
    "duration": 158,
    "start_time": "2021-12-02T15:40:04.609Z"
   },
   {
    "duration": 187,
    "start_time": "2021-12-02T15:40:04.769Z"
   },
   {
    "duration": 465,
    "start_time": "2021-12-02T15:40:04.958Z"
   },
   {
    "duration": 2155,
    "start_time": "2021-12-02T15:40:05.426Z"
   },
   {
    "duration": 4425,
    "start_time": "2021-12-02T18:25:09.712Z"
   },
   {
    "duration": 488,
    "start_time": "2021-12-02T18:26:12.452Z"
   },
   {
    "duration": 1935,
    "start_time": "2021-12-02T18:26:31.252Z"
   },
   {
    "duration": 5,
    "start_time": "2021-12-02T18:26:45.534Z"
   },
   {
    "duration": 2479,
    "start_time": "2021-12-02T18:29:14.592Z"
   },
   {
    "duration": 13,
    "start_time": "2021-12-02T18:40:13.549Z"
   },
   {
    "duration": 1206,
    "start_time": "2021-12-02T18:40:21.141Z"
   },
   {
    "duration": 486,
    "start_time": "2021-12-02T18:40:22.349Z"
   },
   {
    "duration": 4,
    "start_time": "2021-12-02T18:40:22.837Z"
   },
   {
    "duration": 10,
    "start_time": "2021-12-02T18:40:22.842Z"
   },
   {
    "duration": 2,
    "start_time": "2021-12-02T18:40:22.854Z"
   },
   {
    "duration": 8,
    "start_time": "2021-12-02T18:40:22.857Z"
   },
   {
    "duration": 15,
    "start_time": "2021-12-02T18:40:22.867Z"
   },
   {
    "duration": 25,
    "start_time": "2021-12-02T18:40:22.885Z"
   },
   {
    "duration": 17,
    "start_time": "2021-12-02T18:40:22.912Z"
   },
   {
    "duration": 10,
    "start_time": "2021-12-02T18:40:22.931Z"
   },
   {
    "duration": 7,
    "start_time": "2021-12-02T18:40:22.943Z"
   },
   {
    "duration": 13,
    "start_time": "2021-12-02T18:40:22.951Z"
   },
   {
    "duration": 7,
    "start_time": "2021-12-02T18:40:22.966Z"
   },
   {
    "duration": 37,
    "start_time": "2021-12-02T18:40:22.975Z"
   },
   {
    "duration": 30,
    "start_time": "2021-12-02T18:40:23.013Z"
   },
   {
    "duration": 5,
    "start_time": "2021-12-02T18:40:23.044Z"
   },
   {
    "duration": 66,
    "start_time": "2021-12-02T18:40:23.051Z"
   },
   {
    "duration": 87212,
    "start_time": "2021-12-02T18:40:23.118Z"
   },
   {
    "duration": 182,
    "start_time": "2021-12-02T18:41:50.332Z"
   },
   {
    "duration": 76,
    "start_time": "2021-12-02T18:41:50.516Z"
   },
   {
    "duration": 6,
    "start_time": "2021-12-02T18:41:50.606Z"
   },
   {
    "duration": 93,
    "start_time": "2021-12-02T18:41:50.614Z"
   },
   {
    "duration": 7,
    "start_time": "2021-12-02T18:41:50.710Z"
   },
   {
    "duration": 16,
    "start_time": "2021-12-02T18:41:50.719Z"
   },
   {
    "duration": 4,
    "start_time": "2021-12-02T18:41:50.736Z"
   },
   {
    "duration": 68,
    "start_time": "2021-12-02T18:41:50.742Z"
   },
   {
    "duration": 26,
    "start_time": "2021-12-02T18:41:50.812Z"
   },
   {
    "duration": 122,
    "start_time": "2021-12-02T18:41:50.840Z"
   },
   {
    "duration": 131,
    "start_time": "2021-12-02T18:41:50.964Z"
   },
   {
    "duration": 113,
    "start_time": "2021-12-02T18:41:51.097Z"
   },
   {
    "duration": 126,
    "start_time": "2021-12-02T18:41:51.212Z"
   },
   {
    "duration": 125,
    "start_time": "2021-12-02T18:41:51.340Z"
   },
   {
    "duration": 274,
    "start_time": "2021-12-02T18:41:51.467Z"
   },
   {
    "duration": 1431,
    "start_time": "2021-12-02T18:41:51.743Z"
   },
   {
    "duration": 129,
    "start_time": "2021-12-02T18:42:51.738Z"
   },
   {
    "duration": 144,
    "start_time": "2021-12-02T18:43:18.790Z"
   },
   {
    "duration": 124,
    "start_time": "2021-12-02T18:43:20.469Z"
   },
   {
    "duration": 265,
    "start_time": "2021-12-02T19:05:14.543Z"
   },
   {
    "duration": 11,
    "start_time": "2021-12-02T19:16:21.943Z"
   },
   {
    "duration": 128,
    "start_time": "2021-12-02T19:25:55.368Z"
   },
   {
    "duration": 131,
    "start_time": "2021-12-02T19:25:58.564Z"
   },
   {
    "duration": 1437,
    "start_time": "2021-12-02T19:27:32.748Z"
   },
   {
    "duration": 34,
    "start_time": "2021-12-02T19:31:14.297Z"
   },
   {
    "duration": 42,
    "start_time": "2021-12-02T19:31:19.597Z"
   },
   {
    "duration": 35,
    "start_time": "2021-12-02T19:31:23.806Z"
   },
   {
    "duration": 42,
    "start_time": "2021-12-02T19:31:27.237Z"
   },
   {
    "duration": 45,
    "start_time": "2021-12-02T19:31:43.836Z"
   },
   {
    "duration": 1200,
    "start_time": "2021-12-02T19:31:58.508Z"
   },
   {
    "duration": 41,
    "start_time": "2021-12-02T19:31:59.710Z"
   },
   {
    "duration": 4,
    "start_time": "2021-12-02T19:31:59.753Z"
   },
   {
    "duration": 9,
    "start_time": "2021-12-02T19:31:59.759Z"
   },
   {
    "duration": 2,
    "start_time": "2021-12-02T19:31:59.770Z"
   },
   {
    "duration": 7,
    "start_time": "2021-12-02T19:31:59.774Z"
   },
   {
    "duration": 27,
    "start_time": "2021-12-02T19:31:59.783Z"
   },
   {
    "duration": 5,
    "start_time": "2021-12-02T19:31:59.814Z"
   },
   {
    "duration": 7,
    "start_time": "2021-12-02T19:31:59.822Z"
   },
   {
    "duration": 11,
    "start_time": "2021-12-02T19:31:59.831Z"
   },
   {
    "duration": 5,
    "start_time": "2021-12-02T19:31:59.843Z"
   },
   {
    "duration": 12,
    "start_time": "2021-12-02T19:31:59.850Z"
   },
   {
    "duration": 46,
    "start_time": "2021-12-02T19:31:59.864Z"
   },
   {
    "duration": 9,
    "start_time": "2021-12-02T19:31:59.912Z"
   },
   {
    "duration": 28,
    "start_time": "2021-12-02T19:31:59.923Z"
   },
   {
    "duration": 4,
    "start_time": "2021-12-02T19:31:59.953Z"
   },
   {
    "duration": 61,
    "start_time": "2021-12-02T19:31:59.959Z"
   },
   {
    "duration": 88174,
    "start_time": "2021-12-02T19:32:00.022Z"
   },
   {
    "duration": 184,
    "start_time": "2021-12-02T19:33:28.198Z"
   },
   {
    "duration": 79,
    "start_time": "2021-12-02T19:33:28.384Z"
   },
   {
    "duration": 6,
    "start_time": "2021-12-02T19:33:28.465Z"
   },
   {
    "duration": 95,
    "start_time": "2021-12-02T19:33:28.472Z"
   },
   {
    "duration": 6,
    "start_time": "2021-12-02T19:33:28.570Z"
   },
   {
    "duration": 31,
    "start_time": "2021-12-02T19:33:28.578Z"
   },
   {
    "duration": 4,
    "start_time": "2021-12-02T19:33:28.611Z"
   },
   {
    "duration": 44,
    "start_time": "2021-12-02T19:33:28.616Z"
   },
   {
    "duration": 46,
    "start_time": "2021-12-02T19:33:28.662Z"
   },
   {
    "duration": 110,
    "start_time": "2021-12-02T19:33:28.710Z"
   },
   {
    "duration": 154,
    "start_time": "2021-12-02T19:33:28.822Z"
   },
   {
    "duration": 140,
    "start_time": "2021-12-02T19:33:28.978Z"
   },
   {
    "duration": 120,
    "start_time": "2021-12-02T19:33:29.119Z"
   },
   {
    "duration": 129,
    "start_time": "2021-12-02T19:33:29.241Z"
   },
   {
    "duration": 290,
    "start_time": "2021-12-02T19:33:29.372Z"
   },
   {
    "duration": 1267,
    "start_time": "2021-12-02T19:33:29.664Z"
   },
   {
    "duration": 61,
    "start_time": "2021-12-02T19:35:38.657Z"
   },
   {
    "duration": 1286,
    "start_time": "2021-12-02T19:35:47.132Z"
   },
   {
    "duration": 44,
    "start_time": "2021-12-02T19:35:48.421Z"
   },
   {
    "duration": 4,
    "start_time": "2021-12-02T19:35:48.467Z"
   },
   {
    "duration": 11,
    "start_time": "2021-12-02T19:35:48.473Z"
   },
   {
    "duration": 3,
    "start_time": "2021-12-02T19:35:48.486Z"
   },
   {
    "duration": 9,
    "start_time": "2021-12-02T19:35:48.507Z"
   },
   {
    "duration": 12,
    "start_time": "2021-12-02T19:35:48.518Z"
   },
   {
    "duration": 7,
    "start_time": "2021-12-02T19:35:48.532Z"
   },
   {
    "duration": 9,
    "start_time": "2021-12-02T19:35:48.542Z"
   },
   {
    "duration": 54,
    "start_time": "2021-12-02T19:35:48.554Z"
   },
   {
    "duration": 7,
    "start_time": "2021-12-02T19:35:48.610Z"
   },
   {
    "duration": 13,
    "start_time": "2021-12-02T19:35:48.619Z"
   },
   {
    "duration": 8,
    "start_time": "2021-12-02T19:35:48.634Z"
   },
   {
    "duration": 7,
    "start_time": "2021-12-02T19:35:48.643Z"
   },
   {
    "duration": 62,
    "start_time": "2021-12-02T19:35:48.652Z"
   },
   {
    "duration": 4,
    "start_time": "2021-12-02T19:35:48.716Z"
   },
   {
    "duration": 42,
    "start_time": "2021-12-02T19:35:48.722Z"
   },
   {
    "duration": 87934,
    "start_time": "2021-12-02T19:35:48.766Z"
   },
   {
    "duration": 180,
    "start_time": "2021-12-02T19:37:16.702Z"
   },
   {
    "duration": 83,
    "start_time": "2021-12-02T19:37:16.884Z"
   },
   {
    "duration": 7,
    "start_time": "2021-12-02T19:37:16.968Z"
   },
   {
    "duration": 105,
    "start_time": "2021-12-02T19:37:16.977Z"
   },
   {
    "duration": 17,
    "start_time": "2021-12-02T19:37:17.084Z"
   },
   {
    "duration": 21,
    "start_time": "2021-12-02T19:37:17.103Z"
   },
   {
    "duration": 4,
    "start_time": "2021-12-02T19:37:17.126Z"
   },
   {
    "duration": 75,
    "start_time": "2021-12-02T19:37:17.132Z"
   },
   {
    "duration": 26,
    "start_time": "2021-12-02T19:37:17.210Z"
   },
   {
    "duration": 123,
    "start_time": "2021-12-02T19:37:17.238Z"
   },
   {
    "duration": 156,
    "start_time": "2021-12-02T19:37:17.363Z"
   },
   {
    "duration": 138,
    "start_time": "2021-12-02T19:37:17.521Z"
   },
   {
    "duration": 127,
    "start_time": "2021-12-02T19:37:17.661Z"
   },
   {
    "duration": 134,
    "start_time": "2021-12-02T19:37:17.790Z"
   },
   {
    "duration": 281,
    "start_time": "2021-12-02T19:37:17.925Z"
   },
   {
    "duration": 1332,
    "start_time": "2021-12-02T19:37:18.208Z"
   },
   {
    "duration": 1231,
    "start_time": "2021-12-02T19:38:59.208Z"
   },
   {
    "duration": 44,
    "start_time": "2021-12-02T19:39:00.441Z"
   },
   {
    "duration": 3,
    "start_time": "2021-12-02T19:39:00.487Z"
   },
   {
    "duration": 14,
    "start_time": "2021-12-02T19:39:00.492Z"
   },
   {
    "duration": 2,
    "start_time": "2021-12-02T19:39:00.508Z"
   },
   {
    "duration": 12,
    "start_time": "2021-12-02T19:39:00.512Z"
   },
   {
    "duration": 11,
    "start_time": "2021-12-02T19:39:00.525Z"
   },
   {
    "duration": 6,
    "start_time": "2021-12-02T19:39:00.538Z"
   },
   {
    "duration": 9,
    "start_time": "2021-12-02T19:39:00.547Z"
   },
   {
    "duration": 13,
    "start_time": "2021-12-02T19:39:00.558Z"
   },
   {
    "duration": 5,
    "start_time": "2021-12-02T19:39:00.607Z"
   },
   {
    "duration": 17,
    "start_time": "2021-12-02T19:39:00.614Z"
   },
   {
    "duration": 7,
    "start_time": "2021-12-02T19:39:00.633Z"
   },
   {
    "duration": 12,
    "start_time": "2021-12-02T19:39:00.642Z"
   },
   {
    "duration": 27,
    "start_time": "2021-12-02T19:39:00.656Z"
   },
   {
    "duration": 5,
    "start_time": "2021-12-02T19:39:00.706Z"
   },
   {
    "duration": 59,
    "start_time": "2021-12-02T19:39:00.713Z"
   },
   {
    "duration": 87777,
    "start_time": "2021-12-02T19:39:00.774Z"
   },
   {
    "duration": 178,
    "start_time": "2021-12-02T19:40:28.553Z"
   },
   {
    "duration": 93,
    "start_time": "2021-12-02T19:40:28.732Z"
   },
   {
    "duration": 6,
    "start_time": "2021-12-02T19:40:28.826Z"
   },
   {
    "duration": 93,
    "start_time": "2021-12-02T19:40:28.833Z"
   },
   {
    "duration": 5,
    "start_time": "2021-12-02T19:40:28.929Z"
   },
   {
    "duration": 15,
    "start_time": "2021-12-02T19:40:28.936Z"
   },
   {
    "duration": 3,
    "start_time": "2021-12-02T19:40:28.953Z"
   },
   {
    "duration": 94,
    "start_time": "2021-12-02T19:40:28.958Z"
   },
   {
    "duration": 25,
    "start_time": "2021-12-02T19:40:29.054Z"
   },
   {
    "duration": 124,
    "start_time": "2021-12-02T19:40:29.081Z"
   },
   {
    "duration": 151,
    "start_time": "2021-12-02T19:40:29.207Z"
   },
   {
    "duration": 139,
    "start_time": "2021-12-02T19:40:29.360Z"
   },
   {
    "duration": 127,
    "start_time": "2021-12-02T19:40:29.500Z"
   },
   {
    "duration": 130,
    "start_time": "2021-12-02T19:40:29.628Z"
   },
   {
    "duration": 286,
    "start_time": "2021-12-02T19:40:29.760Z"
   },
   {
    "duration": 1287,
    "start_time": "2021-12-02T19:40:30.048Z"
   },
   {
    "duration": 1289,
    "start_time": "2021-12-02T19:41:19.926Z"
   },
   {
    "duration": 42,
    "start_time": "2021-12-02T19:41:21.217Z"
   },
   {
    "duration": 3,
    "start_time": "2021-12-02T19:41:21.262Z"
   },
   {
    "duration": 9,
    "start_time": "2021-12-02T19:41:21.267Z"
   },
   {
    "duration": 2,
    "start_time": "2021-12-02T19:41:21.278Z"
   },
   {
    "duration": 8,
    "start_time": "2021-12-02T19:41:21.282Z"
   },
   {
    "duration": 11,
    "start_time": "2021-12-02T19:41:21.307Z"
   },
   {
    "duration": 5,
    "start_time": "2021-12-02T19:41:21.319Z"
   },
   {
    "duration": 8,
    "start_time": "2021-12-02T19:41:21.327Z"
   },
   {
    "duration": 12,
    "start_time": "2021-12-02T19:41:21.337Z"
   },
   {
    "duration": 5,
    "start_time": "2021-12-02T19:41:21.351Z"
   },
   {
    "duration": 49,
    "start_time": "2021-12-02T19:41:21.358Z"
   },
   {
    "duration": 7,
    "start_time": "2021-12-02T19:41:21.409Z"
   },
   {
    "duration": 9,
    "start_time": "2021-12-02T19:41:21.418Z"
   },
   {
    "duration": 29,
    "start_time": "2021-12-02T19:41:21.429Z"
   },
   {
    "duration": 5,
    "start_time": "2021-12-02T19:41:21.460Z"
   },
   {
    "duration": 72,
    "start_time": "2021-12-02T19:41:21.467Z"
   },
   {
    "duration": 88579,
    "start_time": "2021-12-02T19:41:21.542Z"
   },
   {
    "duration": 184,
    "start_time": "2021-12-02T19:42:50.123Z"
   },
   {
    "duration": 74,
    "start_time": "2021-12-02T19:42:50.309Z"
   },
   {
    "duration": 23,
    "start_time": "2021-12-02T19:42:50.384Z"
   },
   {
    "duration": 85,
    "start_time": "2021-12-02T19:42:50.408Z"
   },
   {
    "duration": 16,
    "start_time": "2021-12-02T19:42:50.494Z"
   },
   {
    "duration": 16,
    "start_time": "2021-12-02T19:42:50.512Z"
   },
   {
    "duration": 3,
    "start_time": "2021-12-02T19:42:50.530Z"
   },
   {
    "duration": 42,
    "start_time": "2021-12-02T19:42:50.535Z"
   },
   {
    "duration": 51,
    "start_time": "2021-12-02T19:42:50.580Z"
   },
   {
    "duration": 119,
    "start_time": "2021-12-02T19:42:50.633Z"
   },
   {
    "duration": 158,
    "start_time": "2021-12-02T19:42:50.753Z"
   },
   {
    "duration": 133,
    "start_time": "2021-12-02T19:42:50.913Z"
   },
   {
    "duration": 132,
    "start_time": "2021-12-02T19:42:51.048Z"
   },
   {
    "duration": 137,
    "start_time": "2021-12-02T19:42:51.182Z"
   },
   {
    "duration": 290,
    "start_time": "2021-12-02T19:42:51.321Z"
   },
   {
    "duration": 1280,
    "start_time": "2021-12-02T19:42:51.613Z"
   },
   {
    "duration": 1165,
    "start_time": "2021-12-03T06:44:30.660Z"
   },
   {
    "duration": 285,
    "start_time": "2021-12-03T06:45:06.512Z"
   },
   {
    "duration": 43,
    "start_time": "2021-12-03T06:45:12.159Z"
   },
   {
    "duration": 3,
    "start_time": "2021-12-03T06:45:12.785Z"
   },
   {
    "duration": 8,
    "start_time": "2021-12-03T06:45:13.347Z"
   },
   {
    "duration": 198,
    "start_time": "2021-12-03T06:45:13.814Z"
   },
   {
    "duration": 186,
    "start_time": "2021-12-03T06:45:53.547Z"
   },
   {
    "duration": 196,
    "start_time": "2021-12-03T06:46:10.940Z"
   },
   {
    "duration": 189,
    "start_time": "2021-12-03T06:46:17.267Z"
   },
   {
    "duration": 4,
    "start_time": "2021-12-03T06:46:58.013Z"
   },
   {
    "duration": 185,
    "start_time": "2021-12-03T06:47:00.998Z"
   },
   {
    "duration": 181,
    "start_time": "2021-12-03T06:47:21.625Z"
   },
   {
    "duration": 192,
    "start_time": "2021-12-03T06:49:46.323Z"
   },
   {
    "duration": 187,
    "start_time": "2021-12-03T06:50:09.655Z"
   },
   {
    "duration": 194,
    "start_time": "2021-12-03T06:50:15.221Z"
   },
   {
    "duration": 224,
    "start_time": "2021-12-03T06:50:39.048Z"
   },
   {
    "duration": 187,
    "start_time": "2021-12-03T06:51:05.036Z"
   },
   {
    "duration": 206,
    "start_time": "2021-12-03T06:51:09.227Z"
   },
   {
    "duration": 20,
    "start_time": "2021-12-03T06:51:23.279Z"
   },
   {
    "duration": 192,
    "start_time": "2021-12-03T06:51:27.192Z"
   },
   {
    "duration": 9,
    "start_time": "2021-12-03T06:51:29.929Z"
   },
   {
    "duration": 196,
    "start_time": "2021-12-03T06:52:32.773Z"
   },
   {
    "duration": 187,
    "start_time": "2021-12-03T06:53:33.044Z"
   },
   {
    "duration": 189,
    "start_time": "2021-12-03T06:53:45.914Z"
   },
   {
    "duration": 187,
    "start_time": "2021-12-03T06:53:55.870Z"
   },
   {
    "duration": 323,
    "start_time": "2021-12-03T06:54:07.859Z"
   },
   {
    "duration": 66,
    "start_time": "2021-12-03T06:54:33.816Z"
   },
   {
    "duration": 187,
    "start_time": "2021-12-03T06:54:49.335Z"
   },
   {
    "duration": 191,
    "start_time": "2021-12-03T06:55:06.107Z"
   },
   {
    "duration": 195,
    "start_time": "2021-12-03T06:55:14.834Z"
   },
   {
    "duration": 718,
    "start_time": "2021-12-03T06:55:28.327Z"
   },
   {
    "duration": 64,
    "start_time": "2021-12-03T06:56:11.391Z"
   },
   {
    "duration": 780,
    "start_time": "2021-12-03T06:56:40.460Z"
   },
   {
    "duration": 20,
    "start_time": "2021-12-03T06:56:45.569Z"
   },
   {
    "duration": 9,
    "start_time": "2021-12-03T06:56:50.612Z"
   },
   {
    "duration": 61,
    "start_time": "2021-12-03T06:57:09.434Z"
   },
   {
    "duration": 61,
    "start_time": "2021-12-03T06:57:11.507Z"
   },
   {
    "duration": 10,
    "start_time": "2021-12-03T06:57:13.437Z"
   },
   {
    "duration": 11,
    "start_time": "2021-12-03T06:58:10.188Z"
   },
   {
    "duration": 8,
    "start_time": "2021-12-03T07:17:57.669Z"
   },
   {
    "duration": 8,
    "start_time": "2021-12-03T07:18:00.771Z"
   },
   {
    "duration": 8,
    "start_time": "2021-12-03T07:18:03.250Z"
   },
   {
    "duration": 9,
    "start_time": "2021-12-03T07:18:06.314Z"
   },
   {
    "duration": 1079,
    "start_time": "2021-12-03T07:18:11.821Z"
   },
   {
    "duration": 41,
    "start_time": "2021-12-03T07:18:12.902Z"
   },
   {
    "duration": 4,
    "start_time": "2021-12-03T07:18:12.944Z"
   },
   {
    "duration": 11,
    "start_time": "2021-12-03T07:18:12.949Z"
   },
   {
    "duration": 8,
    "start_time": "2021-12-03T07:18:12.961Z"
   },
   {
    "duration": 775,
    "start_time": "2021-12-03T07:18:12.970Z"
   },
   {
    "duration": 5,
    "start_time": "2021-12-03T07:18:13.748Z"
   },
   {
    "duration": 11,
    "start_time": "2021-12-03T07:18:13.755Z"
   },
   {
    "duration": 8,
    "start_time": "2021-12-03T07:18:13.768Z"
   },
   {
    "duration": 7,
    "start_time": "2021-12-03T07:18:13.792Z"
   },
   {
    "duration": 13,
    "start_time": "2021-12-03T07:18:13.801Z"
   },
   {
    "duration": 4,
    "start_time": "2021-12-03T07:18:13.816Z"
   },
   {
    "duration": 12,
    "start_time": "2021-12-03T07:18:13.822Z"
   },
   {
    "duration": 6,
    "start_time": "2021-12-03T07:18:13.835Z"
   },
   {
    "duration": 16,
    "start_time": "2021-12-03T07:18:13.842Z"
   },
   {
    "duration": 50,
    "start_time": "2021-12-03T07:18:13.860Z"
   },
   {
    "duration": 5,
    "start_time": "2021-12-03T07:18:13.912Z"
   },
   {
    "duration": 43,
    "start_time": "2021-12-03T07:18:13.918Z"
   },
   {
    "duration": 1085,
    "start_time": "2021-12-03T07:18:58.012Z"
   },
   {
    "duration": 43,
    "start_time": "2021-12-03T07:19:02.173Z"
   },
   {
    "duration": 4,
    "start_time": "2021-12-03T07:19:03.185Z"
   },
   {
    "duration": 9,
    "start_time": "2021-12-03T07:19:03.697Z"
   },
   {
    "duration": 9,
    "start_time": "2021-12-03T07:19:05.875Z"
   },
   {
    "duration": 746,
    "start_time": "2021-12-03T07:19:11.700Z"
   },
   {
    "duration": 1145,
    "start_time": "2021-12-03T07:19:22.564Z"
   },
   {
    "duration": 43,
    "start_time": "2021-12-03T07:19:25.462Z"
   },
   {
    "duration": 6,
    "start_time": "2021-12-03T07:19:25.694Z"
   },
   {
    "duration": 9,
    "start_time": "2021-12-03T07:19:25.962Z"
   },
   {
    "duration": 10,
    "start_time": "2021-12-03T07:19:28.059Z"
   },
   {
    "duration": 759,
    "start_time": "2021-12-03T07:19:32.782Z"
   },
   {
    "duration": 7,
    "start_time": "2021-12-03T07:19:41.946Z"
   },
   {
    "duration": 270,
    "start_time": "2021-12-03T07:19:54.393Z"
   },
   {
    "duration": 65,
    "start_time": "2021-12-03T07:19:58.089Z"
   },
   {
    "duration": 58,
    "start_time": "2021-12-03T07:20:14.325Z"
   },
   {
    "duration": 10,
    "start_time": "2021-12-03T07:20:17.124Z"
   },
   {
    "duration": 8,
    "start_time": "2021-12-03T07:20:37.670Z"
   },
   {
    "duration": 192,
    "start_time": "2021-12-03T07:21:29.230Z"
   },
   {
    "duration": 9,
    "start_time": "2021-12-03T07:21:37.194Z"
   },
   {
    "duration": 15,
    "start_time": "2021-12-03T07:21:40.944Z"
   },
   {
    "duration": 209,
    "start_time": "2021-12-03T07:21:57.429Z"
   },
   {
    "duration": 13,
    "start_time": "2021-12-03T07:24:03.017Z"
   },
   {
    "duration": 3,
    "start_time": "2021-12-03T07:25:12.981Z"
   },
   {
    "duration": 12,
    "start_time": "2021-12-03T07:25:21.012Z"
   },
   {
    "duration": 194,
    "start_time": "2021-12-03T07:25:57.455Z"
   },
   {
    "duration": 20,
    "start_time": "2021-12-03T07:26:37.324Z"
   },
   {
    "duration": 8,
    "start_time": "2021-12-03T07:26:47.622Z"
   },
   {
    "duration": 17,
    "start_time": "2021-12-03T07:27:21.309Z"
   },
   {
    "duration": 201,
    "start_time": "2021-12-03T07:27:52.504Z"
   },
   {
    "duration": 264,
    "start_time": "2021-12-03T07:28:14.252Z"
   },
   {
    "duration": 182,
    "start_time": "2021-12-03T07:28:18.685Z"
   },
   {
    "duration": 32,
    "start_time": "2021-12-03T07:28:29.955Z"
   },
   {
    "duration": 361,
    "start_time": "2021-12-03T07:28:35.151Z"
   },
   {
    "duration": 195,
    "start_time": "2021-12-03T07:28:41.667Z"
   },
   {
    "duration": 43,
    "start_time": "2021-12-03T07:28:48.670Z"
   },
   {
    "duration": 227,
    "start_time": "2021-12-03T13:24:09.531Z"
   },
   {
    "duration": 1363,
    "start_time": "2021-12-03T13:24:13.604Z"
   },
   {
    "duration": 430,
    "start_time": "2021-12-03T13:24:14.538Z"
   },
   {
    "duration": 208,
    "start_time": "2021-12-03T13:24:15.052Z"
   },
   {
    "duration": 178,
    "start_time": "2021-12-03T13:24:15.536Z"
   },
   {
    "duration": 67,
    "start_time": "2021-12-03T13:24:20.880Z"
   },
   {
    "duration": 4,
    "start_time": "2021-12-03T13:24:22.028Z"
   },
   {
    "duration": 9,
    "start_time": "2021-12-03T13:24:24.241Z"
   },
   {
    "duration": 9,
    "start_time": "2021-12-03T13:24:24.532Z"
   },
   {
    "duration": 855,
    "start_time": "2021-12-03T13:24:30.120Z"
   },
   {
    "duration": 179,
    "start_time": "2021-12-03T13:24:43.572Z"
   },
   {
    "duration": 200,
    "start_time": "2021-12-03T13:25:09.440Z"
   },
   {
    "duration": 8139,
    "start_time": "2021-12-03T13:25:27.224Z"
   },
   {
    "duration": 188,
    "start_time": "2021-12-03T13:25:38.016Z"
   },
   {
    "duration": 184,
    "start_time": "2021-12-03T13:25:40.912Z"
   },
   {
    "duration": 4,
    "start_time": "2021-12-03T13:25:51.632Z"
   },
   {
    "duration": 214,
    "start_time": "2021-12-03T13:25:54.368Z"
   },
   {
    "duration": 192,
    "start_time": "2021-12-03T13:26:21.812Z"
   },
   {
    "duration": 190,
    "start_time": "2021-12-03T13:26:46.260Z"
   },
   {
    "duration": 8,
    "start_time": "2021-12-03T13:27:19.108Z"
   },
   {
    "duration": 4,
    "start_time": "2021-12-03T13:27:19.776Z"
   },
   {
    "duration": 13,
    "start_time": "2021-12-03T13:27:20.224Z"
   },
   {
    "duration": 10,
    "start_time": "2021-12-03T13:27:22.888Z"
   },
   {
    "duration": 8,
    "start_time": "2021-12-03T13:27:23.032Z"
   },
   {
    "duration": 11,
    "start_time": "2021-12-03T13:27:23.188Z"
   },
   {
    "duration": 12,
    "start_time": "2021-12-03T13:27:23.332Z"
   },
   {
    "duration": 6,
    "start_time": "2021-12-03T13:27:23.472Z"
   },
   {
    "duration": 12,
    "start_time": "2021-12-03T13:27:23.612Z"
   },
   {
    "duration": 7,
    "start_time": "2021-12-03T13:27:23.756Z"
   },
   {
    "duration": 8,
    "start_time": "2021-12-03T13:27:23.900Z"
   },
   {
    "duration": 29,
    "start_time": "2021-12-03T13:27:24.032Z"
   },
   {
    "duration": 5,
    "start_time": "2021-12-03T13:27:26.828Z"
   },
   {
    "duration": 41,
    "start_time": "2021-12-03T13:27:31.956Z"
   },
   {
    "duration": 3,
    "start_time": "2021-12-03T15:49:16.718Z"
   },
   {
    "duration": 178,
    "start_time": "2021-12-03T15:49:20.413Z"
   },
   {
    "duration": 2276,
    "start_time": "2021-12-03T15:49:23.410Z"
   },
   {
    "duration": 264,
    "start_time": "2021-12-03T15:49:28.210Z"
   },
   {
    "duration": 166,
    "start_time": "2021-12-03T15:49:59.298Z"
   },
   {
    "duration": 5,
    "start_time": "2021-12-03T15:50:03.821Z"
   },
   {
    "duration": 192,
    "start_time": "2021-12-03T15:50:04.402Z"
   },
   {
    "duration": 4,
    "start_time": "2021-12-03T15:50:14.058Z"
   },
   {
    "duration": 4,
    "start_time": "2021-12-03T15:50:15.514Z"
   },
   {
    "duration": 1451,
    "start_time": "2021-12-03T15:50:49.451Z"
   },
   {
    "duration": 184,
    "start_time": "2021-12-03T15:50:59.941Z"
   },
   {
    "duration": 2231,
    "start_time": "2021-12-03T15:51:04.397Z"
   },
   {
    "duration": 5,
    "start_time": "2021-12-03T15:51:08.713Z"
   },
   {
    "duration": 60,
    "start_time": "2021-12-03T15:51:29.677Z"
   },
   {
    "duration": 1128,
    "start_time": "2021-12-03T15:52:37.072Z"
   },
   {
    "duration": 6,
    "start_time": "2021-12-03T15:52:41.380Z"
   },
   {
    "duration": 39,
    "start_time": "2021-12-03T15:52:45.588Z"
   },
   {
    "duration": 5,
    "start_time": "2021-12-03T15:52:46.108Z"
   },
   {
    "duration": 10,
    "start_time": "2021-12-03T15:52:46.768Z"
   },
   {
    "duration": 10,
    "start_time": "2021-12-03T15:52:47.396Z"
   },
   {
    "duration": 292,
    "start_time": "2021-12-03T15:53:15.536Z"
   },
   {
    "duration": 4,
    "start_time": "2021-12-03T15:53:24.768Z"
   },
   {
    "duration": 12,
    "start_time": "2021-12-03T15:53:37.172Z"
   },
   {
    "duration": 10,
    "start_time": "2021-12-03T15:53:46.964Z"
   },
   {
    "duration": 42,
    "start_time": "2021-12-03T15:53:47.860Z"
   },
   {
    "duration": 19,
    "start_time": "2021-12-03T15:54:09.348Z"
   },
   {
    "duration": 9,
    "start_time": "2021-12-03T15:54:13.848Z"
   },
   {
    "duration": 858,
    "start_time": "2021-12-03T15:54:30.180Z"
   },
   {
    "duration": 9,
    "start_time": "2021-12-03T15:55:11.060Z"
   },
   {
    "duration": 9,
    "start_time": "2021-12-03T15:55:16.260Z"
   },
   {
    "duration": 8,
    "start_time": "2021-12-03T15:56:05.256Z"
   },
   {
    "duration": 1125,
    "start_time": "2021-12-03T15:56:11.262Z"
   },
   {
    "duration": 41,
    "start_time": "2021-12-03T15:56:12.388Z"
   },
   {
    "duration": 4,
    "start_time": "2021-12-03T15:56:12.430Z"
   },
   {
    "duration": 11,
    "start_time": "2021-12-03T15:56:12.435Z"
   },
   {
    "duration": 8,
    "start_time": "2021-12-03T15:56:12.447Z"
   },
   {
    "duration": 792,
    "start_time": "2021-12-03T15:56:12.456Z"
   },
   {
    "duration": 3,
    "start_time": "2021-12-03T15:56:13.249Z"
   },
   {
    "duration": 12,
    "start_time": "2021-12-03T15:56:13.254Z"
   },
   {
    "duration": 55,
    "start_time": "2021-12-03T15:56:13.269Z"
   },
   {
    "duration": 7,
    "start_time": "2021-12-03T15:56:13.325Z"
   },
   {
    "duration": 12,
    "start_time": "2021-12-03T15:56:13.334Z"
   },
   {
    "duration": 12,
    "start_time": "2021-12-03T15:56:13.348Z"
   },
   {
    "duration": 10,
    "start_time": "2021-12-03T15:56:13.362Z"
   },
   {
    "duration": 22,
    "start_time": "2021-12-03T15:56:13.374Z"
   },
   {
    "duration": 11,
    "start_time": "2021-12-03T15:56:13.397Z"
   },
   {
    "duration": 6,
    "start_time": "2021-12-03T15:56:13.410Z"
   },
   {
    "duration": 14,
    "start_time": "2021-12-03T15:56:13.418Z"
   },
   {
    "duration": 6,
    "start_time": "2021-12-03T15:56:13.433Z"
   },
   {
    "duration": 7,
    "start_time": "2021-12-03T15:56:13.441Z"
   },
   {
    "duration": 59,
    "start_time": "2021-12-03T15:56:13.450Z"
   },
   {
    "duration": 6,
    "start_time": "2021-12-03T15:56:13.511Z"
   },
   {
    "duration": 41,
    "start_time": "2021-12-03T15:56:13.519Z"
   },
   {
    "duration": 87247,
    "start_time": "2021-12-03T15:56:13.564Z"
   },
   {
    "duration": 199,
    "start_time": "2021-12-03T15:57:40.813Z"
   },
   {
    "duration": 83,
    "start_time": "2021-12-03T15:57:41.014Z"
   },
   {
    "duration": 7,
    "start_time": "2021-12-03T15:57:41.099Z"
   },
   {
    "duration": 96,
    "start_time": "2021-12-03T15:57:41.108Z"
   },
   {
    "duration": 6,
    "start_time": "2021-12-03T15:57:41.205Z"
   },
   {
    "duration": 15,
    "start_time": "2021-12-03T15:57:41.212Z"
   },
   {
    "duration": 4,
    "start_time": "2021-12-03T15:57:41.228Z"
   },
   {
    "duration": 74,
    "start_time": "2021-12-03T15:57:41.234Z"
   },
   {
    "duration": 30,
    "start_time": "2021-12-03T15:57:41.310Z"
   },
   {
    "duration": 115,
    "start_time": "2021-12-03T15:57:41.342Z"
   },
   {
    "duration": 148,
    "start_time": "2021-12-03T15:57:41.459Z"
   },
   {
    "duration": 128,
    "start_time": "2021-12-03T15:57:41.609Z"
   },
   {
    "duration": 114,
    "start_time": "2021-12-03T15:57:41.739Z"
   },
   {
    "duration": 126,
    "start_time": "2021-12-03T15:57:41.855Z"
   },
   {
    "duration": 277,
    "start_time": "2021-12-03T15:57:41.983Z"
   },
   {
    "duration": 1197,
    "start_time": "2021-12-03T15:57:42.261Z"
   },
   {
    "duration": 76,
    "start_time": "2021-12-03T15:58:16.890Z"
   },
   {
    "duration": 131,
    "start_time": "2021-12-03T15:58:25.674Z"
   },
   {
    "duration": 8,
    "start_time": "2021-12-03T15:59:13.514Z"
   },
   {
    "duration": 1144,
    "start_time": "2021-12-03T15:59:17.705Z"
   },
   {
    "duration": 41,
    "start_time": "2021-12-03T15:59:18.851Z"
   },
   {
    "duration": 4,
    "start_time": "2021-12-03T15:59:18.894Z"
   },
   {
    "duration": 10,
    "start_time": "2021-12-03T15:59:18.900Z"
   },
   {
    "duration": 7,
    "start_time": "2021-12-03T15:59:18.912Z"
   },
   {
    "duration": 935,
    "start_time": "2021-12-03T15:59:18.920Z"
   },
   {
    "duration": 3,
    "start_time": "2021-12-03T15:59:19.857Z"
   },
   {
    "duration": 12,
    "start_time": "2021-12-03T15:59:19.862Z"
   },
   {
    "duration": 54,
    "start_time": "2021-12-03T15:59:19.876Z"
   },
   {
    "duration": 7,
    "start_time": "2021-12-03T15:59:19.932Z"
   },
   {
    "duration": 18,
    "start_time": "2021-12-03T15:59:19.941Z"
   },
   {
    "duration": 20,
    "start_time": "2021-12-03T15:59:19.960Z"
   },
   {
    "duration": 12,
    "start_time": "2021-12-03T15:59:19.982Z"
   },
   {
    "duration": 26,
    "start_time": "2021-12-03T15:59:19.996Z"
   },
   {
    "duration": 19,
    "start_time": "2021-12-03T15:59:20.024Z"
   },
   {
    "duration": 16,
    "start_time": "2021-12-03T15:59:20.045Z"
   },
   {
    "duration": 21,
    "start_time": "2021-12-03T15:59:20.062Z"
   },
   {
    "duration": 18,
    "start_time": "2021-12-03T15:59:20.085Z"
   },
   {
    "duration": 15,
    "start_time": "2021-12-03T15:59:20.105Z"
   },
   {
    "duration": 43,
    "start_time": "2021-12-03T15:59:20.121Z"
   },
   {
    "duration": 5,
    "start_time": "2021-12-03T15:59:20.165Z"
   },
   {
    "duration": 50,
    "start_time": "2021-12-03T15:59:20.172Z"
   },
   {
    "duration": 86593,
    "start_time": "2021-12-03T15:59:20.226Z"
   },
   {
    "duration": 176,
    "start_time": "2021-12-03T16:00:46.821Z"
   },
   {
    "duration": 72,
    "start_time": "2021-12-03T16:00:46.999Z"
   },
   {
    "duration": 19,
    "start_time": "2021-12-03T16:00:47.072Z"
   },
   {
    "duration": 79,
    "start_time": "2021-12-03T16:00:47.093Z"
   },
   {
    "duration": 18,
    "start_time": "2021-12-03T16:00:47.174Z"
   },
   {
    "duration": 14,
    "start_time": "2021-12-03T16:00:47.194Z"
   },
   {
    "duration": 5,
    "start_time": "2021-12-03T16:00:47.210Z"
   },
   {
    "duration": 45,
    "start_time": "2021-12-03T16:00:47.216Z"
   },
   {
    "duration": 48,
    "start_time": "2021-12-03T16:00:47.263Z"
   },
   {
    "duration": 109,
    "start_time": "2021-12-03T16:00:47.313Z"
   },
   {
    "duration": 144,
    "start_time": "2021-12-03T16:00:47.424Z"
   },
   {
    "duration": 130,
    "start_time": "2021-12-03T16:00:47.570Z"
   },
   {
    "duration": 111,
    "start_time": "2021-12-03T16:00:47.701Z"
   },
   {
    "duration": 124,
    "start_time": "2021-12-03T16:00:47.814Z"
   },
   {
    "duration": 272,
    "start_time": "2021-12-03T16:00:47.940Z"
   },
   {
    "duration": 1240,
    "start_time": "2021-12-03T16:00:48.214Z"
   },
   {
    "duration": 140,
    "start_time": "2021-12-03T16:01:22.981Z"
   },
   {
    "duration": 140,
    "start_time": "2021-12-03T16:01:30.241Z"
   },
   {
    "duration": 103,
    "start_time": "2021-12-03T16:02:51.161Z"
   },
   {
    "duration": 89,
    "start_time": "2021-12-03T16:02:57.157Z"
   },
   {
    "duration": 101,
    "start_time": "2021-12-03T16:03:35.625Z"
   },
   {
    "duration": 1093,
    "start_time": "2021-12-03T16:04:19.616Z"
   },
   {
    "duration": 41,
    "start_time": "2021-12-03T16:04:20.712Z"
   },
   {
    "duration": 4,
    "start_time": "2021-12-03T16:04:20.755Z"
   },
   {
    "duration": 10,
    "start_time": "2021-12-03T16:04:20.761Z"
   },
   {
    "duration": 21,
    "start_time": "2021-12-03T16:04:20.773Z"
   },
   {
    "duration": 796,
    "start_time": "2021-12-03T16:04:20.796Z"
   },
   {
    "duration": 4,
    "start_time": "2021-12-03T16:04:21.594Z"
   },
   {
    "duration": 14,
    "start_time": "2021-12-03T16:04:21.599Z"
   },
   {
    "duration": 43,
    "start_time": "2021-12-03T16:04:21.616Z"
   },
   {
    "duration": 30,
    "start_time": "2021-12-03T16:04:21.662Z"
   },
   {
    "duration": 7,
    "start_time": "2021-12-03T16:04:21.693Z"
   },
   {
    "duration": 15,
    "start_time": "2021-12-03T16:04:21.702Z"
   },
   {
    "duration": 6,
    "start_time": "2021-12-03T16:04:21.718Z"
   },
   {
    "duration": 9,
    "start_time": "2021-12-03T16:04:21.726Z"
   },
   {
    "duration": 12,
    "start_time": "2021-12-03T16:04:21.736Z"
   },
   {
    "duration": 5,
    "start_time": "2021-12-03T16:04:21.750Z"
   },
   {
    "duration": 46,
    "start_time": "2021-12-03T16:04:21.756Z"
   },
   {
    "duration": 6,
    "start_time": "2021-12-03T16:04:21.804Z"
   },
   {
    "duration": 10,
    "start_time": "2021-12-03T16:04:21.812Z"
   },
   {
    "duration": 27,
    "start_time": "2021-12-03T16:04:21.823Z"
   },
   {
    "duration": 4,
    "start_time": "2021-12-03T16:04:21.852Z"
   },
   {
    "duration": 78,
    "start_time": "2021-12-03T16:04:21.858Z"
   },
   {
    "duration": 89268,
    "start_time": "2021-12-03T16:04:21.937Z"
   },
   {
    "duration": 114,
    "start_time": "2021-12-03T16:05:51.207Z"
   },
   {
    "duration": 99,
    "start_time": "2021-12-03T16:05:51.323Z"
   },
   {
    "duration": 6,
    "start_time": "2021-12-03T16:05:51.424Z"
   },
   {
    "duration": 123,
    "start_time": "2021-12-03T16:05:51.434Z"
   },
   {
    "duration": 6,
    "start_time": "2021-12-03T16:05:51.559Z"
   },
   {
    "duration": 31,
    "start_time": "2021-12-03T16:05:51.566Z"
   },
   {
    "duration": 4,
    "start_time": "2021-12-03T16:05:51.598Z"
   },
   {
    "duration": 48,
    "start_time": "2021-12-03T16:05:51.603Z"
   },
   {
    "duration": 46,
    "start_time": "2021-12-03T16:05:51.652Z"
   },
   {
    "duration": 115,
    "start_time": "2021-12-03T16:05:51.700Z"
   },
   {
    "duration": 155,
    "start_time": "2021-12-03T16:05:51.817Z"
   },
   {
    "duration": 138,
    "start_time": "2021-12-03T16:05:51.973Z"
   },
   {
    "duration": 120,
    "start_time": "2021-12-03T16:05:52.113Z"
   },
   {
    "duration": 135,
    "start_time": "2021-12-03T16:05:52.235Z"
   },
   {
    "duration": 298,
    "start_time": "2021-12-03T16:05:52.372Z"
   },
   {
    "duration": 1274,
    "start_time": "2021-12-03T16:05:52.672Z"
   },
   {
    "duration": 65,
    "start_time": "2021-12-03T16:07:01.929Z"
   },
   {
    "duration": 129,
    "start_time": "2021-12-03T16:07:10.952Z"
   },
   {
    "duration": 8,
    "start_time": "2021-12-03T16:07:24.500Z"
   },
   {
    "duration": 132,
    "start_time": "2021-12-03T16:07:32.296Z"
   },
   {
    "duration": 8,
    "start_time": "2021-12-03T20:58:04.250Z"
   },
   {
    "duration": 5,
    "start_time": "2021-12-03T20:58:17.214Z"
   },
   {
    "duration": 275,
    "start_time": "2021-12-03T20:58:41.966Z"
   },
   {
    "duration": 1325,
    "start_time": "2021-12-04T13:05:12.245Z"
   },
   {
    "duration": 935,
    "start_time": "2021-12-04T13:05:12.638Z"
   },
   {
    "duration": 934,
    "start_time": "2021-12-04T13:05:12.640Z"
   },
   {
    "duration": 933,
    "start_time": "2021-12-04T13:05:12.642Z"
   },
   {
    "duration": 931,
    "start_time": "2021-12-04T13:05:12.644Z"
   },
   {
    "duration": 926,
    "start_time": "2021-12-04T13:05:12.650Z"
   },
   {
    "duration": 926,
    "start_time": "2021-12-04T13:05:12.651Z"
   },
   {
    "duration": 925,
    "start_time": "2021-12-04T13:05:12.653Z"
   },
   {
    "duration": 924,
    "start_time": "2021-12-04T13:05:12.655Z"
   },
   {
    "duration": 922,
    "start_time": "2021-12-04T13:05:12.657Z"
   },
   {
    "duration": 922,
    "start_time": "2021-12-04T13:05:12.658Z"
   },
   {
    "duration": 921,
    "start_time": "2021-12-04T13:05:12.660Z"
   },
   {
    "duration": 919,
    "start_time": "2021-12-04T13:05:12.663Z"
   },
   {
    "duration": 917,
    "start_time": "2021-12-04T13:05:12.665Z"
   },
   {
    "duration": 917,
    "start_time": "2021-12-04T13:05:12.666Z"
   },
   {
    "duration": 916,
    "start_time": "2021-12-04T13:05:12.668Z"
   },
   {
    "duration": 915,
    "start_time": "2021-12-04T13:05:12.670Z"
   },
   {
    "duration": 914,
    "start_time": "2021-12-04T13:05:12.671Z"
   },
   {
    "duration": 913,
    "start_time": "2021-12-04T13:05:12.673Z"
   },
   {
    "duration": 912,
    "start_time": "2021-12-04T13:05:12.675Z"
   },
   {
    "duration": 912,
    "start_time": "2021-12-04T13:05:12.676Z"
   },
   {
    "duration": 906,
    "start_time": "2021-12-04T13:05:12.682Z"
   },
   {
    "duration": 907,
    "start_time": "2021-12-04T13:05:12.684Z"
   },
   {
    "duration": 906,
    "start_time": "2021-12-04T13:05:12.686Z"
   },
   {
    "duration": 906,
    "start_time": "2021-12-04T13:05:12.687Z"
   },
   {
    "duration": 905,
    "start_time": "2021-12-04T13:05:12.689Z"
   },
   {
    "duration": 905,
    "start_time": "2021-12-04T13:05:12.690Z"
   },
   {
    "duration": 904,
    "start_time": "2021-12-04T13:05:12.692Z"
   },
   {
    "duration": 904,
    "start_time": "2021-12-04T13:05:12.693Z"
   },
   {
    "duration": 905,
    "start_time": "2021-12-04T13:05:12.694Z"
   },
   {
    "duration": 904,
    "start_time": "2021-12-04T13:05:12.696Z"
   },
   {
    "duration": 904,
    "start_time": "2021-12-04T13:05:12.697Z"
   },
   {
    "duration": 904,
    "start_time": "2021-12-04T13:05:12.699Z"
   },
   {
    "duration": 904,
    "start_time": "2021-12-04T13:05:12.700Z"
   },
   {
    "duration": 904,
    "start_time": "2021-12-04T13:05:12.701Z"
   },
   {
    "duration": 903,
    "start_time": "2021-12-04T13:05:12.703Z"
   },
   {
    "duration": 905,
    "start_time": "2021-12-04T13:05:12.704Z"
   },
   {
    "duration": 904,
    "start_time": "2021-12-04T13:05:12.706Z"
   },
   {
    "duration": 904,
    "start_time": "2021-12-04T13:05:12.707Z"
   },
   {
    "duration": 904,
    "start_time": "2021-12-04T13:05:12.708Z"
   },
   {
    "duration": 6466,
    "start_time": "2021-12-04T14:04:51.861Z"
   },
   {
    "duration": 1077,
    "start_time": "2021-12-04T14:05:03.090Z"
   },
   {
    "duration": 38,
    "start_time": "2021-12-04T14:05:04.171Z"
   },
   {
    "duration": 3,
    "start_time": "2021-12-04T14:05:04.211Z"
   },
   {
    "duration": 21,
    "start_time": "2021-12-04T14:05:04.215Z"
   },
   {
    "duration": 15,
    "start_time": "2021-12-04T14:05:04.238Z"
   },
   {
    "duration": 649,
    "start_time": "2021-12-04T14:05:04.255Z"
   },
   {
    "duration": 2,
    "start_time": "2021-12-04T14:05:04.907Z"
   },
   {
    "duration": 23,
    "start_time": "2021-12-04T14:05:04.911Z"
   },
   {
    "duration": 47,
    "start_time": "2021-12-04T14:05:04.935Z"
   },
   {
    "duration": 6,
    "start_time": "2021-12-04T14:05:04.984Z"
   },
   {
    "duration": 5,
    "start_time": "2021-12-04T14:05:04.991Z"
   },
   {
    "duration": 13,
    "start_time": "2021-12-04T14:05:04.998Z"
   },
   {
    "duration": 20,
    "start_time": "2021-12-04T14:05:05.012Z"
   },
   {
    "duration": 17,
    "start_time": "2021-12-04T14:05:05.034Z"
   },
   {
    "duration": 18,
    "start_time": "2021-12-04T14:05:05.052Z"
   },
   {
    "duration": 9,
    "start_time": "2021-12-04T14:05:05.071Z"
   },
   {
    "duration": 28,
    "start_time": "2021-12-04T14:05:05.081Z"
   },
   {
    "duration": 7,
    "start_time": "2021-12-04T14:05:05.110Z"
   },
   {
    "duration": 15,
    "start_time": "2021-12-04T14:05:05.119Z"
   },
   {
    "duration": 315,
    "start_time": "2021-12-04T14:05:05.136Z"
   },
   {
    "duration": 996,
    "start_time": "2021-12-04T14:05:04.457Z"
   },
   {
    "duration": 995,
    "start_time": "2021-12-04T14:05:04.459Z"
   },
   {
    "duration": 980,
    "start_time": "2021-12-04T14:05:04.475Z"
   },
   {
    "duration": 978,
    "start_time": "2021-12-04T14:05:04.477Z"
   },
   {
    "duration": 977,
    "start_time": "2021-12-04T14:05:04.479Z"
   },
   {
    "duration": 977,
    "start_time": "2021-12-04T14:05:04.480Z"
   },
   {
    "duration": 976,
    "start_time": "2021-12-04T14:05:04.482Z"
   },
   {
    "duration": 975,
    "start_time": "2021-12-04T14:05:04.484Z"
   },
   {
    "duration": 975,
    "start_time": "2021-12-04T14:05:04.485Z"
   },
   {
    "duration": 974,
    "start_time": "2021-12-04T14:05:04.487Z"
   },
   {
    "duration": 973,
    "start_time": "2021-12-04T14:05:04.488Z"
   },
   {
    "duration": 972,
    "start_time": "2021-12-04T14:05:04.490Z"
   },
   {
    "duration": 971,
    "start_time": "2021-12-04T14:05:04.492Z"
   },
   {
    "duration": 970,
    "start_time": "2021-12-04T14:05:04.494Z"
   },
   {
    "duration": 970,
    "start_time": "2021-12-04T14:05:04.495Z"
   },
   {
    "duration": 969,
    "start_time": "2021-12-04T14:05:04.497Z"
   },
   {
    "duration": 968,
    "start_time": "2021-12-04T14:05:04.498Z"
   },
   {
    "duration": 967,
    "start_time": "2021-12-04T14:05:04.500Z"
   },
   {
    "duration": 967,
    "start_time": "2021-12-04T14:05:04.501Z"
   },
   {
    "duration": 966,
    "start_time": "2021-12-04T14:05:04.503Z"
   },
   {
    "duration": 1269,
    "start_time": "2021-12-04T14:06:59.905Z"
   },
   {
    "duration": 38,
    "start_time": "2021-12-04T14:07:01.178Z"
   },
   {
    "duration": 3,
    "start_time": "2021-12-04T14:07:01.218Z"
   },
   {
    "duration": 12,
    "start_time": "2021-12-04T14:07:01.222Z"
   },
   {
    "duration": 7,
    "start_time": "2021-12-04T14:07:01.236Z"
   },
   {
    "duration": 776,
    "start_time": "2021-12-04T14:07:01.244Z"
   },
   {
    "duration": 3,
    "start_time": "2021-12-04T14:07:02.022Z"
   },
   {
    "duration": 13,
    "start_time": "2021-12-04T14:07:02.027Z"
   },
   {
    "duration": 50,
    "start_time": "2021-12-04T14:07:02.041Z"
   },
   {
    "duration": 8,
    "start_time": "2021-12-04T14:07:02.092Z"
   },
   {
    "duration": 10,
    "start_time": "2021-12-04T14:07:02.101Z"
   },
   {
    "duration": 10,
    "start_time": "2021-12-04T14:07:02.112Z"
   },
   {
    "duration": 4,
    "start_time": "2021-12-04T14:07:02.124Z"
   },
   {
    "duration": 11,
    "start_time": "2021-12-04T14:07:02.130Z"
   },
   {
    "duration": 11,
    "start_time": "2021-12-04T14:07:02.143Z"
   },
   {
    "duration": 7,
    "start_time": "2021-12-04T14:07:02.156Z"
   },
   {
    "duration": 10,
    "start_time": "2021-12-04T14:07:02.187Z"
   },
   {
    "duration": 5,
    "start_time": "2021-12-04T14:07:02.198Z"
   },
   {
    "duration": 11,
    "start_time": "2021-12-04T14:07:02.204Z"
   },
   {
    "duration": 4,
    "start_time": "2021-12-04T14:07:02.217Z"
   },
   {
    "duration": 29,
    "start_time": "2021-12-04T14:07:02.223Z"
   },
   {
    "duration": 4,
    "start_time": "2021-12-04T14:07:02.255Z"
   },
   {
    "duration": 59,
    "start_time": "2021-12-04T14:07:02.260Z"
   },
   {
    "duration": 79774,
    "start_time": "2021-12-04T14:07:02.320Z"
   },
   {
    "duration": 104,
    "start_time": "2021-12-04T14:08:22.096Z"
   },
   {
    "duration": 90,
    "start_time": "2021-12-04T14:08:22.202Z"
   },
   {
    "duration": 7,
    "start_time": "2021-12-04T14:08:22.293Z"
   },
   {
    "duration": 104,
    "start_time": "2021-12-04T14:08:22.301Z"
   },
   {
    "duration": 6,
    "start_time": "2021-12-04T14:08:22.407Z"
   },
   {
    "duration": 18,
    "start_time": "2021-12-04T14:08:22.415Z"
   },
   {
    "duration": 4,
    "start_time": "2021-12-04T14:08:22.434Z"
   },
   {
    "duration": 60,
    "start_time": "2021-12-04T14:08:22.439Z"
   },
   {
    "duration": 26,
    "start_time": "2021-12-04T14:08:22.500Z"
   },
   {
    "duration": 106,
    "start_time": "2021-12-04T14:08:22.527Z"
   },
   {
    "duration": 140,
    "start_time": "2021-12-04T14:08:22.635Z"
   },
   {
    "duration": 127,
    "start_time": "2021-12-04T14:08:22.777Z"
   },
   {
    "duration": 110,
    "start_time": "2021-12-04T14:08:22.905Z"
   },
   {
    "duration": 122,
    "start_time": "2021-12-04T14:08:23.017Z"
   },
   {
    "duration": 240,
    "start_time": "2021-12-04T14:08:23.141Z"
   },
   {
    "duration": 1121,
    "start_time": "2021-12-04T14:08:23.387Z"
   },
   {
    "duration": 1139,
    "start_time": "2021-12-04T14:08:36.317Z"
   },
   {
    "duration": 1133,
    "start_time": "2021-12-04T14:08:41.178Z"
   },
   {
    "duration": 1123,
    "start_time": "2021-12-04T14:08:46.009Z"
   },
   {
    "duration": 1128,
    "start_time": "2021-12-04T14:08:49.014Z"
   },
   {
    "duration": 1112,
    "start_time": "2021-12-04T14:08:52.369Z"
   },
   {
    "duration": 1713,
    "start_time": "2021-12-04T14:08:59.165Z"
   },
   {
    "duration": 1721,
    "start_time": "2021-12-04T14:09:03.677Z"
   },
   {
    "duration": 1728,
    "start_time": "2021-12-04T14:09:09.081Z"
   },
   {
    "duration": 1703,
    "start_time": "2021-12-04T14:09:13.565Z"
   },
   {
    "duration": 2366,
    "start_time": "2021-12-04T14:09:18.473Z"
   },
   {
    "duration": 2277,
    "start_time": "2021-12-04T14:09:21.573Z"
   },
   {
    "duration": 2269,
    "start_time": "2021-12-04T14:09:25.457Z"
   },
   {
    "duration": 2279,
    "start_time": "2021-12-04T14:09:28.965Z"
   },
   {
    "duration": 2269,
    "start_time": "2021-12-04T14:09:34.313Z"
   },
   {
    "duration": 2285,
    "start_time": "2021-12-04T14:09:39.746Z"
   },
   {
    "duration": 2266,
    "start_time": "2021-12-04T14:09:48.178Z"
   },
   {
    "duration": 3848,
    "start_time": "2021-12-04T14:09:54.905Z"
   },
   {
    "duration": 3828,
    "start_time": "2021-12-04T14:10:01.106Z"
   },
   {
    "duration": 3899,
    "start_time": "2021-12-04T14:10:08.345Z"
   },
   {
    "duration": 4488,
    "start_time": "2021-12-04T14:10:16.733Z"
   },
   {
    "duration": 4455,
    "start_time": "2021-12-04T14:10:25.153Z"
   },
   {
    "duration": 4514,
    "start_time": "2021-12-04T14:10:33.173Z"
   },
   {
    "duration": 4546,
    "start_time": "2021-12-04T14:10:40.178Z"
   },
   {
    "duration": 4518,
    "start_time": "2021-12-04T14:10:45.857Z"
   },
   {
    "duration": 4638,
    "start_time": "2021-12-04T14:10:51.477Z"
   },
   {
    "duration": 4549,
    "start_time": "2021-12-04T14:10:59.029Z"
   },
   {
    "duration": 5266,
    "start_time": "2021-12-04T14:11:06.782Z"
   },
   {
    "duration": 5923,
    "start_time": "2021-12-04T14:11:17.041Z"
   },
   {
    "duration": 6010,
    "start_time": "2021-12-04T14:11:26.914Z"
   },
   {
    "duration": 6041,
    "start_time": "2021-12-04T14:11:35.710Z"
   },
   {
    "duration": 5799,
    "start_time": "2021-12-04T14:11:45.862Z"
   },
   {
    "duration": 6186,
    "start_time": "2021-12-04T14:11:53.182Z"
   },
   {
    "duration": 6320,
    "start_time": "2021-12-04T14:12:27.070Z"
   },
   {
    "duration": 5991,
    "start_time": "2021-12-04T14:13:21.798Z"
   },
   {
    "duration": 7931,
    "start_time": "2021-12-04T14:13:38.465Z"
   },
   {
    "duration": 8805,
    "start_time": "2021-12-04T14:13:52.606Z"
   },
   {
    "duration": 7872,
    "start_time": "2021-12-04T14:14:02.221Z"
   },
   {
    "duration": 212,
    "start_time": "2021-12-04T14:15:01.122Z"
   },
   {
    "duration": 9689,
    "start_time": "2021-12-04T14:15:20.465Z"
   },
   {
    "duration": 9534,
    "start_time": "2021-12-04T14:15:34.214Z"
   },
   {
    "duration": 7319,
    "start_time": "2021-12-04T14:15:49.638Z"
   },
   {
    "duration": 9658,
    "start_time": "2021-12-04T14:16:01.082Z"
   },
   {
    "duration": 4796,
    "start_time": "2021-12-04T14:16:12.770Z"
   },
   {
    "duration": 2417,
    "start_time": "2021-12-04T14:16:24.450Z"
   },
   {
    "duration": 6797,
    "start_time": "2021-12-04T14:16:31.022Z"
   },
   {
    "duration": 9984,
    "start_time": "2021-12-04T14:16:41.894Z"
   },
   {
    "duration": 10461,
    "start_time": "2021-12-04T14:16:56.614Z"
   },
   {
    "duration": 9660,
    "start_time": "2021-12-04T14:17:07.818Z"
   },
   {
    "duration": 9185,
    "start_time": "2021-12-04T18:58:27.952Z"
   },
   {
    "duration": 1263,
    "start_time": "2021-12-04T18:58:43.100Z"
   },
   {
    "duration": 40,
    "start_time": "2021-12-04T18:58:44.365Z"
   },
   {
    "duration": 6,
    "start_time": "2021-12-04T18:58:44.411Z"
   },
   {
    "duration": 10,
    "start_time": "2021-12-04T18:58:44.420Z"
   },
   {
    "duration": 7,
    "start_time": "2021-12-04T18:58:44.432Z"
   },
   {
    "duration": 820,
    "start_time": "2021-12-04T18:58:44.441Z"
   },
   {
    "duration": 3,
    "start_time": "2021-12-04T18:58:45.263Z"
   },
   {
    "duration": 12,
    "start_time": "2021-12-04T18:58:45.269Z"
   },
   {
    "duration": 67,
    "start_time": "2021-12-04T18:58:45.283Z"
   },
   {
    "duration": 8,
    "start_time": "2021-12-04T18:58:45.352Z"
   },
   {
    "duration": 6,
    "start_time": "2021-12-04T18:58:45.361Z"
   },
   {
    "duration": 10,
    "start_time": "2021-12-04T18:58:45.369Z"
   },
   {
    "duration": 33,
    "start_time": "2021-12-04T18:58:45.381Z"
   },
   {
    "duration": 15,
    "start_time": "2021-12-04T18:58:45.416Z"
   },
   {
    "duration": 12,
    "start_time": "2021-12-04T18:58:45.433Z"
   },
   {
    "duration": 6,
    "start_time": "2021-12-04T18:58:45.447Z"
   },
   {
    "duration": 22,
    "start_time": "2021-12-04T18:58:45.454Z"
   },
   {
    "duration": 36,
    "start_time": "2021-12-04T18:58:45.478Z"
   },
   {
    "duration": 13,
    "start_time": "2021-12-04T18:58:45.516Z"
   },
   {
    "duration": 8,
    "start_time": "2021-12-04T18:58:45.531Z"
   },
   {
    "duration": 35,
    "start_time": "2021-12-04T18:58:45.541Z"
   },
   {
    "duration": 4,
    "start_time": "2021-12-04T18:58:45.577Z"
   },
   {
    "duration": 61,
    "start_time": "2021-12-04T18:58:45.583Z"
   },
   {
    "duration": 96487,
    "start_time": "2021-12-04T18:58:45.646Z"
   },
   {
    "duration": 108,
    "start_time": "2021-12-04T19:00:22.134Z"
   },
   {
    "duration": 97,
    "start_time": "2021-12-04T19:00:22.245Z"
   },
   {
    "duration": 5,
    "start_time": "2021-12-04T19:00:22.344Z"
   },
   {
    "duration": 16,
    "start_time": "2021-12-04T19:00:22.350Z"
   },
   {
    "duration": 3,
    "start_time": "2021-12-04T19:00:22.368Z"
   },
   {
    "duration": 70,
    "start_time": "2021-12-04T19:00:22.373Z"
   },
   {
    "duration": 156,
    "start_time": "2021-12-04T19:00:22.445Z"
   },
   {
    "duration": 130,
    "start_time": "2021-12-04T19:00:22.606Z"
   },
   {
    "duration": 148,
    "start_time": "2021-12-04T19:00:22.738Z"
   },
   {
    "duration": 280,
    "start_time": "2021-12-04T19:00:22.887Z"
   },
   {
    "duration": 11727,
    "start_time": "2021-12-04T19:00:23.169Z"
   },
   {
    "duration": 11810,
    "start_time": "2021-12-04T19:00:34.906Z"
   },
   {
    "duration": 11454,
    "start_time": "2021-12-04T19:00:46.717Z"
   },
   {
    "duration": 274,
    "start_time": "2021-12-04T19:00:58.173Z"
   },
   {
    "duration": 473,
    "start_time": "2021-12-04T19:59:42.032Z"
   },
   {
    "duration": 5,
    "start_time": "2021-12-04T20:00:13.267Z"
   },
   {
    "duration": 5,
    "start_time": "2021-12-04T20:00:18.704Z"
   },
   {
    "duration": 366,
    "start_time": "2021-12-04T20:00:25.280Z"
   },
   {
    "duration": 423,
    "start_time": "2021-12-04T20:00:47.780Z"
   },
   {
    "duration": 30941,
    "start_time": "2021-12-04T20:01:14.656Z"
   },
   {
    "duration": 32245,
    "start_time": "2021-12-04T20:02:15.180Z"
   },
   {
    "duration": 94705,
    "start_time": "2021-12-04T20:03:31.380Z"
   },
   {
    "duration": 1904,
    "start_time": "2021-12-05T09:30:54.937Z"
   },
   {
    "duration": 13988,
    "start_time": "2021-12-05T09:31:26.634Z"
   },
   {
    "duration": 1514,
    "start_time": "2021-12-05T09:31:48.458Z"
   },
   {
    "duration": 57,
    "start_time": "2021-12-05T09:31:49.975Z"
   },
   {
    "duration": 4,
    "start_time": "2021-12-05T09:31:50.035Z"
   },
   {
    "duration": 17,
    "start_time": "2021-12-05T09:31:50.042Z"
   },
   {
    "duration": 24,
    "start_time": "2021-12-05T09:31:50.062Z"
   },
   {
    "duration": 1171,
    "start_time": "2021-12-05T09:31:50.089Z"
   },
   {
    "duration": 5,
    "start_time": "2021-12-05T09:31:51.263Z"
   },
   {
    "duration": 20,
    "start_time": "2021-12-05T09:31:51.284Z"
   },
   {
    "duration": 79,
    "start_time": "2021-12-05T09:31:51.307Z"
   },
   {
    "duration": 16,
    "start_time": "2021-12-05T09:31:51.389Z"
   },
   {
    "duration": 11,
    "start_time": "2021-12-05T09:31:51.408Z"
   },
   {
    "duration": 20,
    "start_time": "2021-12-05T09:31:51.421Z"
   },
   {
    "duration": 44,
    "start_time": "2021-12-05T09:31:51.444Z"
   },
   {
    "duration": 16,
    "start_time": "2021-12-05T09:31:51.490Z"
   },
   {
    "duration": 19,
    "start_time": "2021-12-05T09:31:51.508Z"
   },
   {
    "duration": 9,
    "start_time": "2021-12-05T09:31:51.530Z"
   },
   {
    "duration": 23,
    "start_time": "2021-12-05T09:31:51.582Z"
   },
   {
    "duration": 9,
    "start_time": "2021-12-05T09:31:51.608Z"
   },
   {
    "duration": 11,
    "start_time": "2021-12-05T09:31:51.620Z"
   },
   {
    "duration": 47,
    "start_time": "2021-12-05T09:31:51.635Z"
   },
   {
    "duration": 46,
    "start_time": "2021-12-05T09:31:51.687Z"
   },
   {
    "duration": 8,
    "start_time": "2021-12-05T09:31:51.735Z"
   },
   {
    "duration": 98,
    "start_time": "2021-12-05T09:31:51.750Z"
   },
   {
    "duration": 4,
    "start_time": "2021-12-05T09:31:51.852Z"
   },
   {
    "duration": 139837,
    "start_time": "2021-12-05T09:31:51.858Z"
   },
   {
    "duration": 161,
    "start_time": "2021-12-05T09:34:11.697Z"
   },
   {
    "duration": 205,
    "start_time": "2021-12-05T09:34:11.862Z"
   },
   {
    "duration": 13,
    "start_time": "2021-12-05T09:34:12.070Z"
   },
   {
    "duration": 30,
    "start_time": "2021-12-05T09:34:12.086Z"
   },
   {
    "duration": 6,
    "start_time": "2021-12-05T09:34:12.119Z"
   },
   {
    "duration": 108,
    "start_time": "2021-12-05T09:34:12.128Z"
   },
   {
    "duration": 239,
    "start_time": "2021-12-05T09:34:12.239Z"
   },
   {
    "duration": 211,
    "start_time": "2021-12-05T09:34:12.482Z"
   },
   {
    "duration": 211,
    "start_time": "2021-12-05T09:34:12.695Z"
   },
   {
    "duration": 650,
    "start_time": "2021-12-05T09:34:12.908Z"
   },
   {
    "duration": 438,
    "start_time": "2021-12-05T09:34:13.561Z"
   },
   {
    "duration": 19,
    "start_time": "2021-12-05T09:34:13.983Z"
   },
   {
    "duration": 18,
    "start_time": "2021-12-05T09:34:13.985Z"
   },
   {
    "duration": 18,
    "start_time": "2021-12-05T09:34:13.987Z"
   },
   {
    "duration": 6,
    "start_time": "2021-12-05T09:41:14.951Z"
   },
   {
    "duration": 16842,
    "start_time": "2021-12-05T09:41:21.679Z"
   },
   {
    "duration": 16988,
    "start_time": "2021-12-05T09:41:40.883Z"
   },
   {
    "duration": 16398,
    "start_time": "2021-12-05T09:41:57.873Z"
   },
   {
    "duration": 400,
    "start_time": "2021-12-05T09:42:14.274Z"
   },
   {
    "duration": 40,
    "start_time": "2021-12-05T11:51:57.150Z"
   },
   {
    "duration": 283,
    "start_time": "2021-12-05T11:52:07.462Z"
   },
   {
    "duration": 5,
    "start_time": "2021-12-05T11:52:10.047Z"
   },
   {
    "duration": 201,
    "start_time": "2021-12-05T11:52:37.351Z"
   },
   {
    "duration": 8,
    "start_time": "2021-12-05T11:53:48.757Z"
   },
   {
    "duration": 8,
    "start_time": "2021-12-05T11:54:17.280Z"
   },
   {
    "duration": 444,
    "start_time": "2021-12-05T11:54:50.358Z"
   },
   {
    "duration": 15613,
    "start_time": "2021-12-05T11:55:06.721Z"
   },
   {
    "duration": 17941,
    "start_time": "2021-12-05T11:55:27.049Z"
   },
   {
    "duration": 13052,
    "start_time": "2021-12-05T11:56:07.853Z"
   },
   {
    "duration": 12500,
    "start_time": "2021-12-05T11:56:28.999Z"
   },
   {
    "duration": 2408,
    "start_time": "2021-12-05T11:56:53.318Z"
   },
   {
    "duration": 5984,
    "start_time": "2021-12-05T11:57:02.882Z"
   },
   {
    "duration": 2669,
    "start_time": "2021-12-05T11:57:14.497Z"
   },
   {
    "duration": 2641,
    "start_time": "2021-12-05T11:57:27.605Z"
   },
   {
    "duration": 118732,
    "start_time": "2021-12-05T12:01:11.903Z"
   },
   {
    "duration": 47930,
    "start_time": "2021-12-05T12:03:46.059Z"
   },
   {
    "duration": 85300,
    "start_time": "2021-12-05T12:04:39.347Z"
   },
   {
    "duration": 8,
    "start_time": "2021-12-05T12:09:59.529Z"
   },
   {
    "duration": 19,
    "start_time": "2021-12-05T12:10:13.901Z"
   },
   {
    "duration": 10,
    "start_time": "2021-12-05T12:10:20.847Z"
   },
   {
    "duration": 321,
    "start_time": "2021-12-05T12:10:27.562Z"
   },
   {
    "duration": 220,
    "start_time": "2021-12-05T12:10:48.621Z"
   },
   {
    "duration": 203,
    "start_time": "2021-12-05T12:11:12.734Z"
   },
   {
    "duration": 276,
    "start_time": "2021-12-05T12:11:35.153Z"
   },
   {
    "duration": 467,
    "start_time": "2021-12-05T12:11:46.879Z"
   },
   {
    "duration": 288,
    "start_time": "2021-12-05T12:13:37.034Z"
   },
   {
    "duration": 101270,
    "start_time": "2021-12-05T12:13:48.451Z"
   },
   {
    "duration": 673160,
    "start_time": "2021-12-05T12:43:33.561Z"
   },
   {
    "duration": 902,
    "start_time": "2021-12-05T13:02:49.119Z"
   },
   {
    "duration": 204,
    "start_time": "2021-12-05T13:02:54.891Z"
   },
   {
    "duration": 1329,
    "start_time": "2021-12-05T13:03:07.475Z"
   },
   {
    "duration": 1105,
    "start_time": "2021-12-05T13:03:20.623Z"
   },
   {
    "duration": 1782,
    "start_time": "2021-12-05T13:03:27.431Z"
   },
   {
    "duration": 1312,
    "start_time": "2021-12-05T13:03:34.415Z"
   },
   {
    "duration": 1304,
    "start_time": "2021-12-05T13:03:37.078Z"
   },
   {
    "duration": 1772,
    "start_time": "2021-12-05T13:03:41.999Z"
   },
   {
    "duration": 523,
    "start_time": "2021-12-05T13:03:45.775Z"
   },
   {
    "duration": 2296,
    "start_time": "2021-12-05T13:03:51.443Z"
   },
   {
    "duration": 28,
    "start_time": "2021-12-05T13:04:12.163Z"
   },
   {
    "duration": 1343924,
    "start_time": "2021-12-05T16:17:58.522Z"
   },
   {
    "duration": 4,
    "start_time": "2021-12-05T16:40:22.449Z"
   },
   {
    "duration": 1446,
    "start_time": "2021-12-05T16:45:54.308Z"
   },
   {
    "duration": 1329,
    "start_time": "2021-12-05T16:46:00.495Z"
   },
   {
    "duration": 3256,
    "start_time": "2021-12-05T17:04:37.672Z"
   },
   {
    "duration": 2155,
    "start_time": "2021-12-05T17:04:49.901Z"
   },
   {
    "duration": 2558,
    "start_time": "2021-12-05T17:04:57.072Z"
   },
   {
    "duration": 2001,
    "start_time": "2021-12-05T17:05:02.064Z"
   },
   {
    "duration": 983,
    "start_time": "2021-12-05T17:05:08.972Z"
   },
   {
    "duration": 2136,
    "start_time": "2021-12-05T17:05:16.581Z"
   },
   {
    "duration": 2224,
    "start_time": "2021-12-05T17:05:20.444Z"
   },
   {
    "duration": 2062,
    "start_time": "2021-12-05T17:05:31.104Z"
   },
   {
    "duration": 2130,
    "start_time": "2021-12-05T17:05:36.612Z"
   },
   {
    "duration": 1544,
    "start_time": "2021-12-05T17:05:45.869Z"
   },
   {
    "duration": 102,
    "start_time": "2021-12-05T17:06:44.170Z"
   },
   {
    "duration": 727158,
    "start_time": "2021-12-05T17:06:49.717Z"
   },
   {
    "duration": 1870,
    "start_time": "2021-12-05T17:41:52.682Z"
   },
   {
    "duration": 316,
    "start_time": "2021-12-05T17:42:35.130Z"
   },
   {
    "duration": 310,
    "start_time": "2021-12-05T17:42:41.934Z"
   },
   {
    "duration": 688269,
    "start_time": "2021-12-05T17:43:06.334Z"
   },
   {
    "duration": 892,
    "start_time": "2021-12-05T18:10:03.156Z"
   },
   {
    "duration": 910551,
    "start_time": "2021-12-05T18:12:55.249Z"
   },
   {
    "duration": 474,
    "start_time": "2021-12-05T19:17:40.212Z"
   },
   {
    "duration": 2036,
    "start_time": "2021-12-06T14:23:49.945Z"
   },
   {
    "duration": 645,
    "start_time": "2021-12-06T14:23:51.339Z"
   },
   {
    "duration": 636,
    "start_time": "2021-12-06T14:23:51.350Z"
   },
   {
    "duration": 634,
    "start_time": "2021-12-06T14:23:51.353Z"
   },
   {
    "duration": 633,
    "start_time": "2021-12-06T14:23:51.355Z"
   },
   {
    "duration": 633,
    "start_time": "2021-12-06T14:23:51.357Z"
   },
   {
    "duration": 632,
    "start_time": "2021-12-06T14:23:51.359Z"
   },
   {
    "duration": 632,
    "start_time": "2021-12-06T14:23:51.360Z"
   },
   {
    "duration": 304,
    "start_time": "2021-12-06T14:23:52.151Z"
   },
   {
    "duration": 642,
    "start_time": "2021-12-06T14:23:51.815Z"
   },
   {
    "duration": 431,
    "start_time": "2021-12-06T14:23:52.508Z"
   },
   {
    "duration": 645,
    "start_time": "2021-12-06T14:23:52.298Z"
   },
   {
    "duration": 645,
    "start_time": "2021-12-06T14:23:52.300Z"
   },
   {
    "duration": 415,
    "start_time": "2021-12-06T14:23:53.060Z"
   },
   {
    "duration": 643,
    "start_time": "2021-12-06T14:23:52.835Z"
   },
   {
    "duration": 10996,
    "start_time": "2021-12-06T14:24:07.567Z"
   },
   {
    "duration": 325,
    "start_time": "2021-12-06T14:24:24.963Z"
   },
   {
    "duration": 1848,
    "start_time": "2021-12-06T14:24:34.597Z"
   },
   {
    "duration": 59,
    "start_time": "2021-12-06T14:24:37.320Z"
   },
   {
    "duration": 5,
    "start_time": "2021-12-06T14:24:37.508Z"
   },
   {
    "duration": 12,
    "start_time": "2021-12-06T14:24:37.684Z"
   },
   {
    "duration": 12,
    "start_time": "2021-12-06T14:24:37.860Z"
   },
   {
    "duration": 901,
    "start_time": "2021-12-06T14:24:38.037Z"
   },
   {
    "duration": 4,
    "start_time": "2021-12-06T14:24:38.941Z"
   },
   {
    "duration": 27,
    "start_time": "2021-12-06T14:24:38.948Z"
   },
   {
    "duration": 88,
    "start_time": "2021-12-06T14:24:38.977Z"
   },
   {
    "duration": 11,
    "start_time": "2021-12-06T14:24:39.068Z"
   },
   {
    "duration": 8,
    "start_time": "2021-12-06T14:24:39.081Z"
   },
   {
    "duration": 16,
    "start_time": "2021-12-06T14:24:39.130Z"
   },
   {
    "duration": 9,
    "start_time": "2021-12-06T14:24:39.304Z"
   },
   {
    "duration": 11,
    "start_time": "2021-12-06T14:24:39.504Z"
   },
   {
    "duration": 19,
    "start_time": "2021-12-06T14:24:39.668Z"
   },
   {
    "duration": 8,
    "start_time": "2021-12-06T14:24:39.868Z"
   },
   {
    "duration": 16,
    "start_time": "2021-12-06T14:24:40.064Z"
   },
   {
    "duration": 13,
    "start_time": "2021-12-06T14:24:40.644Z"
   },
   {
    "duration": 9,
    "start_time": "2021-12-06T14:24:40.856Z"
   },
   {
    "duration": 3,
    "start_time": "2021-12-06T14:24:41.037Z"
   },
   {
    "duration": 51,
    "start_time": "2021-12-06T14:24:43.080Z"
   },
   {
    "duration": 8,
    "start_time": "2021-12-06T14:24:43.596Z"
   },
   {
    "duration": 64,
    "start_time": "2021-12-06T14:24:44.560Z"
   },
   {
    "duration": 12607,
    "start_time": "2021-12-06T14:24:45.120Z"
   },
   {
    "duration": 608,
    "start_time": "2021-12-06T14:24:57.122Z"
   },
   {
    "duration": 162,
    "start_time": "2021-12-06T14:25:14.944Z"
   },
   {
    "duration": 1186,
    "start_time": "2021-12-06T14:25:15.608Z"
   },
   {
    "duration": 11,
    "start_time": "2021-12-06T14:25:19.941Z"
   },
   {
    "duration": 26,
    "start_time": "2021-12-06T14:25:20.388Z"
   },
   {
    "duration": 8,
    "start_time": "2021-12-06T14:25:20.748Z"
   },
   {
    "duration": 514,
    "start_time": "2021-12-06T14:25:38.436Z"
   },
   {
    "duration": 483,
    "start_time": "2021-12-06T14:25:43.464Z"
   },
   {
    "duration": 530,
    "start_time": "2021-12-06T14:25:46.439Z"
   },
   {
    "duration": 1520,
    "start_time": "2021-12-06T14:25:57.800Z"
   },
   {
    "duration": 757,
    "start_time": "2021-12-06T14:26:10.188Z"
   },
   {
    "duration": 283,
    "start_time": "2021-12-06T14:30:05.773Z"
   },
   {
    "duration": 5,
    "start_time": "2021-12-06T14:30:11.532Z"
   },
   {
    "duration": 286,
    "start_time": "2021-12-06T14:30:39.879Z"
   },
   {
    "duration": 355,
    "start_time": "2021-12-06T14:31:28.967Z"
   },
   {
    "duration": 379,
    "start_time": "2021-12-06T14:31:33.383Z"
   },
   {
    "duration": 301,
    "start_time": "2021-12-06T14:33:26.202Z"
   },
   {
    "duration": 314,
    "start_time": "2021-12-06T14:34:28.627Z"
   },
   {
    "duration": 270,
    "start_time": "2021-12-06T14:34:41.848Z"
   },
   {
    "duration": 6,
    "start_time": "2021-12-06T14:34:48.341Z"
   },
   {
    "duration": 369,
    "start_time": "2021-12-06T14:36:37.130Z"
   },
   {
    "duration": 4090593,
    "start_time": "2021-12-06T14:36:52.816Z"
   },
   {
    "duration": 659,
    "start_time": "2021-12-06T15:45:02.753Z"
   },
   {
    "duration": 658,
    "start_time": "2021-12-06T15:45:02.755Z"
   },
   {
    "duration": 21391,
    "start_time": "2021-12-06T15:47:48.473Z"
   },
   {
    "duration": 5,
    "start_time": "2021-12-06T15:49:32.584Z"
   },
   {
    "duration": 1345,
    "start_time": "2021-12-06T15:50:07.780Z"
   },
   {
    "duration": 1004392,
    "start_time": "2021-12-06T15:50:35.808Z"
   },
   {
    "duration": 4,
    "start_time": "2021-12-06T16:10:15.288Z"
   },
   {
    "duration": 9279,
    "start_time": "2021-12-06T16:10:38.592Z"
   },
   {
    "duration": 9618,
    "start_time": "2021-12-06T16:11:20.848Z"
   },
   {
    "duration": 9063,
    "start_time": "2021-12-06T16:11:34.608Z"
   },
   {
    "duration": 9215,
    "start_time": "2021-12-06T16:11:46.788Z"
   },
   {
    "duration": 2064262,
    "start_time": "2021-12-06T16:13:17.624Z"
   },
   {
    "duration": 675898,
    "start_time": "2021-12-06T16:47:50.745Z"
   },
   {
    "duration": 247,
    "start_time": "2021-12-06T17:06:43.737Z"
   },
   {
    "duration": 429,
    "start_time": "2021-12-06T17:07:09.354Z"
   },
   {
    "duration": 330,
    "start_time": "2021-12-06T17:07:19.837Z"
   },
   {
    "duration": 419,
    "start_time": "2021-12-06T17:07:23.332Z"
   },
   {
    "duration": 442,
    "start_time": "2021-12-06T17:07:25.461Z"
   },
   {
    "duration": 1027389,
    "start_time": "2021-12-06T17:07:54.153Z"
   },
   {
    "duration": 6,
    "start_time": "2021-12-06T17:38:14.616Z"
   },
   {
    "duration": 6017,
    "start_time": "2021-12-06T17:38:46.887Z"
   },
   {
    "duration": 5,
    "start_time": "2021-12-06T17:38:56.075Z"
   },
   {
    "duration": 5,
    "start_time": "2021-12-06T17:39:03.307Z"
   },
   {
    "duration": 106,
    "start_time": "2021-12-06T17:39:09.296Z"
   },
   {
    "duration": 16794,
    "start_time": "2021-12-06T17:39:27.039Z"
   },
   {
    "duration": 5,
    "start_time": "2021-12-06T17:39:59.011Z"
   },
   {
    "duration": 61,
    "start_time": "2021-12-06T17:41:02.940Z"
   },
   {
    "duration": 57,
    "start_time": "2021-12-06T17:41:25.655Z"
   },
   {
    "duration": 6776,
    "start_time": "2021-12-06T17:42:16.700Z"
   },
   {
    "duration": 306,
    "start_time": "2021-12-06T17:42:36.104Z"
   },
   {
    "duration": 151523,
    "start_time": "2021-12-06T17:42:40.551Z"
   },
   {
    "duration": 592,
    "start_time": "2021-12-06T17:46:52.112Z"
   },
   {
    "duration": 852,
    "start_time": "2021-12-06T17:47:12.891Z"
   },
   {
    "duration": 474,
    "start_time": "2021-12-06T17:47:21.068Z"
   },
   {
    "duration": 6,
    "start_time": "2021-12-06T17:48:18.900Z"
   },
   {
    "duration": 1102,
    "start_time": "2021-12-06T17:48:41.588Z"
   },
   {
    "duration": 79,
    "start_time": "2021-12-06T17:49:13.048Z"
   },
   {
    "duration": 41,
    "start_time": "2021-12-06T17:49:31.472Z"
   },
   {
    "duration": 45,
    "start_time": "2021-12-06T17:50:15.692Z"
   },
   {
    "duration": 550,
    "start_time": "2021-12-06T17:50:36.757Z"
   },
   {
    "duration": 62,
    "start_time": "2021-12-06T17:51:00.249Z"
   },
   {
    "duration": 401,
    "start_time": "2021-12-06T17:52:46.865Z"
   },
   {
    "duration": 302,
    "start_time": "2021-12-06T17:53:44.145Z"
   },
   {
    "duration": 304,
    "start_time": "2021-12-06T17:53:54.953Z"
   },
   {
    "duration": 90,
    "start_time": "2021-12-06T17:54:19.637Z"
   },
   {
    "duration": 316,
    "start_time": "2021-12-06T17:54:31.749Z"
   },
   {
    "duration": 393,
    "start_time": "2021-12-06T17:54:47.373Z"
   },
   {
    "duration": 387,
    "start_time": "2021-12-06T17:56:04.237Z"
   },
   {
    "duration": 720,
    "start_time": "2021-12-06T17:56:28.437Z"
   },
   {
    "duration": 6,
    "start_time": "2021-12-06T17:56:40.393Z"
   },
   {
    "duration": 13,
    "start_time": "2021-12-06T17:56:46.149Z"
   },
   {
    "duration": 276,
    "start_time": "2021-12-06T17:56:55.709Z"
   },
   {
    "duration": 88,
    "start_time": "2021-12-06T17:56:58.289Z"
   },
   {
    "duration": 12,
    "start_time": "2021-12-06T17:57:01.989Z"
   },
   {
    "duration": 698,
    "start_time": "2021-12-06T17:57:11.152Z"
   },
   {
    "duration": 242,
    "start_time": "2021-12-06T17:59:02.641Z"
   },
   {
    "duration": 1002,
    "start_time": "2021-12-06T17:59:20.604Z"
   },
   {
    "duration": 1406,
    "start_time": "2021-12-06T17:59:25.364Z"
   },
   {
    "duration": 607,
    "start_time": "2021-12-06T17:59:32.505Z"
   },
   {
    "duration": 535,
    "start_time": "2021-12-06T18:00:24.781Z"
   },
   {
    "duration": 282,
    "start_time": "2021-12-06T18:00:38.893Z"
   },
   {
    "duration": 306,
    "start_time": "2021-12-06T18:00:43.467Z"
   },
   {
    "duration": 330,
    "start_time": "2021-12-06T18:01:08.996Z"
   },
   {
    "duration": 99,
    "start_time": "2021-12-06T18:02:05.113Z"
   },
   {
    "duration": 342,
    "start_time": "2021-12-06T18:02:08.604Z"
   },
   {
    "duration": 5,
    "start_time": "2021-12-06T18:09:34.896Z"
   },
   {
    "duration": 6,
    "start_time": "2021-12-06T18:16:43.901Z"
   },
   {
    "duration": 6,
    "start_time": "2021-12-06T18:18:35.945Z"
   },
   {
    "duration": 89,
    "start_time": "2021-12-06T18:24:27.015Z"
   },
   {
    "duration": 91,
    "start_time": "2021-12-06T18:24:35.663Z"
   },
   {
    "duration": 4577,
    "start_time": "2021-12-06T18:35:12.844Z"
   },
   {
    "duration": 1557,
    "start_time": "2021-12-06T18:35:17.425Z"
   },
   {
    "duration": 55,
    "start_time": "2021-12-06T18:35:18.985Z"
   },
   {
    "duration": 5,
    "start_time": "2021-12-06T18:35:19.044Z"
   },
   {
    "duration": 13,
    "start_time": "2021-12-06T18:35:19.052Z"
   },
   {
    "duration": 895,
    "start_time": "2021-12-06T18:35:19.068Z"
   },
   {
    "duration": 5,
    "start_time": "2021-12-06T18:35:19.966Z"
   },
   {
    "duration": 16,
    "start_time": "2021-12-06T18:35:19.977Z"
   },
   {
    "duration": 95,
    "start_time": "2021-12-06T18:35:19.996Z"
   },
   {
    "duration": 41,
    "start_time": "2021-12-06T18:35:20.093Z"
   },
   {
    "duration": 10,
    "start_time": "2021-12-06T18:35:20.136Z"
   },
   {
    "duration": 11,
    "start_time": "2021-12-06T18:35:20.148Z"
   },
   {
    "duration": 7,
    "start_time": "2021-12-06T18:35:20.161Z"
   },
   {
    "duration": 54,
    "start_time": "2021-12-06T18:35:20.171Z"
   },
   {
    "duration": 13,
    "start_time": "2021-12-06T18:35:20.231Z"
   },
   {
    "duration": 49,
    "start_time": "2021-12-06T18:35:20.246Z"
   },
   {
    "duration": 6,
    "start_time": "2021-12-06T18:35:20.297Z"
   },
   {
    "duration": 65,
    "start_time": "2021-12-06T18:35:20.332Z"
   },
   {
    "duration": 6,
    "start_time": "2021-12-06T18:35:20.400Z"
   },
   {
    "duration": 11351,
    "start_time": "2021-12-06T21:36:50.200Z"
   },
   {
    "duration": 1593,
    "start_time": "2021-12-06T21:37:01.554Z"
   },
   {
    "duration": 54,
    "start_time": "2021-12-06T21:37:03.150Z"
   },
   {
    "duration": 4,
    "start_time": "2021-12-06T21:37:03.207Z"
   },
   {
    "duration": 25,
    "start_time": "2021-12-06T21:37:03.213Z"
   },
   {
    "duration": 842,
    "start_time": "2021-12-06T21:37:03.240Z"
   },
   {
    "duration": 4,
    "start_time": "2021-12-06T21:37:04.084Z"
   },
   {
    "duration": 21,
    "start_time": "2021-12-06T21:37:04.090Z"
   },
   {
    "duration": 83,
    "start_time": "2021-12-06T21:37:04.115Z"
   },
   {
    "duration": 16,
    "start_time": "2021-12-06T21:37:04.201Z"
   },
   {
    "duration": 8,
    "start_time": "2021-12-06T21:37:04.219Z"
   },
   {
    "duration": 40,
    "start_time": "2021-12-06T21:37:04.229Z"
   },
   {
    "duration": 8,
    "start_time": "2021-12-06T21:37:04.271Z"
   },
   {
    "duration": 43,
    "start_time": "2021-12-06T21:37:04.281Z"
   },
   {
    "duration": 20,
    "start_time": "2021-12-06T21:37:04.327Z"
   },
   {
    "duration": 54,
    "start_time": "2021-12-06T21:37:04.349Z"
   },
   {
    "duration": 6,
    "start_time": "2021-12-06T21:37:04.405Z"
   },
   {
    "duration": 196,
    "start_time": "2021-12-06T21:37:04.413Z"
   },
   {
    "duration": 6,
    "start_time": "2021-12-06T21:37:04.611Z"
   },
   {
    "duration": 1216788,
    "start_time": "2021-12-06T21:37:04.621Z"
   },
   {
    "duration": 4,
    "start_time": "2021-12-06T21:57:21.412Z"
   },
   {
    "duration": 520,
    "start_time": "2021-12-06T21:57:21.419Z"
   },
   {
    "duration": -1597580,
    "start_time": "2021-12-06T22:23:59.523Z"
   },
   {
    "duration": -1597583,
    "start_time": "2021-12-06T22:23:59.527Z"
   },
   {
    "duration": -1597582,
    "start_time": "2021-12-06T22:23:59.529Z"
   },
   {
    "duration": -1597582,
    "start_time": "2021-12-06T22:23:59.531Z"
   },
   {
    "duration": -1597583,
    "start_time": "2021-12-06T22:23:59.534Z"
   },
   {
    "duration": 128,
    "start_time": "2021-12-06T22:29:48.225Z"
   },
   {
    "duration": 134,
    "start_time": "2021-12-06T22:31:12.771Z"
   },
   {
    "duration": 118,
    "start_time": "2021-12-06T22:33:23.003Z"
   },
   {
    "duration": 132,
    "start_time": "2021-12-06T22:36:05.522Z"
   },
   {
    "duration": 457,
    "start_time": "2021-12-06T22:48:09.772Z"
   },
   {
    "duration": 114,
    "start_time": "2021-12-06T22:48:35.718Z"
   },
   {
    "duration": 130,
    "start_time": "2021-12-06T22:49:09.030Z"
   },
   {
    "duration": 138,
    "start_time": "2021-12-06T22:50:10.671Z"
   },
   {
    "duration": 130,
    "start_time": "2021-12-06T22:53:23.071Z"
   },
   {
    "duration": 138,
    "start_time": "2021-12-06T22:58:03.703Z"
   },
   {
    "duration": 137,
    "start_time": "2021-12-06T22:59:36.605Z"
   },
   {
    "duration": 122,
    "start_time": "2021-12-06T23:11:43.663Z"
   },
   {
    "duration": 1364,
    "start_time": "2021-12-07T11:41:49.798Z"
   },
   {
    "duration": 1303,
    "start_time": "2021-12-07T11:43:05.653Z"
   },
   {
    "duration": 22984,
    "start_time": "2021-12-07T11:43:12.993Z"
   },
   {
    "duration": 1086,
    "start_time": "2021-12-07T11:44:23.133Z"
   },
   {
    "duration": 43,
    "start_time": "2021-12-07T11:44:26.493Z"
   },
   {
    "duration": 4,
    "start_time": "2021-12-07T11:44:28.981Z"
   },
   {
    "duration": 8,
    "start_time": "2021-12-07T11:44:29.357Z"
   },
   {
    "duration": 717,
    "start_time": "2021-12-07T11:44:31.529Z"
   },
   {
    "duration": 3,
    "start_time": "2021-12-07T11:44:41.801Z"
   },
   {
    "duration": 11,
    "start_time": "2021-12-07T11:44:42.345Z"
   },
   {
    "duration": 45,
    "start_time": "2021-12-07T11:44:45.265Z"
   },
   {
    "duration": 11,
    "start_time": "2021-12-07T11:46:40.617Z"
   },
   {
    "duration": 6,
    "start_time": "2021-12-07T11:46:43.665Z"
   },
   {
    "duration": 8,
    "start_time": "2021-12-07T11:46:45.581Z"
   },
   {
    "duration": 6,
    "start_time": "2021-12-07T11:46:47.481Z"
   },
   {
    "duration": 13,
    "start_time": "2021-12-07T11:46:49.565Z"
   },
   {
    "duration": 7,
    "start_time": "2021-12-07T11:46:53.157Z"
   },
   {
    "duration": 7,
    "start_time": "2021-12-07T11:47:09.323Z"
   },
   {
    "duration": 31,
    "start_time": "2021-12-07T11:47:13.737Z"
   },
   {
    "duration": 5,
    "start_time": "2021-12-07T11:47:16.888Z"
   },
   {
    "duration": 6,
    "start_time": "2021-12-07T11:47:22.901Z"
   },
   {
    "duration": 10,
    "start_time": "2021-12-07T11:47:30.749Z"
   },
   {
    "duration": 6,
    "start_time": "2021-12-07T11:47:34.862Z"
   },
   {
    "duration": 272,
    "start_time": "2021-12-07T11:48:40.826Z"
   },
   {
    "duration": 18,
    "start_time": "2021-12-07T11:49:00.273Z"
   },
   {
    "duration": 7,
    "start_time": "2021-12-07T11:49:53.605Z"
   },
   {
    "duration": 44,
    "start_time": "2021-12-07T11:50:16.157Z"
   },
   {
    "duration": 178,
    "start_time": "2021-12-07T11:50:23.169Z"
   },
   {
    "duration": 45,
    "start_time": "2021-12-07T11:52:10.306Z"
   },
   {
    "duration": 4,
    "start_time": "2021-12-07T11:53:46.557Z"
   },
   {
    "duration": 916654,
    "start_time": "2021-12-07T11:53:54.641Z"
   },
   {
    "duration": 4,
    "start_time": "2021-12-07T12:10:27.886Z"
   },
   {
    "duration": 616,
    "start_time": "2021-12-07T12:11:10.643Z"
   },
   {
    "duration": 4003,
    "start_time": "2021-12-07T12:11:22.871Z"
   },
   {
    "duration": 4,
    "start_time": "2021-12-07T12:14:05.570Z"
   },
   {
    "duration": 34,
    "start_time": "2021-12-07T12:14:23.139Z"
   },
   {
    "duration": 43,
    "start_time": "2021-12-07T12:14:34.455Z"
   },
   {
    "duration": 31,
    "start_time": "2021-12-07T12:14:37.427Z"
   },
   {
    "duration": 45,
    "start_time": "2021-12-07T12:14:40.147Z"
   },
   {
    "duration": 43,
    "start_time": "2021-12-07T12:14:43.723Z"
   },
   {
    "duration": 44,
    "start_time": "2021-12-07T12:14:48.379Z"
   },
   {
    "duration": 44,
    "start_time": "2021-12-07T12:14:51.807Z"
   },
   {
    "duration": 44,
    "start_time": "2021-12-07T12:14:55.087Z"
   },
   {
    "duration": 16,
    "start_time": "2021-12-07T12:14:57.448Z"
   },
   {
    "duration": 14,
    "start_time": "2021-12-07T12:15:01.151Z"
   },
   {
    "duration": 18,
    "start_time": "2021-12-07T12:15:03.779Z"
   },
   {
    "duration": 24,
    "start_time": "2021-12-07T12:15:05.774Z"
   },
   {
    "duration": 26,
    "start_time": "2021-12-07T12:15:08.151Z"
   },
   {
    "duration": 27,
    "start_time": "2021-12-07T12:15:12.739Z"
   },
   {
    "duration": 29,
    "start_time": "2021-12-07T12:15:15.755Z"
   },
   {
    "duration": 19,
    "start_time": "2021-12-07T12:15:17.963Z"
   },
   {
    "duration": 27,
    "start_time": "2021-12-07T12:15:19.994Z"
   },
   {
    "duration": 4015,
    "start_time": "2021-12-07T12:15:31.187Z"
   },
   {
    "duration": 4,
    "start_time": "2021-12-07T12:15:39.084Z"
   },
   {
    "duration": 16168,
    "start_time": "2021-12-07T12:15:59.627Z"
   },
   {
    "duration": 3,
    "start_time": "2021-12-07T12:16:18.770Z"
   },
   {
    "duration": 4089,
    "start_time": "2021-12-07T12:16:30.203Z"
   },
   {
    "duration": 4,
    "start_time": "2021-12-07T12:16:37.859Z"
   },
   {
    "duration": 17,
    "start_time": "2021-12-07T12:16:42.067Z"
   },
   {
    "duration": 26,
    "start_time": "2021-12-07T12:16:45.778Z"
   },
   {
    "duration": 4076,
    "start_time": "2021-12-07T12:16:59.179Z"
   },
   {
    "duration": 3,
    "start_time": "2021-12-07T12:17:05.167Z"
   },
   {
    "duration": 31,
    "start_time": "2021-12-07T12:17:08.966Z"
   },
   {
    "duration": 95127,
    "start_time": "2021-12-07T12:17:12.271Z"
   },
   {
    "duration": 71,
    "start_time": "2021-12-07T12:38:52.393Z"
   },
   {
    "duration": 27,
    "start_time": "2021-12-07T12:38:58.190Z"
   },
   {
    "duration": 9,
    "start_time": "2021-12-07T12:39:03.762Z"
   },
   {
    "duration": 207,
    "start_time": "2021-12-07T12:39:06.238Z"
   },
   {
    "duration": 7,
    "start_time": "2021-12-07T12:39:13.543Z"
   },
   {
    "duration": 13,
    "start_time": "2021-12-07T12:39:14.404Z"
   },
   {
    "duration": 6,
    "start_time": "2021-12-07T12:39:15.933Z"
   },
   {
    "duration": 495915,
    "start_time": "2021-12-07T12:39:18.202Z"
   },
   {
    "duration": 134,
    "start_time": "2021-12-07T13:16:02.308Z"
   },
   {
    "duration": 447,
    "start_time": "2021-12-07T13:16:05.782Z"
   },
   {
    "duration": 165,
    "start_time": "2021-12-07T13:16:25.097Z"
   },
   {
    "duration": 193627,
    "start_time": "2021-12-07T13:16:43.968Z"
   },
   {
    "duration": 538,
    "start_time": "2021-12-07T13:21:12.192Z"
   },
   {
    "duration": 13,
    "start_time": "2021-12-07T13:22:00.777Z"
   },
   {
    "duration": 462865,
    "start_time": "2021-12-07T13:22:14.044Z"
   },
   {
    "duration": 269,
    "start_time": "2021-12-07T13:37:34.392Z"
   },
   {
    "duration": 290,
    "start_time": "2021-12-07T13:37:58.160Z"
   },
   {
    "duration": 188,
    "start_time": "2021-12-07T13:38:02.136Z"
   },
   {
    "duration": 99850,
    "start_time": "2021-12-07T13:51:46.010Z"
   },
   {
    "duration": 1181,
    "start_time": "2021-12-07T13:53:25.862Z"
   },
   {
    "duration": 45,
    "start_time": "2021-12-07T13:53:27.045Z"
   },
   {
    "duration": 5,
    "start_time": "2021-12-07T13:53:27.093Z"
   },
   {
    "duration": 14,
    "start_time": "2021-12-07T13:53:27.100Z"
   },
   {
    "duration": 939,
    "start_time": "2021-12-07T13:53:27.116Z"
   },
   {
    "duration": 4,
    "start_time": "2021-12-07T13:53:28.057Z"
   },
   {
    "duration": 13,
    "start_time": "2021-12-07T13:53:28.064Z"
   },
   {
    "duration": 58,
    "start_time": "2021-12-07T13:53:28.079Z"
   },
   {
    "duration": 3,
    "start_time": "2021-12-07T13:53:28.139Z"
   },
   {
    "duration": 8,
    "start_time": "2021-12-07T13:53:28.144Z"
   },
   {
    "duration": 8,
    "start_time": "2021-12-07T13:53:28.154Z"
   },
   {
    "duration": 29,
    "start_time": "2021-12-07T13:53:28.164Z"
   },
   {
    "duration": 10,
    "start_time": "2021-12-07T13:53:28.194Z"
   },
   {
    "duration": 6,
    "start_time": "2021-12-07T13:53:28.205Z"
   },
   {
    "duration": 27,
    "start_time": "2021-12-07T13:53:28.213Z"
   },
   {
    "duration": 5,
    "start_time": "2021-12-07T13:53:28.241Z"
   },
   {
    "duration": 89,
    "start_time": "2021-12-07T13:53:28.247Z"
   },
   {
    "duration": 6,
    "start_time": "2021-12-07T13:53:28.338Z"
   },
   {
    "duration": 905459,
    "start_time": "2021-12-07T13:53:28.345Z"
   },
   {
    "duration": 3,
    "start_time": "2021-12-07T14:08:33.806Z"
   },
   {
    "duration": 617,
    "start_time": "2021-12-07T14:08:33.810Z"
   },
   {
    "duration": 4008,
    "start_time": "2021-12-07T14:08:34.430Z"
   },
   {
    "duration": 3,
    "start_time": "2021-12-07T14:08:38.440Z"
   },
   {
    "duration": 32,
    "start_time": "2021-12-07T14:08:38.445Z"
   },
   {
    "duration": 93747,
    "start_time": "2021-12-07T14:08:38.490Z"
   },
   {
    "duration": 78,
    "start_time": "2021-12-07T14:10:12.239Z"
   },
   {
    "duration": 73,
    "start_time": "2021-12-07T14:10:12.319Z"
   },
   {
    "duration": 99,
    "start_time": "2021-12-07T14:10:12.394Z"
   },
   {
    "duration": 227,
    "start_time": "2021-12-07T14:10:12.494Z"
   },
   {
    "duration": 6,
    "start_time": "2021-12-07T14:10:12.723Z"
   },
   {
    "duration": 14,
    "start_time": "2021-12-07T14:10:12.730Z"
   },
   {
    "duration": 5,
    "start_time": "2021-12-07T14:10:12.745Z"
   },
   {
    "duration": 495606,
    "start_time": "2021-12-07T14:10:12.752Z"
   },
   {
    "duration": 206,
    "start_time": "2021-12-07T14:18:28.360Z"
   },
   {
    "duration": 501,
    "start_time": "2021-12-07T14:18:28.569Z"
   },
   {
    "duration": 461080,
    "start_time": "2021-12-07T14:18:29.072Z"
   },
   {
    "duration": 278,
    "start_time": "2021-12-07T14:26:10.153Z"
   },
   {
    "duration": 187,
    "start_time": "2021-12-07T14:26:10.433Z"
   },
   {
    "duration": 317,
    "start_time": "2021-12-07T14:58:48.223Z"
   },
   {
    "duration": 13623,
    "start_time": "2021-12-07T17:25:15.714Z"
   },
   {
    "duration": 1871,
    "start_time": "2021-12-07T17:25:29.340Z"
   },
   {
    "duration": 43,
    "start_time": "2021-12-07T17:25:31.214Z"
   },
   {
    "duration": 4,
    "start_time": "2021-12-07T17:25:31.307Z"
   },
   {
    "duration": 12,
    "start_time": "2021-12-07T17:25:31.313Z"
   },
   {
    "duration": 1179,
    "start_time": "2021-12-07T17:25:31.327Z"
   },
   {
    "duration": 4,
    "start_time": "2021-12-07T17:25:32.508Z"
   },
   {
    "duration": 13,
    "start_time": "2021-12-07T17:25:32.514Z"
   },
   {
    "duration": 105,
    "start_time": "2021-12-07T17:25:32.529Z"
   },
   {
    "duration": 3,
    "start_time": "2021-12-07T17:25:32.636Z"
   },
   {
    "duration": 8,
    "start_time": "2021-12-07T17:25:32.641Z"
   },
   {
    "duration": 9,
    "start_time": "2021-12-07T17:25:32.707Z"
   },
   {
    "duration": 7,
    "start_time": "2021-12-07T17:25:32.717Z"
   },
   {
    "duration": 13,
    "start_time": "2021-12-07T17:25:32.726Z"
   },
   {
    "duration": 67,
    "start_time": "2021-12-07T17:25:32.741Z"
   },
   {
    "duration": 30,
    "start_time": "2021-12-07T17:25:32.810Z"
   },
   {
    "duration": 6,
    "start_time": "2021-12-07T17:25:32.842Z"
   },
   {
    "duration": 100,
    "start_time": "2021-12-07T17:25:32.907Z"
   },
   {
    "duration": 4,
    "start_time": "2021-12-07T17:25:33.009Z"
   },
   {
    "duration": 1072040,
    "start_time": "2021-12-07T17:25:33.014Z"
   },
   {
    "duration": 3,
    "start_time": "2021-12-07T17:43:25.056Z"
   },
   {
    "duration": 647,
    "start_time": "2021-12-07T17:43:25.061Z"
   },
   {
    "duration": 4219,
    "start_time": "2021-12-07T17:43:25.711Z"
   },
   {
    "duration": 3,
    "start_time": "2021-12-07T17:43:29.932Z"
   },
   {
    "duration": 37,
    "start_time": "2021-12-07T17:43:29.936Z"
   },
   {
    "duration": 101447,
    "start_time": "2021-12-07T17:43:29.975Z"
   },
   {
    "duration": 93,
    "start_time": "2021-12-07T17:45:11.424Z"
   },
   {
    "duration": 35,
    "start_time": "2021-12-07T17:45:11.519Z"
   },
   {
    "duration": 100,
    "start_time": "2021-12-07T17:45:11.608Z"
   },
   {
    "duration": 222,
    "start_time": "2021-12-07T17:45:11.710Z"
   },
   {
    "duration": 6,
    "start_time": "2021-12-07T17:45:11.934Z"
   },
   {
    "duration": 15,
    "start_time": "2021-12-07T17:45:11.942Z"
   },
   {
    "duration": 10,
    "start_time": "2021-12-07T17:45:11.960Z"
   },
   {
    "duration": 617492,
    "start_time": "2021-12-07T17:45:11.972Z"
   },
   {
    "duration": 154,
    "start_time": "2021-12-07T17:55:29.467Z"
   },
   {
    "duration": 308,
    "start_time": "2021-12-07T17:55:29.623Z"
   },
   {
    "duration": 479764,
    "start_time": "2021-12-07T17:55:29.934Z"
   },
   {
    "duration": 289,
    "start_time": "2021-12-07T18:03:29.700Z"
   },
   {
    "duration": 193,
    "start_time": "2021-12-07T18:03:29.990Z"
   },
   {
    "duration": 113,
    "start_time": "2021-12-07T18:03:30.186Z"
   },
   {
    "duration": 32,
    "start_time": "2021-12-07T18:13:21.174Z"
   },
   {
    "duration": 413,
    "start_time": "2021-12-07T18:13:30.722Z"
   },
   {
    "duration": 124,
    "start_time": "2021-12-07T18:32:00.660Z"
   },
   {
    "duration": 3250,
    "start_time": "2021-12-07T19:04:17.953Z"
   },
   {
    "duration": 4,
    "start_time": "2021-12-07T19:16:24.323Z"
   },
   {
    "duration": 37,
    "start_time": "2021-12-07T19:16:26.443Z"
   },
   {
    "duration": 4,
    "start_time": "2021-12-07T19:16:28.032Z"
   },
   {
    "duration": 10,
    "start_time": "2021-12-07T19:16:28.170Z"
   },
   {
    "duration": 794,
    "start_time": "2021-12-07T19:16:28.318Z"
   },
   {
    "duration": 4,
    "start_time": "2021-12-07T19:16:29.114Z"
   },
   {
    "duration": 12,
    "start_time": "2021-12-07T19:16:29.346Z"
   },
   {
    "duration": 45,
    "start_time": "2021-12-07T19:16:30.151Z"
   },
   {
    "duration": 3,
    "start_time": "2021-12-07T19:16:31.510Z"
   },
   {
    "duration": 6,
    "start_time": "2021-12-07T19:16:31.891Z"
   },
   {
    "duration": 8,
    "start_time": "2021-12-07T19:16:32.422Z"
   },
   {
    "duration": 5,
    "start_time": "2021-12-07T19:16:32.839Z"
   },
   {
    "duration": 11,
    "start_time": "2021-12-07T19:16:33.049Z"
   },
   {
    "duration": 7,
    "start_time": "2021-12-07T19:16:33.471Z"
   },
   {
    "duration": 28,
    "start_time": "2021-12-07T19:16:33.826Z"
   },
   {
    "duration": 7,
    "start_time": "2021-12-07T19:16:34.775Z"
   },
   {
    "duration": 46,
    "start_time": "2021-12-07T19:16:37.603Z"
   },
   {
    "duration": 4,
    "start_time": "2021-12-07T19:16:39.967Z"
   },
   {
    "duration": 971576,
    "start_time": "2021-12-07T19:16:40.480Z"
   },
   {
    "duration": 1506,
    "start_time": "2021-12-08T09:16:14.139Z"
   },
   {
    "duration": 6603,
    "start_time": "2021-12-08T09:16:18.095Z"
   },
   {
    "duration": 1078,
    "start_time": "2021-12-08T09:16:36.694Z"
   },
   {
    "duration": 39,
    "start_time": "2021-12-08T09:16:42.091Z"
   },
   {
    "duration": 4,
    "start_time": "2021-12-08T09:16:42.514Z"
   },
   {
    "duration": 9,
    "start_time": "2021-12-08T09:16:42.915Z"
   },
   {
    "duration": 727,
    "start_time": "2021-12-08T09:16:43.487Z"
   },
   {
    "duration": 3,
    "start_time": "2021-12-08T09:16:47.571Z"
   },
   {
    "duration": 10,
    "start_time": "2021-12-08T09:16:47.974Z"
   },
   {
    "duration": 37,
    "start_time": "2021-12-08T09:16:55.279Z"
   },
   {
    "duration": 3,
    "start_time": "2021-12-08T09:29:52.163Z"
   },
   {
    "duration": 6,
    "start_time": "2021-12-08T09:29:52.371Z"
   },
   {
    "duration": 8,
    "start_time": "2021-12-08T09:29:53.295Z"
   },
   {
    "duration": 5,
    "start_time": "2021-12-08T09:29:53.895Z"
   },
   {
    "duration": 10,
    "start_time": "2021-12-08T09:29:54.131Z"
   },
   {
    "duration": 7,
    "start_time": "2021-12-08T09:29:54.560Z"
   },
   {
    "duration": 23,
    "start_time": "2021-12-08T09:29:54.735Z"
   },
   {
    "duration": 4,
    "start_time": "2021-12-08T09:29:55.112Z"
   },
   {
    "duration": 42,
    "start_time": "2021-12-08T09:29:57.415Z"
   },
   {
    "duration": 3,
    "start_time": "2021-12-08T09:30:00.480Z"
   },
   {
    "duration": 922691,
    "start_time": "2021-12-08T09:30:06.407Z"
   },
   {
    "duration": 3,
    "start_time": "2021-12-08T10:54:44.990Z"
   },
   {
    "duration": 24,
    "start_time": "2021-12-08T11:55:48.010Z"
   },
   {
    "duration": 36,
    "start_time": "2021-12-08T11:57:16.137Z"
   },
   {
    "duration": 943957,
    "start_time": "2021-12-08T11:57:37.090Z"
   },
   {
    "duration": 3,
    "start_time": "2021-12-08T12:16:58.470Z"
   },
   {
    "duration": 338,
    "start_time": "2021-12-08T12:17:36.947Z"
   },
   {
    "duration": 183,
    "start_time": "2021-12-08T12:17:52.043Z"
   },
   {
    "duration": 195,
    "start_time": "2021-12-08T12:18:08.822Z"
   },
   {
    "duration": 2525,
    "start_time": "2021-12-08T12:20:10.903Z"
   },
   {
    "duration": 1068,
    "start_time": "2021-12-08T12:20:13.430Z"
   },
   {
    "duration": 39,
    "start_time": "2021-12-08T12:20:14.501Z"
   },
   {
    "duration": 3,
    "start_time": "2021-12-08T12:20:14.542Z"
   },
   {
    "duration": 11,
    "start_time": "2021-12-08T12:20:14.546Z"
   },
   {
    "duration": 758,
    "start_time": "2021-12-08T12:20:14.558Z"
   },
   {
    "duration": 3,
    "start_time": "2021-12-08T12:20:15.318Z"
   },
   {
    "duration": 13,
    "start_time": "2021-12-08T12:20:15.323Z"
   },
   {
    "duration": 37,
    "start_time": "2021-12-08T12:20:15.338Z"
   },
   {
    "duration": 2,
    "start_time": "2021-12-08T12:20:15.388Z"
   },
   {
    "duration": 10,
    "start_time": "2021-12-08T12:20:15.391Z"
   },
   {
    "duration": 9,
    "start_time": "2021-12-08T12:20:15.402Z"
   },
   {
    "duration": 4,
    "start_time": "2021-12-08T12:20:15.413Z"
   },
   {
    "duration": 12,
    "start_time": "2021-12-08T12:20:15.418Z"
   },
   {
    "duration": 6,
    "start_time": "2021-12-08T12:20:15.431Z"
   },
   {
    "duration": 22,
    "start_time": "2021-12-08T12:20:15.438Z"
   },
   {
    "duration": 29,
    "start_time": "2021-12-08T12:20:15.461Z"
   },
   {
    "duration": 41,
    "start_time": "2021-12-08T12:20:15.491Z"
   },
   {
    "duration": 4,
    "start_time": "2021-12-08T12:20:15.533Z"
   },
   {
    "duration": 56,
    "start_time": "2021-12-08T12:20:15.538Z"
   },
   {
    "duration": 576,
    "start_time": "2021-12-08T12:20:15.595Z"
   },
   {
    "duration": 63,
    "start_time": "2021-12-08T12:20:16.110Z"
   },
   {
    "duration": 61,
    "start_time": "2021-12-08T12:20:16.113Z"
   },
   {
    "duration": 60,
    "start_time": "2021-12-08T12:20:16.115Z"
   },
   {
    "duration": 59,
    "start_time": "2021-12-08T12:20:16.117Z"
   },
   {
    "duration": 47,
    "start_time": "2021-12-08T12:20:16.130Z"
   },
   {
    "duration": 42,
    "start_time": "2021-12-08T12:20:16.136Z"
   },
   {
    "duration": 41,
    "start_time": "2021-12-08T12:20:16.138Z"
   },
   {
    "duration": 40,
    "start_time": "2021-12-08T12:20:16.140Z"
   },
   {
    "duration": 39,
    "start_time": "2021-12-08T12:20:16.142Z"
   },
   {
    "duration": 37,
    "start_time": "2021-12-08T12:20:16.145Z"
   },
   {
    "duration": 36,
    "start_time": "2021-12-08T12:20:16.147Z"
   },
   {
    "duration": 34,
    "start_time": "2021-12-08T12:20:16.150Z"
   },
   {
    "duration": 32,
    "start_time": "2021-12-08T12:20:16.152Z"
   },
   {
    "duration": 31,
    "start_time": "2021-12-08T12:20:16.154Z"
   },
   {
    "duration": 30,
    "start_time": "2021-12-08T12:20:16.156Z"
   },
   {
    "duration": 29,
    "start_time": "2021-12-08T12:20:16.158Z"
   },
   {
    "duration": 28,
    "start_time": "2021-12-08T12:20:16.160Z"
   },
   {
    "duration": 26,
    "start_time": "2021-12-08T12:20:16.163Z"
   },
   {
    "duration": 25,
    "start_time": "2021-12-08T12:20:16.165Z"
   },
   {
    "duration": 24,
    "start_time": "2021-12-08T12:20:16.167Z"
   },
   {
    "duration": 2389,
    "start_time": "2021-12-08T12:30:43.129Z"
   },
   {
    "duration": 1053,
    "start_time": "2021-12-08T12:30:45.520Z"
   },
   {
    "duration": 36,
    "start_time": "2021-12-08T12:30:46.577Z"
   },
   {
    "duration": 3,
    "start_time": "2021-12-08T12:30:46.615Z"
   },
   {
    "duration": 9,
    "start_time": "2021-12-08T12:30:46.620Z"
   },
   {
    "duration": 684,
    "start_time": "2021-12-08T12:30:46.631Z"
   },
   {
    "duration": 3,
    "start_time": "2021-12-08T12:30:47.318Z"
   },
   {
    "duration": 12,
    "start_time": "2021-12-08T12:30:47.323Z"
   },
   {
    "duration": 37,
    "start_time": "2021-12-08T12:30:47.337Z"
   },
   {
    "duration": 13,
    "start_time": "2021-12-08T12:30:47.375Z"
   },
   {
    "duration": 13,
    "start_time": "2021-12-08T12:30:47.390Z"
   },
   {
    "duration": 12,
    "start_time": "2021-12-08T12:30:47.405Z"
   },
   {
    "duration": 4,
    "start_time": "2021-12-08T12:30:47.419Z"
   },
   {
    "duration": 16,
    "start_time": "2021-12-08T12:30:47.425Z"
   },
   {
    "duration": 7,
    "start_time": "2021-12-08T12:30:47.443Z"
   },
   {
    "duration": 46,
    "start_time": "2021-12-08T12:30:47.451Z"
   },
   {
    "duration": 4,
    "start_time": "2021-12-08T12:30:47.499Z"
   },
   {
    "duration": 44,
    "start_time": "2021-12-08T12:30:47.504Z"
   },
   {
    "duration": 3,
    "start_time": "2021-12-08T12:30:47.549Z"
   },
   {
    "duration": 59,
    "start_time": "2021-12-08T12:30:47.554Z"
   },
   {
    "duration": 726036,
    "start_time": "2021-12-08T12:30:47.614Z"
   },
   {
    "duration": 3,
    "start_time": "2021-12-08T12:42:53.653Z"
   },
   {
    "duration": 202,
    "start_time": "2021-12-08T12:42:53.658Z"
   },
   {
    "duration": 189,
    "start_time": "2021-12-08T12:42:53.862Z"
   },
   {
    "duration": 3747,
    "start_time": "2021-12-08T12:42:54.053Z"
   },
   {
    "duration": 3,
    "start_time": "2021-12-08T12:42:57.802Z"
   },
   {
    "duration": 33,
    "start_time": "2021-12-08T12:42:57.807Z"
   },
   {
    "duration": 89146,
    "start_time": "2021-12-08T12:42:57.842Z"
   },
   {
    "duration": 68,
    "start_time": "2021-12-08T12:44:26.989Z"
   },
   {
    "duration": 36,
    "start_time": "2021-12-08T12:44:27.058Z"
   },
   {
    "duration": 95,
    "start_time": "2021-12-08T12:44:27.096Z"
   },
   {
    "duration": 277,
    "start_time": "2021-12-08T12:44:27.193Z"
   },
   {
    "duration": 5,
    "start_time": "2021-12-08T12:44:27.472Z"
   },
   {
    "duration": 18,
    "start_time": "2021-12-08T12:44:27.479Z"
   },
   {
    "duration": 5,
    "start_time": "2021-12-08T12:44:27.499Z"
   },
   {
    "duration": 474949,
    "start_time": "2021-12-08T12:44:27.506Z"
   },
   {
    "duration": 132,
    "start_time": "2021-12-08T12:52:22.457Z"
   },
   {
    "duration": 287,
    "start_time": "2021-12-08T12:52:22.591Z"
   },
   {
    "duration": 435323,
    "start_time": "2021-12-08T12:52:22.880Z"
   },
   {
    "duration": 257,
    "start_time": "2021-12-08T12:59:38.204Z"
   },
   {
    "duration": 166,
    "start_time": "2021-12-08T12:59:38.463Z"
   },
   {
    "duration": 887,
    "start_time": "2021-12-08T13:00:45.311Z"
   },
   {
    "duration": 827,
    "start_time": "2021-12-08T13:01:00.899Z"
   },
   {
    "duration": 89887,
    "start_time": "2021-12-08T13:02:04.163Z"
   },
   {
    "duration": 159,
    "start_time": "2021-12-08T13:08:10.276Z"
   },
   {
    "duration": 25,
    "start_time": "2021-12-08T13:08:27.684Z"
   },
   {
    "duration": 11,
    "start_time": "2021-12-08T13:08:29.504Z"
   },
   {
    "duration": 177,
    "start_time": "2021-12-08T13:08:32.311Z"
   },
   {
    "duration": 6,
    "start_time": "2021-12-08T13:08:35.828Z"
   },
   {
    "duration": 14,
    "start_time": "2021-12-08T13:08:36.135Z"
   },
   {
    "duration": 6,
    "start_time": "2021-12-08T13:08:38.451Z"
   },
   {
    "duration": 113,
    "start_time": "2021-12-08T13:09:05.024Z"
   },
   {
    "duration": 270,
    "start_time": "2021-12-08T13:09:15.196Z"
   },
   {
    "duration": 528,
    "start_time": "2021-12-08T13:09:31.428Z"
   },
   {
    "duration": 161,
    "start_time": "2021-12-08T13:09:35.227Z"
   },
   {
    "duration": 2416,
    "start_time": "2021-12-08T13:11:16.082Z"
   },
   {
    "duration": 1080,
    "start_time": "2021-12-08T13:11:18.500Z"
   },
   {
    "duration": 38,
    "start_time": "2021-12-08T13:11:19.582Z"
   },
   {
    "duration": 3,
    "start_time": "2021-12-08T13:11:19.621Z"
   },
   {
    "duration": 9,
    "start_time": "2021-12-08T13:11:19.626Z"
   },
   {
    "duration": 678,
    "start_time": "2021-12-08T13:11:19.637Z"
   },
   {
    "duration": 3,
    "start_time": "2021-12-08T13:11:20.316Z"
   },
   {
    "duration": 11,
    "start_time": "2021-12-08T13:11:20.321Z"
   },
   {
    "duration": 47,
    "start_time": "2021-12-08T13:11:20.334Z"
   },
   {
    "duration": 2,
    "start_time": "2021-12-08T13:11:20.387Z"
   },
   {
    "duration": 10,
    "start_time": "2021-12-08T13:11:20.391Z"
   },
   {
    "duration": 14,
    "start_time": "2021-12-08T13:11:20.403Z"
   },
   {
    "duration": 7,
    "start_time": "2021-12-08T13:11:20.419Z"
   },
   {
    "duration": 28,
    "start_time": "2021-12-08T13:11:20.427Z"
   },
   {
    "duration": 22,
    "start_time": "2021-12-08T13:11:20.457Z"
   },
   {
    "duration": 51,
    "start_time": "2021-12-08T13:11:20.481Z"
   },
   {
    "duration": 5,
    "start_time": "2021-12-08T13:11:20.534Z"
   },
   {
    "duration": 73,
    "start_time": "2021-12-08T13:11:20.541Z"
   },
   {
    "duration": 4,
    "start_time": "2021-12-08T13:11:20.616Z"
   },
   {
    "duration": 51,
    "start_time": "2021-12-08T13:11:20.622Z"
   },
   {
    "duration": 723106,
    "start_time": "2021-12-08T13:11:20.675Z"
   },
   {
    "duration": 6,
    "start_time": "2021-12-08T13:23:23.783Z"
   },
   {
    "duration": 807,
    "start_time": "2021-12-08T13:23:23.793Z"
   },
   {
    "duration": 3697,
    "start_time": "2021-12-08T13:23:24.602Z"
   },
   {
    "duration": 3,
    "start_time": "2021-12-08T13:23:28.300Z"
   },
   {
    "duration": 28,
    "start_time": "2021-12-08T13:23:28.305Z"
   },
   {
    "duration": 90294,
    "start_time": "2021-12-08T13:23:28.335Z"
   },
   {
    "duration": 161,
    "start_time": "2021-12-08T13:24:58.631Z"
   },
   {
    "duration": 26,
    "start_time": "2021-12-08T13:24:58.794Z"
   },
   {
    "duration": 99,
    "start_time": "2021-12-08T13:24:58.889Z"
   },
   {
    "duration": 186,
    "start_time": "2021-12-08T13:24:58.990Z"
   },
   {
    "duration": 4,
    "start_time": "2021-12-08T13:24:59.178Z"
   },
   {
    "duration": 12,
    "start_time": "2021-12-08T13:24:59.187Z"
   },
   {
    "duration": 6,
    "start_time": "2021-12-08T13:24:59.200Z"
   },
   {
    "duration": 491973,
    "start_time": "2021-12-08T13:24:59.208Z"
   },
   {
    "duration": 122,
    "start_time": "2021-12-08T13:33:11.183Z"
   },
   {
    "duration": 298,
    "start_time": "2021-12-08T13:33:11.307Z"
   },
   {
    "duration": 430631,
    "start_time": "2021-12-08T13:33:11.608Z"
   },
   {
    "duration": 533,
    "start_time": "2021-12-08T13:40:22.241Z"
   },
   {
    "duration": 164,
    "start_time": "2021-12-08T13:40:22.776Z"
   },
   {
    "duration": 1079,
    "start_time": "2021-12-08T13:42:01.210Z"
   },
   {
    "duration": 653,
    "start_time": "2021-12-08T13:42:31.454Z"
   },
   {
    "duration": 611,
    "start_time": "2021-12-08T13:42:48.869Z"
   },
   {
    "duration": 563,
    "start_time": "2021-12-08T13:42:52.425Z"
   },
   {
    "duration": 130,
    "start_time": "2021-12-08T15:12:13.334Z"
   },
   {
    "duration": 99,
    "start_time": "2021-12-08T15:12:51.858Z"
   },
   {
    "duration": 354,
    "start_time": "2021-12-08T16:56:38.777Z"
   },
   {
    "duration": 11224,
    "start_time": "2021-12-08T16:56:50.690Z"
   },
   {
    "duration": 1494,
    "start_time": "2021-12-08T16:57:01.917Z"
   },
   {
    "duration": 54,
    "start_time": "2021-12-08T16:57:03.414Z"
   },
   {
    "duration": 4,
    "start_time": "2021-12-08T16:57:03.471Z"
   },
   {
    "duration": 17,
    "start_time": "2021-12-08T16:57:03.478Z"
   },
   {
    "duration": 976,
    "start_time": "2021-12-08T16:57:03.497Z"
   },
   {
    "duration": 3,
    "start_time": "2021-12-08T16:57:04.476Z"
   },
   {
    "duration": 17,
    "start_time": "2021-12-08T16:57:04.483Z"
   },
   {
    "duration": 94,
    "start_time": "2021-12-08T16:57:04.503Z"
   },
   {
    "duration": 3,
    "start_time": "2021-12-08T16:57:04.600Z"
   },
   {
    "duration": 10,
    "start_time": "2021-12-08T16:57:04.606Z"
   },
   {
    "duration": 10,
    "start_time": "2021-12-08T16:57:04.618Z"
   },
   {
    "duration": 7,
    "start_time": "2021-12-08T16:57:04.659Z"
   },
   {
    "duration": 16,
    "start_time": "2021-12-08T16:57:04.668Z"
   },
   {
    "duration": 9,
    "start_time": "2021-12-08T16:57:04.686Z"
   },
   {
    "duration": 76,
    "start_time": "2021-12-08T16:57:04.698Z"
   },
   {
    "duration": 8,
    "start_time": "2021-12-08T16:57:04.776Z"
   },
   {
    "duration": 96,
    "start_time": "2021-12-08T16:57:04.786Z"
   },
   {
    "duration": 5,
    "start_time": "2021-12-08T16:57:04.885Z"
   },
   {
    "duration": 83,
    "start_time": "2021-12-08T16:57:04.894Z"
   },
   {
    "duration": 23,
    "start_time": "2021-12-08T16:57:07.990Z"
   },
   {
    "duration": 25,
    "start_time": "2021-12-08T16:57:15.308Z"
   },
   {
    "duration": 6,
    "start_time": "2021-12-08T16:57:27.153Z"
   },
   {
    "duration": 114,
    "start_time": "2021-12-08T17:06:45.461Z"
   },
   {
    "duration": 100,
    "start_time": "2021-12-08T17:07:09.770Z"
   }
  ],
  "kernelspec": {
   "display_name": "Python 3",
   "language": "python",
   "name": "python3"
  },
  "language_info": {
   "codemirror_mode": {
    "name": "ipython",
    "version": 3
   },
   "file_extension": ".py",
   "mimetype": "text/x-python",
   "name": "python",
   "nbconvert_exporter": "python",
   "pygments_lexer": "ipython3",
   "version": "3.7.8"
  },
  "toc": {
   "base_numbering": 1,
   "nav_menu": {},
   "number_sections": true,
   "sideBar": true,
   "skip_h1_title": true,
   "title_cell": "Содержание",
   "title_sidebar": "Contents",
   "toc_cell": true,
   "toc_position": {
    "height": "calc(100% - 180px)",
    "left": "10px",
    "top": "150px",
    "width": "165px"
   },
   "toc_section_display": true,
   "toc_window_display": true
  }
 },
 "nbformat": 4,
 "nbformat_minor": 2
}
